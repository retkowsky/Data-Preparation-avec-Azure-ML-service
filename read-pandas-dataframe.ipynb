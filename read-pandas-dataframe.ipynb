{
  "cells": [
    {
      "metadata": {
        "trusted": true
      },
      "cell_type": "code",
      "source": "!pip install azureml",
      "execution_count": 1,
      "outputs": [
        {
          "output_type": "stream",
          "text": "Requirement already satisfied: azureml in /home/nbuser/anaconda3_501/lib/python3.6/site-packages (0.2.7)\nRequirement already satisfied: pandas in /home/nbuser/anaconda3_501/lib/python3.6/site-packages (from azureml) (0.22.0)\nRequirement already satisfied: requests in /home/nbuser/anaconda3_501/lib/python3.6/site-packages (from azureml) (2.19.1)\nRequirement already satisfied: python-dateutil in /home/nbuser/anaconda3_501/lib/python3.6/site-packages (from azureml) (2.7.3)\nRequirement already satisfied: pytz>=2011k in /home/nbuser/anaconda3_501/lib/python3.6/site-packages (from pandas->azureml) (2018.5)\nRequirement already satisfied: numpy>=1.9.0 in /home/nbuser/anaconda3_501/lib/python3.6/site-packages (from pandas->azureml) (1.14.5)\nRequirement already satisfied: certifi>=2017.4.17 in /home/nbuser/anaconda3_501/lib/python3.6/site-packages (from requests->azureml) (2018.8.24)\nRequirement already satisfied: idna<2.8,>=2.5 in /home/nbuser/anaconda3_501/lib/python3.6/site-packages (from requests->azureml) (2.7)\nRequirement already satisfied: urllib3<1.24,>=1.21.1 in /home/nbuser/anaconda3_501/lib/python3.6/site-packages (from requests->azureml) (1.23)\nRequirement already satisfied: chardet<3.1.0,>=3.0.2 in /home/nbuser/anaconda3_501/lib/python3.6/site-packages (from requests->azureml) (3.0.4)\nRequirement already satisfied: six>=1.5 in /home/nbuser/anaconda3_501/lib/python3.6/site-packages (from python-dateutil->azureml) (1.11.0)\n",
          "name": "stdout"
        }
      ]
    },
    {
      "metadata": {
        "trusted": true
      },
      "cell_type": "code",
      "source": "import azureml.dataprep as dprep",
      "execution_count": 2,
      "outputs": []
    },
    {
      "metadata": {
        "trusted": true
      },
      "cell_type": "code",
      "source": "dflow = dprep.read_excel(path='./data/excel.xlsx')\ndflow = dflow.drop_columns(columns=['Column1'])\ndf = dflow.to_pandas_dataframe()\ndf.head(10)",
      "execution_count": 3,
      "outputs": [
        {
          "output_type": "execute_result",
          "execution_count": 3,
          "data": {
            "text/html": "<div>\n<style scoped>\n    .dataframe tbody tr th:only-of-type {\n        vertical-align: middle;\n    }\n\n    .dataframe tbody tr th {\n        vertical-align: top;\n    }\n\n    .dataframe thead th {\n        text-align: right;\n    }\n</style>\n<table border=\"1\" class=\"dataframe\">\n  <thead>\n    <tr style=\"text-align: right;\">\n      <th></th>\n      <th>Column2</th>\n      <th>Column3</th>\n      <th>Column4</th>\n      <th>Column5</th>\n      <th>Column6</th>\n      <th>Column7</th>\n      <th>Column8</th>\n    </tr>\n  </thead>\n  <tbody>\n    <tr>\n      <th>0</th>\n      <td>Iron, IVB</td>\n      <td>6e+07</td>\n      <td>Found</td>\n      <td>1920</td>\n      <td>http://www.lpi.usra.edu/meteor/metbull.php?cod...</td>\n      <td>-19.5833</td>\n      <td>17.9167</td>\n    </tr>\n    <tr>\n      <th>1</th>\n      <td>Iron, IIIAB</td>\n      <td>5.82e+07</td>\n      <td>Found</td>\n      <td>1818</td>\n      <td>http://www.lpi.usra.edu/meteor/metbull.php?cod...</td>\n      <td>76.1333</td>\n      <td>-64.9333</td>\n    </tr>\n    <tr>\n      <th>2</th>\n      <td>Iron, IAB-MG</td>\n      <td>5e+07</td>\n      <td>Found</td>\n      <td>1576</td>\n      <td>http://www.lpi.usra.edu/meteor/metbull.php?cod...</td>\n      <td>-27.4667</td>\n      <td>-60.5833</td>\n    </tr>\n    <tr>\n      <th>3</th>\n      <td>Iron, IAB-MG</td>\n      <td>3e+07</td>\n      <td>Found</td>\n      <td>1891</td>\n      <td>http://www.lpi.usra.edu/meteor/metbull.php?cod...</td>\n      <td>35.05</td>\n      <td>-111.033</td>\n    </tr>\n    <tr>\n      <th>4</th>\n      <td>Iron, IIIE</td>\n      <td>2.8e+07</td>\n      <td>Found</td>\n      <td>1898</td>\n      <td>http://www.lpi.usra.edu/meteor/metbull.php?cod...</td>\n      <td>47</td>\n      <td>88</td>\n    </tr>\n    <tr>\n      <th>5</th>\n      <td>Iron, IVA</td>\n      <td>2.6e+07</td>\n      <td>Found</td>\n      <td>1836</td>\n      <td>http://www.lpi.usra.edu/meteor/metbull.php?cod...</td>\n      <td>-25.5</td>\n      <td>18</td>\n    </tr>\n    <tr>\n      <th>6</th>\n      <td>Iron, IIIAB</td>\n      <td>2.43e+07</td>\n      <td>Found</td>\n      <td>1852</td>\n      <td>http://www.lpi.usra.edu/meteor/metbull.php?cod...</td>\n      <td>27</td>\n      <td>-105.1</td>\n    </tr>\n    <tr>\n      <th>7</th>\n      <td>Iron, IAB-ung</td>\n      <td>2.4e+07</td>\n      <td>Found</td>\n      <td>1911</td>\n      <td>http://www.lpi.usra.edu/meteor/metbull.php?cod...</td>\n      <td>-30.7833</td>\n      <td>127.55</td>\n    </tr>\n    <tr>\n      <th>8</th>\n      <td>Iron, IIAB</td>\n      <td>2.3e+07</td>\n      <td>Fell</td>\n      <td>1947</td>\n      <td>http://www.lpi.usra.edu/meteor/metbull.php?cod...</td>\n      <td>46.16</td>\n      <td>134.653</td>\n    </tr>\n    <tr>\n      <th>9</th>\n      <td>Iron, ungrouped</td>\n      <td>2.2e+07</td>\n      <td>Found</td>\n      <td>1863</td>\n      <td>http://www.lpi.usra.edu/meteor/metbull.php?cod...</td>\n      <td>26.2</td>\n      <td>-107.833</td>\n    </tr>\n  </tbody>\n</table>\n</div>",
            "text/plain": "           Column2   Column3 Column4 Column5  \\\n0        Iron, IVB     6e+07   Found    1920   \n1      Iron, IIIAB  5.82e+07   Found    1818   \n2     Iron, IAB-MG     5e+07   Found    1576   \n3     Iron, IAB-MG     3e+07   Found    1891   \n4       Iron, IIIE   2.8e+07   Found    1898   \n5        Iron, IVA   2.6e+07   Found    1836   \n6      Iron, IIIAB  2.43e+07   Found    1852   \n7    Iron, IAB-ung   2.4e+07   Found    1911   \n8       Iron, IIAB   2.3e+07    Fell    1947   \n9  Iron, ungrouped   2.2e+07   Found    1863   \n\n                                             Column6  Column7  Column8  \n0  http://www.lpi.usra.edu/meteor/metbull.php?cod... -19.5833  17.9167  \n1  http://www.lpi.usra.edu/meteor/metbull.php?cod...  76.1333 -64.9333  \n2  http://www.lpi.usra.edu/meteor/metbull.php?cod... -27.4667 -60.5833  \n3  http://www.lpi.usra.edu/meteor/metbull.php?cod...    35.05 -111.033  \n4  http://www.lpi.usra.edu/meteor/metbull.php?cod...       47       88  \n5  http://www.lpi.usra.edu/meteor/metbull.php?cod...    -25.5       18  \n6  http://www.lpi.usra.edu/meteor/metbull.php?cod...       27   -105.1  \n7  http://www.lpi.usra.edu/meteor/metbull.php?cod... -30.7833   127.55  \n8  http://www.lpi.usra.edu/meteor/metbull.php?cod...    46.16  134.653  \n9  http://www.lpi.usra.edu/meteor/metbull.php?cod...     26.2 -107.833  "
          },
          "metadata": {}
        }
      ]
    },
    {
      "metadata": {},
      "cell_type": "markdown",
      "source": "## read_pandas_dataframe\n\nThere are situations where you may already have some data in the form of a pandas DataFrame.\nThe steps taken to get to this DataFrame may be non-trivial or not easy to convert to dprep operations. The 'read_pandas_dataframe' reader can take a DataFrame and use it as the datasource for a Dataflow.\nIt is also required to pass in a path to a directory (that exists) where DataPrep can store the contents of the DataFrame. The files written to this directory will be named 'part-00000' and so on, they are written out as DataPrep's internal row based file format."
    },
    {
      "metadata": {
        "trusted": true
      },
      "cell_type": "code",
      "source": "import shutil\ncache_dir = 'df_dflow'\nshutil.rmtree(cache_dir, ignore_errors=True)\ndf_dflow = dprep.read_pandas_dataframe(df, cache_dir)",
      "execution_count": 5,
      "outputs": [
        {
          "output_type": "error",
          "ename": "AttributeError",
          "evalue": "module 'azureml.dataprep' has no attribute 'read_pandas_dataframe'",
          "traceback": [
            "\u001b[0;31m---------------------------------------------------------------------------\u001b[0m",
            "\u001b[0;31mAttributeError\u001b[0m                            Traceback (most recent call last)",
            "\u001b[0;32m<ipython-input-5-c1b12711f4ac>\u001b[0m in \u001b[0;36m<module>\u001b[0;34m\u001b[0m\n\u001b[1;32m      2\u001b[0m \u001b[0mcache_dir\u001b[0m \u001b[0;34m=\u001b[0m \u001b[0;34m'df_dflow'\u001b[0m\u001b[0;34m\u001b[0m\u001b[0m\n\u001b[1;32m      3\u001b[0m \u001b[0mshutil\u001b[0m\u001b[0;34m.\u001b[0m\u001b[0mrmtree\u001b[0m\u001b[0;34m(\u001b[0m\u001b[0mcache_dir\u001b[0m\u001b[0;34m,\u001b[0m \u001b[0mignore_errors\u001b[0m\u001b[0;34m=\u001b[0m\u001b[0;32mTrue\u001b[0m\u001b[0;34m)\u001b[0m\u001b[0;34m\u001b[0m\u001b[0m\n\u001b[0;32m----> 4\u001b[0;31m \u001b[0mdf_dflow\u001b[0m \u001b[0;34m=\u001b[0m \u001b[0mdprep\u001b[0m\u001b[0;34m.\u001b[0m\u001b[0mread_pandas_dataframe\u001b[0m\u001b[0;34m(\u001b[0m\u001b[0mdf\u001b[0m\u001b[0;34m,\u001b[0m \u001b[0mcache_dir\u001b[0m\u001b[0;34m)\u001b[0m\u001b[0;34m\u001b[0m\u001b[0m\n\u001b[0m",
            "\u001b[0;31mAttributeError\u001b[0m: module 'azureml.dataprep' has no attribute 'read_pandas_dataframe'"
          ]
        }
      ]
    },
    {
      "metadata": {
        "trusted": true
      },
      "cell_type": "code",
      "source": "df_dflow.head(10)",
      "execution_count": null,
      "outputs": []
    },
    {
      "metadata": {
        "trusted": true
      },
      "cell_type": "code",
      "source": "",
      "execution_count": null,
      "outputs": []
    }
  ],
  "metadata": {
    "execute_as_test": false,
    "kernelspec": {
      "name": "python36",
      "display_name": "Python 3.6",
      "language": "python"
    },
    "language_info": {
      "mimetype": "text/x-python",
      "nbconvert_exporter": "python",
      "name": "python",
      "pygments_lexer": "ipython3",
      "version": "3.6.6",
      "file_extension": ".py",
      "codemirror_mode": {
        "version": 3,
        "name": "ipython"
      }
    }
  },
  "nbformat": 4,
  "nbformat_minor": 2
}