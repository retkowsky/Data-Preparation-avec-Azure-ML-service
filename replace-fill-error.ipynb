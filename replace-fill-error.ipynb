{
  "cells": [
    {
      "metadata": {},
      "cell_type": "markdown",
      "source": "# Replace, Fill, Error\nCopyright (c) Microsoft Corporation. All rights reserved.<br>\nLicensed under the MIT License."
    },
    {
      "metadata": {},
      "cell_type": "markdown",
      "source": "You can use the methods in this notebook to change values in your dataset.\n\n* replace - use this method to replace a value with another value. You can also use this to replace null with a value, or a value with null\n* error - use this method to replace a value with an error.\n* fill_nulls - this method lets you fill all nulls in a column with a certain value.\n* fill_errors - this method lets you fill all errors in a column with a certain value."
    },
    {
      "metadata": {},
      "cell_type": "markdown",
      "source": "## Setup"
    },
    {
      "metadata": {
        "trusted": true
      },
      "cell_type": "code",
      "source": "!pip install azureml",
      "execution_count": 1,
      "outputs": [
        {
          "output_type": "stream",
          "text": "Requirement already satisfied: azureml in /home/nbuser/anaconda3_501/lib/python3.6/site-packages (0.2.7)\nRequirement already satisfied: requests in /home/nbuser/anaconda3_501/lib/python3.6/site-packages (from azureml) (2.19.1)\nRequirement already satisfied: pandas in /home/nbuser/anaconda3_501/lib/python3.6/site-packages (from azureml) (0.22.0)\nRequirement already satisfied: python-dateutil in /home/nbuser/anaconda3_501/lib/python3.6/site-packages (from azureml) (2.7.3)\nRequirement already satisfied: urllib3<1.24,>=1.21.1 in /home/nbuser/anaconda3_501/lib/python3.6/site-packages (from requests->azureml) (1.23)\nRequirement already satisfied: chardet<3.1.0,>=3.0.2 in /home/nbuser/anaconda3_501/lib/python3.6/site-packages (from requests->azureml) (3.0.4)\nRequirement already satisfied: idna<2.8,>=2.5 in /home/nbuser/anaconda3_501/lib/python3.6/site-packages (from requests->azureml) (2.7)\nRequirement already satisfied: certifi>=2017.4.17 in /home/nbuser/anaconda3_501/lib/python3.6/site-packages (from requests->azureml) (2018.8.24)\nRequirement already satisfied: pytz>=2011k in /home/nbuser/anaconda3_501/lib/python3.6/site-packages (from pandas->azureml) (2018.5)\nRequirement already satisfied: numpy>=1.9.0 in /home/nbuser/anaconda3_501/lib/python3.6/site-packages (from pandas->azureml) (1.14.5)\nRequirement already satisfied: six>=1.5 in /home/nbuser/anaconda3_501/lib/python3.6/site-packages (from python-dateutil->azureml) (1.11.0)\n",
          "name": "stdout"
        }
      ]
    },
    {
      "metadata": {
        "trusted": true
      },
      "cell_type": "code",
      "source": "import azureml.dataprep as dprep",
      "execution_count": 2,
      "outputs": []
    },
    {
      "metadata": {
        "trusted": true
      },
      "cell_type": "code",
      "source": "dataflow = dprep.read_csv(path='https://dpreptestfiles.blob.core.windows.net/testfiles/BostonWeather.csv')\ndataflow.head(1)",
      "execution_count": 3,
      "outputs": [
        {
          "output_type": "execute_result",
          "execution_count": 3,
          "data": {
            "text/html": "<div>\n<style scoped>\n    .dataframe tbody tr th:only-of-type {\n        vertical-align: middle;\n    }\n\n    .dataframe tbody tr th {\n        vertical-align: top;\n    }\n\n    .dataframe thead th {\n        text-align: right;\n    }\n</style>\n<table border=\"1\" class=\"dataframe\">\n  <thead>\n    <tr style=\"text-align: right;\">\n      <th></th>\n      <th>DATE</th>\n      <th>REPORTTPYE</th>\n      <th>HOURLYDRYBULBTEMPF</th>\n      <th>HOURLYRelativeHumidity</th>\n      <th>HOURLYWindSpeed</th>\n    </tr>\n  </thead>\n  <tbody>\n    <tr>\n      <th>0</th>\n      <td>1/1/2015 0:54</td>\n      <td>FM-15</td>\n      <td>22</td>\n      <td>50</td>\n      <td>10</td>\n    </tr>\n  </tbody>\n</table>\n</div>",
            "text/plain": "            DATE REPORTTPYE HOURLYDRYBULBTEMPF HOURLYRelativeHumidity  \\\n0  1/1/2015 0:54      FM-15                 22                     50   \n\n  HOURLYWindSpeed  \n0              10  "
          },
          "metadata": {}
        }
      ]
    },
    {
      "metadata": {
        "trusted": true
      },
      "cell_type": "code",
      "source": "dataflow = dataflow.to_datetime('DATE', ['%m/%d/%Y %H:%M'])\ndataflow = dataflow.to_number(['HOURLYDRYBULBTEMPF', 'HOURLYRelativeHumidity', 'HOURLYWindSpeed'])\ndataflow.head(1)",
      "execution_count": 4,
      "outputs": [
        {
          "output_type": "execute_result",
          "execution_count": 4,
          "data": {
            "text/html": "<div>\n<style scoped>\n    .dataframe tbody tr th:only-of-type {\n        vertical-align: middle;\n    }\n\n    .dataframe tbody tr th {\n        vertical-align: top;\n    }\n\n    .dataframe thead th {\n        text-align: right;\n    }\n</style>\n<table border=\"1\" class=\"dataframe\">\n  <thead>\n    <tr style=\"text-align: right;\">\n      <th></th>\n      <th>DATE</th>\n      <th>REPORTTPYE</th>\n      <th>HOURLYDRYBULBTEMPF</th>\n      <th>HOURLYRelativeHumidity</th>\n      <th>HOURLYWindSpeed</th>\n    </tr>\n  </thead>\n  <tbody>\n    <tr>\n      <th>0</th>\n      <td>2015-01-01 00:54:00</td>\n      <td>FM-15</td>\n      <td>22.0</td>\n      <td>50.0</td>\n      <td>10.0</td>\n    </tr>\n  </tbody>\n</table>\n</div>",
            "text/plain": "                 DATE REPORTTPYE  HOURLYDRYBULBTEMPF  HOURLYRelativeHumidity  \\\n0 2015-01-01 00:54:00      FM-15                22.0                    50.0   \n\n   HOURLYWindSpeed  \n0             10.0  "
          },
          "metadata": {}
        }
      ]
    },
    {
      "metadata": {},
      "cell_type": "markdown",
      "source": "## Replace"
    },
    {
      "metadata": {},
      "cell_type": "markdown",
      "source": "### String\nIn this example, we replace a string value with another string value."
    },
    {
      "metadata": {
        "trusted": true
      },
      "cell_type": "code",
      "source": "dataflow = dataflow.replace('REPORTTPYE', 'FM-15', 'FM-XX')\nh = dataflow.head(10)\nh",
      "execution_count": 5,
      "outputs": [
        {
          "output_type": "execute_result",
          "execution_count": 5,
          "data": {
            "text/html": "<div>\n<style scoped>\n    .dataframe tbody tr th:only-of-type {\n        vertical-align: middle;\n    }\n\n    .dataframe tbody tr th {\n        vertical-align: top;\n    }\n\n    .dataframe thead th {\n        text-align: right;\n    }\n</style>\n<table border=\"1\" class=\"dataframe\">\n  <thead>\n    <tr style=\"text-align: right;\">\n      <th></th>\n      <th>DATE</th>\n      <th>REPORTTPYE</th>\n      <th>HOURLYDRYBULBTEMPF</th>\n      <th>HOURLYRelativeHumidity</th>\n      <th>HOURLYWindSpeed</th>\n    </tr>\n  </thead>\n  <tbody>\n    <tr>\n      <th>0</th>\n      <td>2015-01-01 00:54:00</td>\n      <td>FM-XX</td>\n      <td>22.0</td>\n      <td>50.0</td>\n      <td>10.0</td>\n    </tr>\n    <tr>\n      <th>1</th>\n      <td>2015-01-01 01:00:00</td>\n      <td>FM-12</td>\n      <td>22.0</td>\n      <td>50.0</td>\n      <td>10.0</td>\n    </tr>\n    <tr>\n      <th>2</th>\n      <td>2015-01-01 01:54:00</td>\n      <td>FM-XX</td>\n      <td>22.0</td>\n      <td>50.0</td>\n      <td>10.0</td>\n    </tr>\n    <tr>\n      <th>3</th>\n      <td>2015-01-01 02:54:00</td>\n      <td>FM-XX</td>\n      <td>22.0</td>\n      <td>50.0</td>\n      <td>11.0</td>\n    </tr>\n    <tr>\n      <th>4</th>\n      <td>2015-01-01 03:54:00</td>\n      <td>FM-XX</td>\n      <td>24.0</td>\n      <td>46.0</td>\n      <td>13.0</td>\n    </tr>\n    <tr>\n      <th>5</th>\n      <td>2015-01-01 04:00:00</td>\n      <td>FM-12</td>\n      <td>24.0</td>\n      <td>46.0</td>\n      <td>13.0</td>\n    </tr>\n    <tr>\n      <th>6</th>\n      <td>2015-01-01 04:54:00</td>\n      <td>FM-XX</td>\n      <td>22.0</td>\n      <td>52.0</td>\n      <td>15.0</td>\n    </tr>\n    <tr>\n      <th>7</th>\n      <td>2015-01-01 05:54:00</td>\n      <td>FM-XX</td>\n      <td>23.0</td>\n      <td>48.0</td>\n      <td>17.0</td>\n    </tr>\n    <tr>\n      <th>8</th>\n      <td>2015-01-01 06:54:00</td>\n      <td>FM-XX</td>\n      <td>23.0</td>\n      <td>50.0</td>\n      <td>14.0</td>\n    </tr>\n    <tr>\n      <th>9</th>\n      <td>2015-01-01 07:00:00</td>\n      <td>FM-12</td>\n      <td>23.0</td>\n      <td>50.0</td>\n      <td>14.0</td>\n    </tr>\n  </tbody>\n</table>\n</div>",
            "text/plain": "                 DATE REPORTTPYE  HOURLYDRYBULBTEMPF  HOURLYRelativeHumidity  \\\n0 2015-01-01 00:54:00      FM-XX                22.0                    50.0   \n1 2015-01-01 01:00:00      FM-12                22.0                    50.0   \n2 2015-01-01 01:54:00      FM-XX                22.0                    50.0   \n3 2015-01-01 02:54:00      FM-XX                22.0                    50.0   \n4 2015-01-01 03:54:00      FM-XX                24.0                    46.0   \n5 2015-01-01 04:00:00      FM-12                24.0                    46.0   \n6 2015-01-01 04:54:00      FM-XX                22.0                    52.0   \n7 2015-01-01 05:54:00      FM-XX                23.0                    48.0   \n8 2015-01-01 06:54:00      FM-XX                23.0                    50.0   \n9 2015-01-01 07:00:00      FM-12                23.0                    50.0   \n\n   HOURLYWindSpeed  \n0             10.0  \n1             10.0  \n2             10.0  \n3             11.0  \n4             13.0  \n5             13.0  \n6             15.0  \n7             17.0  \n8             14.0  \n9             14.0  "
          },
          "metadata": {}
        }
      ]
    },
    {
      "metadata": {},
      "cell_type": "markdown",
      "source": "In this example, we use replace to remove a certain string value from the column, replacing it with null. Note that Pandas shows null values as None."
    },
    {
      "metadata": {
        "trusted": true
      },
      "cell_type": "code",
      "source": "dataflow = dataflow.replace('REPORTTPYE', 'FM-12', None)\nh = dataflow.head(10)\nh",
      "execution_count": 6,
      "outputs": [
        {
          "output_type": "execute_result",
          "execution_count": 6,
          "data": {
            "text/html": "<div>\n<style scoped>\n    .dataframe tbody tr th:only-of-type {\n        vertical-align: middle;\n    }\n\n    .dataframe tbody tr th {\n        vertical-align: top;\n    }\n\n    .dataframe thead th {\n        text-align: right;\n    }\n</style>\n<table border=\"1\" class=\"dataframe\">\n  <thead>\n    <tr style=\"text-align: right;\">\n      <th></th>\n      <th>DATE</th>\n      <th>REPORTTPYE</th>\n      <th>HOURLYDRYBULBTEMPF</th>\n      <th>HOURLYRelativeHumidity</th>\n      <th>HOURLYWindSpeed</th>\n    </tr>\n  </thead>\n  <tbody>\n    <tr>\n      <th>0</th>\n      <td>2015-01-01 00:54:00</td>\n      <td>FM-XX</td>\n      <td>22.0</td>\n      <td>50.0</td>\n      <td>10.0</td>\n    </tr>\n    <tr>\n      <th>1</th>\n      <td>2015-01-01 01:00:00</td>\n      <td>None</td>\n      <td>22.0</td>\n      <td>50.0</td>\n      <td>10.0</td>\n    </tr>\n    <tr>\n      <th>2</th>\n      <td>2015-01-01 01:54:00</td>\n      <td>FM-XX</td>\n      <td>22.0</td>\n      <td>50.0</td>\n      <td>10.0</td>\n    </tr>\n    <tr>\n      <th>3</th>\n      <td>2015-01-01 02:54:00</td>\n      <td>FM-XX</td>\n      <td>22.0</td>\n      <td>50.0</td>\n      <td>11.0</td>\n    </tr>\n    <tr>\n      <th>4</th>\n      <td>2015-01-01 03:54:00</td>\n      <td>FM-XX</td>\n      <td>24.0</td>\n      <td>46.0</td>\n      <td>13.0</td>\n    </tr>\n    <tr>\n      <th>5</th>\n      <td>2015-01-01 04:00:00</td>\n      <td>None</td>\n      <td>24.0</td>\n      <td>46.0</td>\n      <td>13.0</td>\n    </tr>\n    <tr>\n      <th>6</th>\n      <td>2015-01-01 04:54:00</td>\n      <td>FM-XX</td>\n      <td>22.0</td>\n      <td>52.0</td>\n      <td>15.0</td>\n    </tr>\n    <tr>\n      <th>7</th>\n      <td>2015-01-01 05:54:00</td>\n      <td>FM-XX</td>\n      <td>23.0</td>\n      <td>48.0</td>\n      <td>17.0</td>\n    </tr>\n    <tr>\n      <th>8</th>\n      <td>2015-01-01 06:54:00</td>\n      <td>FM-XX</td>\n      <td>23.0</td>\n      <td>50.0</td>\n      <td>14.0</td>\n    </tr>\n    <tr>\n      <th>9</th>\n      <td>2015-01-01 07:00:00</td>\n      <td>None</td>\n      <td>23.0</td>\n      <td>50.0</td>\n      <td>14.0</td>\n    </tr>\n  </tbody>\n</table>\n</div>",
            "text/plain": "                 DATE REPORTTPYE  HOURLYDRYBULBTEMPF  HOURLYRelativeHumidity  \\\n0 2015-01-01 00:54:00      FM-XX                22.0                    50.0   \n1 2015-01-01 01:00:00       None                22.0                    50.0   \n2 2015-01-01 01:54:00      FM-XX                22.0                    50.0   \n3 2015-01-01 02:54:00      FM-XX                22.0                    50.0   \n4 2015-01-01 03:54:00      FM-XX                24.0                    46.0   \n5 2015-01-01 04:00:00       None                24.0                    46.0   \n6 2015-01-01 04:54:00      FM-XX                22.0                    52.0   \n7 2015-01-01 05:54:00      FM-XX                23.0                    48.0   \n8 2015-01-01 06:54:00      FM-XX                23.0                    50.0   \n9 2015-01-01 07:00:00       None                23.0                    50.0   \n\n   HOURLYWindSpeed  \n0             10.0  \n1             10.0  \n2             10.0  \n3             11.0  \n4             13.0  \n5             13.0  \n6             15.0  \n7             17.0  \n8             14.0  \n9             14.0  "
          },
          "metadata": {}
        }
      ]
    },
    {
      "metadata": {},
      "cell_type": "markdown",
      "source": "### Numeric\nIn this example, we replace a numeric value with another numeric value."
    },
    {
      "metadata": {
        "trusted": true
      },
      "cell_type": "code",
      "source": "dataflow = dataflow.replace('HOURLYRelativeHumidity', 52, 999)\nh = dataflow.head(10)\nh",
      "execution_count": 7,
      "outputs": [
        {
          "output_type": "execute_result",
          "execution_count": 7,
          "data": {
            "text/html": "<div>\n<style scoped>\n    .dataframe tbody tr th:only-of-type {\n        vertical-align: middle;\n    }\n\n    .dataframe tbody tr th {\n        vertical-align: top;\n    }\n\n    .dataframe thead th {\n        text-align: right;\n    }\n</style>\n<table border=\"1\" class=\"dataframe\">\n  <thead>\n    <tr style=\"text-align: right;\">\n      <th></th>\n      <th>DATE</th>\n      <th>REPORTTPYE</th>\n      <th>HOURLYDRYBULBTEMPF</th>\n      <th>HOURLYRelativeHumidity</th>\n      <th>HOURLYWindSpeed</th>\n    </tr>\n  </thead>\n  <tbody>\n    <tr>\n      <th>0</th>\n      <td>2015-01-01 00:54:00</td>\n      <td>FM-XX</td>\n      <td>22.0</td>\n      <td>50.0</td>\n      <td>10.0</td>\n    </tr>\n    <tr>\n      <th>1</th>\n      <td>2015-01-01 01:00:00</td>\n      <td>None</td>\n      <td>22.0</td>\n      <td>50.0</td>\n      <td>10.0</td>\n    </tr>\n    <tr>\n      <th>2</th>\n      <td>2015-01-01 01:54:00</td>\n      <td>FM-XX</td>\n      <td>22.0</td>\n      <td>50.0</td>\n      <td>10.0</td>\n    </tr>\n    <tr>\n      <th>3</th>\n      <td>2015-01-01 02:54:00</td>\n      <td>FM-XX</td>\n      <td>22.0</td>\n      <td>50.0</td>\n      <td>11.0</td>\n    </tr>\n    <tr>\n      <th>4</th>\n      <td>2015-01-01 03:54:00</td>\n      <td>FM-XX</td>\n      <td>24.0</td>\n      <td>46.0</td>\n      <td>13.0</td>\n    </tr>\n    <tr>\n      <th>5</th>\n      <td>2015-01-01 04:00:00</td>\n      <td>None</td>\n      <td>24.0</td>\n      <td>46.0</td>\n      <td>13.0</td>\n    </tr>\n    <tr>\n      <th>6</th>\n      <td>2015-01-01 04:54:00</td>\n      <td>FM-XX</td>\n      <td>22.0</td>\n      <td>999.0</td>\n      <td>15.0</td>\n    </tr>\n    <tr>\n      <th>7</th>\n      <td>2015-01-01 05:54:00</td>\n      <td>FM-XX</td>\n      <td>23.0</td>\n      <td>48.0</td>\n      <td>17.0</td>\n    </tr>\n    <tr>\n      <th>8</th>\n      <td>2015-01-01 06:54:00</td>\n      <td>FM-XX</td>\n      <td>23.0</td>\n      <td>50.0</td>\n      <td>14.0</td>\n    </tr>\n    <tr>\n      <th>9</th>\n      <td>2015-01-01 07:00:00</td>\n      <td>None</td>\n      <td>23.0</td>\n      <td>50.0</td>\n      <td>14.0</td>\n    </tr>\n  </tbody>\n</table>\n</div>",
            "text/plain": "                 DATE REPORTTPYE  HOURLYDRYBULBTEMPF  HOURLYRelativeHumidity  \\\n0 2015-01-01 00:54:00      FM-XX                22.0                    50.0   \n1 2015-01-01 01:00:00       None                22.0                    50.0   \n2 2015-01-01 01:54:00      FM-XX                22.0                    50.0   \n3 2015-01-01 02:54:00      FM-XX                22.0                    50.0   \n4 2015-01-01 03:54:00      FM-XX                24.0                    46.0   \n5 2015-01-01 04:00:00       None                24.0                    46.0   \n6 2015-01-01 04:54:00      FM-XX                22.0                   999.0   \n7 2015-01-01 05:54:00      FM-XX                23.0                    48.0   \n8 2015-01-01 06:54:00      FM-XX                23.0                    50.0   \n9 2015-01-01 07:00:00       None                23.0                    50.0   \n\n   HOURLYWindSpeed  \n0             10.0  \n1             10.0  \n2             10.0  \n3             11.0  \n4             13.0  \n5             13.0  \n6             15.0  \n7             17.0  \n8             14.0  \n9             14.0  "
          },
          "metadata": {}
        }
      ]
    },
    {
      "metadata": {},
      "cell_type": "markdown",
      "source": "### Date\nIn this final example, we use replace to swap in a new Date for an existing Date in the data."
    },
    {
      "metadata": {
        "trusted": true
      },
      "cell_type": "code",
      "source": "from datetime import datetime, timezone\ndataflow = dataflow.replace('DATE', \n                 datetime(2015, 1, 1, 1, 54, tzinfo=timezone.utc), \n                 datetime(2018, 7, 4, 0, 0, tzinfo=timezone.utc))\nh = dataflow.head(10)\nh",
      "execution_count": 8,
      "outputs": [
        {
          "output_type": "execute_result",
          "execution_count": 8,
          "data": {
            "text/html": "<div>\n<style scoped>\n    .dataframe tbody tr th:only-of-type {\n        vertical-align: middle;\n    }\n\n    .dataframe tbody tr th {\n        vertical-align: top;\n    }\n\n    .dataframe thead th {\n        text-align: right;\n    }\n</style>\n<table border=\"1\" class=\"dataframe\">\n  <thead>\n    <tr style=\"text-align: right;\">\n      <th></th>\n      <th>DATE</th>\n      <th>REPORTTPYE</th>\n      <th>HOURLYDRYBULBTEMPF</th>\n      <th>HOURLYRelativeHumidity</th>\n      <th>HOURLYWindSpeed</th>\n    </tr>\n  </thead>\n  <tbody>\n    <tr>\n      <th>0</th>\n      <td>2015-01-01 00:54:00</td>\n      <td>FM-XX</td>\n      <td>22.0</td>\n      <td>50.0</td>\n      <td>10.0</td>\n    </tr>\n    <tr>\n      <th>1</th>\n      <td>2015-01-01 01:00:00</td>\n      <td>None</td>\n      <td>22.0</td>\n      <td>50.0</td>\n      <td>10.0</td>\n    </tr>\n    <tr>\n      <th>2</th>\n      <td>2018-07-04 00:00:00</td>\n      <td>FM-XX</td>\n      <td>22.0</td>\n      <td>50.0</td>\n      <td>10.0</td>\n    </tr>\n    <tr>\n      <th>3</th>\n      <td>2015-01-01 02:54:00</td>\n      <td>FM-XX</td>\n      <td>22.0</td>\n      <td>50.0</td>\n      <td>11.0</td>\n    </tr>\n    <tr>\n      <th>4</th>\n      <td>2015-01-01 03:54:00</td>\n      <td>FM-XX</td>\n      <td>24.0</td>\n      <td>46.0</td>\n      <td>13.0</td>\n    </tr>\n    <tr>\n      <th>5</th>\n      <td>2015-01-01 04:00:00</td>\n      <td>None</td>\n      <td>24.0</td>\n      <td>46.0</td>\n      <td>13.0</td>\n    </tr>\n    <tr>\n      <th>6</th>\n      <td>2015-01-01 04:54:00</td>\n      <td>FM-XX</td>\n      <td>22.0</td>\n      <td>999.0</td>\n      <td>15.0</td>\n    </tr>\n    <tr>\n      <th>7</th>\n      <td>2015-01-01 05:54:00</td>\n      <td>FM-XX</td>\n      <td>23.0</td>\n      <td>48.0</td>\n      <td>17.0</td>\n    </tr>\n    <tr>\n      <th>8</th>\n      <td>2015-01-01 06:54:00</td>\n      <td>FM-XX</td>\n      <td>23.0</td>\n      <td>50.0</td>\n      <td>14.0</td>\n    </tr>\n    <tr>\n      <th>9</th>\n      <td>2015-01-01 07:00:00</td>\n      <td>None</td>\n      <td>23.0</td>\n      <td>50.0</td>\n      <td>14.0</td>\n    </tr>\n  </tbody>\n</table>\n</div>",
            "text/plain": "                 DATE REPORTTPYE  HOURLYDRYBULBTEMPF  HOURLYRelativeHumidity  \\\n0 2015-01-01 00:54:00      FM-XX                22.0                    50.0   \n1 2015-01-01 01:00:00       None                22.0                    50.0   \n2 2018-07-04 00:00:00      FM-XX                22.0                    50.0   \n3 2015-01-01 02:54:00      FM-XX                22.0                    50.0   \n4 2015-01-01 03:54:00      FM-XX                24.0                    46.0   \n5 2015-01-01 04:00:00       None                24.0                    46.0   \n6 2015-01-01 04:54:00      FM-XX                22.0                   999.0   \n7 2015-01-01 05:54:00      FM-XX                23.0                    48.0   \n8 2015-01-01 06:54:00      FM-XX                23.0                    50.0   \n9 2015-01-01 07:00:00       None                23.0                    50.0   \n\n   HOURLYWindSpeed  \n0             10.0  \n1             10.0  \n2             10.0  \n3             11.0  \n4             13.0  \n5             13.0  \n6             15.0  \n7             17.0  \n8             14.0  \n9             14.0  "
          },
          "metadata": {}
        }
      ]
    },
    {
      "metadata": {},
      "cell_type": "markdown",
      "source": "## Error\n\nThe error function lets you create Error values. We pass this function the value that we want to find, along with the Error code to use in any Errors created."
    },
    {
      "metadata": {
        "trusted": true
      },
      "cell_type": "code",
      "source": "dataflow = dataflow.error('HOURLYRelativeHumidity', 46, 'Invalid value')\nh = dataflow.head(10)\nh",
      "execution_count": 9,
      "outputs": [
        {
          "output_type": "execute_result",
          "execution_count": 9,
          "data": {
            "text/html": "<div>\n<style scoped>\n    .dataframe tbody tr th:only-of-type {\n        vertical-align: middle;\n    }\n\n    .dataframe tbody tr th {\n        vertical-align: top;\n    }\n\n    .dataframe thead th {\n        text-align: right;\n    }\n</style>\n<table border=\"1\" class=\"dataframe\">\n  <thead>\n    <tr style=\"text-align: right;\">\n      <th></th>\n      <th>DATE</th>\n      <th>REPORTTPYE</th>\n      <th>HOURLYDRYBULBTEMPF</th>\n      <th>HOURLYRelativeHumidity</th>\n      <th>HOURLYWindSpeed</th>\n    </tr>\n  </thead>\n  <tbody>\n    <tr>\n      <th>0</th>\n      <td>2015-01-01 00:54:00</td>\n      <td>FM-XX</td>\n      <td>22.0</td>\n      <td>50</td>\n      <td>10.0</td>\n    </tr>\n    <tr>\n      <th>1</th>\n      <td>2015-01-01 01:00:00</td>\n      <td>None</td>\n      <td>22.0</td>\n      <td>50</td>\n      <td>10.0</td>\n    </tr>\n    <tr>\n      <th>2</th>\n      <td>2018-07-04 00:00:00</td>\n      <td>FM-XX</td>\n      <td>22.0</td>\n      <td>50</td>\n      <td>10.0</td>\n    </tr>\n    <tr>\n      <th>3</th>\n      <td>2015-01-01 02:54:00</td>\n      <td>FM-XX</td>\n      <td>22.0</td>\n      <td>50</td>\n      <td>11.0</td>\n    </tr>\n    <tr>\n      <th>4</th>\n      <td>2015-01-01 03:54:00</td>\n      <td>FM-XX</td>\n      <td>24.0</td>\n      <td>azureml.dataprep.native.DataPrepError(\"'Invali...</td>\n      <td>13.0</td>\n    </tr>\n    <tr>\n      <th>5</th>\n      <td>2015-01-01 04:00:00</td>\n      <td>None</td>\n      <td>24.0</td>\n      <td>azureml.dataprep.native.DataPrepError(\"'Invali...</td>\n      <td>13.0</td>\n    </tr>\n    <tr>\n      <th>6</th>\n      <td>2015-01-01 04:54:00</td>\n      <td>FM-XX</td>\n      <td>22.0</td>\n      <td>999</td>\n      <td>15.0</td>\n    </tr>\n    <tr>\n      <th>7</th>\n      <td>2015-01-01 05:54:00</td>\n      <td>FM-XX</td>\n      <td>23.0</td>\n      <td>48</td>\n      <td>17.0</td>\n    </tr>\n    <tr>\n      <th>8</th>\n      <td>2015-01-01 06:54:00</td>\n      <td>FM-XX</td>\n      <td>23.0</td>\n      <td>50</td>\n      <td>14.0</td>\n    </tr>\n    <tr>\n      <th>9</th>\n      <td>2015-01-01 07:00:00</td>\n      <td>None</td>\n      <td>23.0</td>\n      <td>50</td>\n      <td>14.0</td>\n    </tr>\n  </tbody>\n</table>\n</div>",
            "text/plain": "                 DATE REPORTTPYE  HOURLYDRYBULBTEMPF  \\\n0 2015-01-01 00:54:00      FM-XX                22.0   \n1 2015-01-01 01:00:00       None                22.0   \n2 2018-07-04 00:00:00      FM-XX                22.0   \n3 2015-01-01 02:54:00      FM-XX                22.0   \n4 2015-01-01 03:54:00      FM-XX                24.0   \n5 2015-01-01 04:00:00       None                24.0   \n6 2015-01-01 04:54:00      FM-XX                22.0   \n7 2015-01-01 05:54:00      FM-XX                23.0   \n8 2015-01-01 06:54:00      FM-XX                23.0   \n9 2015-01-01 07:00:00       None                23.0   \n\n                              HOURLYRelativeHumidity  HOURLYWindSpeed  \n0                                                 50             10.0  \n1                                                 50             10.0  \n2                                                 50             10.0  \n3                                                 50             11.0  \n4  azureml.dataprep.native.DataPrepError(\"'Invali...             13.0  \n5  azureml.dataprep.native.DataPrepError(\"'Invali...             13.0  \n6                                                999             15.0  \n7                                                 48             17.0  \n8                                                 50             14.0  \n9                                                 50             14.0  "
          },
          "metadata": {}
        }
      ]
    },
    {
      "metadata": {},
      "cell_type": "markdown",
      "source": "## Fill Nulls\n\nUse the `fill_nulls` method to replace all null values in columns with another value. This is similar to Panda's fillna() method."
    },
    {
      "metadata": {
        "trusted": true
      },
      "cell_type": "code",
      "source": "dataflow = dataflow.fill_nulls('REPORTTPYE', 'N/A')\nh = dataflow.head(10)\nh",
      "execution_count": 10,
      "outputs": [
        {
          "output_type": "execute_result",
          "execution_count": 10,
          "data": {
            "text/html": "<div>\n<style scoped>\n    .dataframe tbody tr th:only-of-type {\n        vertical-align: middle;\n    }\n\n    .dataframe tbody tr th {\n        vertical-align: top;\n    }\n\n    .dataframe thead th {\n        text-align: right;\n    }\n</style>\n<table border=\"1\" class=\"dataframe\">\n  <thead>\n    <tr style=\"text-align: right;\">\n      <th></th>\n      <th>DATE</th>\n      <th>REPORTTPYE</th>\n      <th>HOURLYDRYBULBTEMPF</th>\n      <th>HOURLYRelativeHumidity</th>\n      <th>HOURLYWindSpeed</th>\n    </tr>\n  </thead>\n  <tbody>\n    <tr>\n      <th>0</th>\n      <td>2015-01-01 00:54:00</td>\n      <td>FM-XX</td>\n      <td>22.0</td>\n      <td>50</td>\n      <td>10.0</td>\n    </tr>\n    <tr>\n      <th>1</th>\n      <td>2015-01-01 01:00:00</td>\n      <td>N/A</td>\n      <td>22.0</td>\n      <td>50</td>\n      <td>10.0</td>\n    </tr>\n    <tr>\n      <th>2</th>\n      <td>2018-07-04 00:00:00</td>\n      <td>FM-XX</td>\n      <td>22.0</td>\n      <td>50</td>\n      <td>10.0</td>\n    </tr>\n    <tr>\n      <th>3</th>\n      <td>2015-01-01 02:54:00</td>\n      <td>FM-XX</td>\n      <td>22.0</td>\n      <td>50</td>\n      <td>11.0</td>\n    </tr>\n    <tr>\n      <th>4</th>\n      <td>2015-01-01 03:54:00</td>\n      <td>FM-XX</td>\n      <td>24.0</td>\n      <td>azureml.dataprep.native.DataPrepError(\"'Invali...</td>\n      <td>13.0</td>\n    </tr>\n    <tr>\n      <th>5</th>\n      <td>2015-01-01 04:00:00</td>\n      <td>N/A</td>\n      <td>24.0</td>\n      <td>azureml.dataprep.native.DataPrepError(\"'Invali...</td>\n      <td>13.0</td>\n    </tr>\n    <tr>\n      <th>6</th>\n      <td>2015-01-01 04:54:00</td>\n      <td>FM-XX</td>\n      <td>22.0</td>\n      <td>999</td>\n      <td>15.0</td>\n    </tr>\n    <tr>\n      <th>7</th>\n      <td>2015-01-01 05:54:00</td>\n      <td>FM-XX</td>\n      <td>23.0</td>\n      <td>48</td>\n      <td>17.0</td>\n    </tr>\n    <tr>\n      <th>8</th>\n      <td>2015-01-01 06:54:00</td>\n      <td>FM-XX</td>\n      <td>23.0</td>\n      <td>50</td>\n      <td>14.0</td>\n    </tr>\n    <tr>\n      <th>9</th>\n      <td>2015-01-01 07:00:00</td>\n      <td>N/A</td>\n      <td>23.0</td>\n      <td>50</td>\n      <td>14.0</td>\n    </tr>\n  </tbody>\n</table>\n</div>",
            "text/plain": "                 DATE REPORTTPYE  HOURLYDRYBULBTEMPF  \\\n0 2015-01-01 00:54:00      FM-XX                22.0   \n1 2015-01-01 01:00:00        N/A                22.0   \n2 2018-07-04 00:00:00      FM-XX                22.0   \n3 2015-01-01 02:54:00      FM-XX                22.0   \n4 2015-01-01 03:54:00      FM-XX                24.0   \n5 2015-01-01 04:00:00        N/A                24.0   \n6 2015-01-01 04:54:00      FM-XX                22.0   \n7 2015-01-01 05:54:00      FM-XX                23.0   \n8 2015-01-01 06:54:00      FM-XX                23.0   \n9 2015-01-01 07:00:00        N/A                23.0   \n\n                              HOURLYRelativeHumidity  HOURLYWindSpeed  \n0                                                 50             10.0  \n1                                                 50             10.0  \n2                                                 50             10.0  \n3                                                 50             11.0  \n4  azureml.dataprep.native.DataPrepError(\"'Invali...             13.0  \n5  azureml.dataprep.native.DataPrepError(\"'Invali...             13.0  \n6                                                999             15.0  \n7                                                 48             17.0  \n8                                                 50             14.0  \n9                                                 50             14.0  "
          },
          "metadata": {}
        }
      ]
    },
    {
      "metadata": {},
      "cell_type": "markdown",
      "source": "## Fill Errors\n\nUse the `fill_errors` method to replace all error values in columns with another value."
    },
    {
      "metadata": {
        "trusted": true
      },
      "cell_type": "code",
      "source": "dataflow = dataflow.fill_errors('HOURLYRelativeHumidity', -1)\nh = dataflow.head(10)\nh",
      "execution_count": 11,
      "outputs": [
        {
          "output_type": "execute_result",
          "execution_count": 11,
          "data": {
            "text/html": "<div>\n<style scoped>\n    .dataframe tbody tr th:only-of-type {\n        vertical-align: middle;\n    }\n\n    .dataframe tbody tr th {\n        vertical-align: top;\n    }\n\n    .dataframe thead th {\n        text-align: right;\n    }\n</style>\n<table border=\"1\" class=\"dataframe\">\n  <thead>\n    <tr style=\"text-align: right;\">\n      <th></th>\n      <th>DATE</th>\n      <th>REPORTTPYE</th>\n      <th>HOURLYDRYBULBTEMPF</th>\n      <th>HOURLYRelativeHumidity</th>\n      <th>HOURLYWindSpeed</th>\n    </tr>\n  </thead>\n  <tbody>\n    <tr>\n      <th>0</th>\n      <td>2015-01-01 00:54:00</td>\n      <td>FM-XX</td>\n      <td>22.0</td>\n      <td>50.0</td>\n      <td>10.0</td>\n    </tr>\n    <tr>\n      <th>1</th>\n      <td>2015-01-01 01:00:00</td>\n      <td>N/A</td>\n      <td>22.0</td>\n      <td>50.0</td>\n      <td>10.0</td>\n    </tr>\n    <tr>\n      <th>2</th>\n      <td>2018-07-04 00:00:00</td>\n      <td>FM-XX</td>\n      <td>22.0</td>\n      <td>50.0</td>\n      <td>10.0</td>\n    </tr>\n    <tr>\n      <th>3</th>\n      <td>2015-01-01 02:54:00</td>\n      <td>FM-XX</td>\n      <td>22.0</td>\n      <td>50.0</td>\n      <td>11.0</td>\n    </tr>\n    <tr>\n      <th>4</th>\n      <td>2015-01-01 03:54:00</td>\n      <td>FM-XX</td>\n      <td>24.0</td>\n      <td>-1.0</td>\n      <td>13.0</td>\n    </tr>\n    <tr>\n      <th>5</th>\n      <td>2015-01-01 04:00:00</td>\n      <td>N/A</td>\n      <td>24.0</td>\n      <td>-1.0</td>\n      <td>13.0</td>\n    </tr>\n    <tr>\n      <th>6</th>\n      <td>2015-01-01 04:54:00</td>\n      <td>FM-XX</td>\n      <td>22.0</td>\n      <td>999.0</td>\n      <td>15.0</td>\n    </tr>\n    <tr>\n      <th>7</th>\n      <td>2015-01-01 05:54:00</td>\n      <td>FM-XX</td>\n      <td>23.0</td>\n      <td>48.0</td>\n      <td>17.0</td>\n    </tr>\n    <tr>\n      <th>8</th>\n      <td>2015-01-01 06:54:00</td>\n      <td>FM-XX</td>\n      <td>23.0</td>\n      <td>50.0</td>\n      <td>14.0</td>\n    </tr>\n    <tr>\n      <th>9</th>\n      <td>2015-01-01 07:00:00</td>\n      <td>N/A</td>\n      <td>23.0</td>\n      <td>50.0</td>\n      <td>14.0</td>\n    </tr>\n  </tbody>\n</table>\n</div>",
            "text/plain": "                 DATE REPORTTPYE  HOURLYDRYBULBTEMPF  HOURLYRelativeHumidity  \\\n0 2015-01-01 00:54:00      FM-XX                22.0                    50.0   \n1 2015-01-01 01:00:00        N/A                22.0                    50.0   \n2 2018-07-04 00:00:00      FM-XX                22.0                    50.0   \n3 2015-01-01 02:54:00      FM-XX                22.0                    50.0   \n4 2015-01-01 03:54:00      FM-XX                24.0                    -1.0   \n5 2015-01-01 04:00:00        N/A                24.0                    -1.0   \n6 2015-01-01 04:54:00      FM-XX                22.0                   999.0   \n7 2015-01-01 05:54:00      FM-XX                23.0                    48.0   \n8 2015-01-01 06:54:00      FM-XX                23.0                    50.0   \n9 2015-01-01 07:00:00        N/A                23.0                    50.0   \n\n   HOURLYWindSpeed  \n0             10.0  \n1             10.0  \n2             10.0  \n3             11.0  \n4             13.0  \n5             13.0  \n6             15.0  \n7             17.0  \n8             14.0  \n9             14.0  "
          },
          "metadata": {}
        }
      ]
    },
    {
      "metadata": {
        "trusted": true
      },
      "cell_type": "code",
      "source": "",
      "execution_count": null,
      "outputs": []
    },
    {
      "metadata": {
        "trusted": true
      },
      "cell_type": "code",
      "source": "",
      "execution_count": null,
      "outputs": []
    },
    {
      "metadata": {
        "trusted": true
      },
      "cell_type": "code",
      "source": "",
      "execution_count": null,
      "outputs": []
    }
  ],
  "metadata": {
    "kernelspec": {
      "name": "python36",
      "display_name": "Python 3.6",
      "language": "python"
    },
    "language_info": {
      "mimetype": "text/x-python",
      "nbconvert_exporter": "python",
      "name": "python",
      "pygments_lexer": "ipython3",
      "version": "3.6.6",
      "file_extension": ".py",
      "codemirror_mode": {
        "version": 3,
        "name": "ipython"
      }
    }
  },
  "nbformat": 4,
  "nbformat_minor": 2
}