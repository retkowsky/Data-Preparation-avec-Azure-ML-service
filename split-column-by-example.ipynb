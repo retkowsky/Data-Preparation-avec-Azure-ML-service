{
  "cells": [
    {
      "metadata": {},
      "cell_type": "markdown",
      "source": "# Split column by example\nCopyright (c) Microsoft Corporation. All rights reserved.<br>\nLicensed under the MIT License."
    },
    {
      "metadata": {},
      "cell_type": "markdown",
      "source": "DataPrep also offers you a way to easily split a column into multiple columns.\nThe SplitColumnByExampleBuilder class lets you generate a proper split program that will work even when the cases are not trivial, like in example below."
    },
    {
      "metadata": {
        "trusted": true
      },
      "cell_type": "code",
      "source": "!pip install azureml",
      "execution_count": 1,
      "outputs": [
        {
          "output_type": "stream",
          "text": "Requirement already satisfied: azureml in /home/nbuser/anaconda3_501/lib/python3.6/site-packages (0.2.7)\nRequirement already satisfied: requests in /home/nbuser/anaconda3_501/lib/python3.6/site-packages (from azureml) (2.19.1)\nRequirement already satisfied: pandas in /home/nbuser/anaconda3_501/lib/python3.6/site-packages (from azureml) (0.22.0)\nRequirement already satisfied: python-dateutil in /home/nbuser/anaconda3_501/lib/python3.6/site-packages (from azureml) (2.7.3)\nRequirement already satisfied: urllib3<1.24,>=1.21.1 in /home/nbuser/anaconda3_501/lib/python3.6/site-packages (from requests->azureml) (1.23)\nRequirement already satisfied: certifi>=2017.4.17 in /home/nbuser/anaconda3_501/lib/python3.6/site-packages (from requests->azureml) (2018.8.24)\nRequirement already satisfied: chardet<3.1.0,>=3.0.2 in /home/nbuser/anaconda3_501/lib/python3.6/site-packages (from requests->azureml) (3.0.4)\nRequirement already satisfied: idna<2.8,>=2.5 in /home/nbuser/anaconda3_501/lib/python3.6/site-packages (from requests->azureml) (2.7)\nRequirement already satisfied: pytz>=2011k in /home/nbuser/anaconda3_501/lib/python3.6/site-packages (from pandas->azureml) (2018.5)\nRequirement already satisfied: numpy>=1.9.0 in /home/nbuser/anaconda3_501/lib/python3.6/site-packages (from pandas->azureml) (1.14.5)\nRequirement already satisfied: six>=1.5 in /home/nbuser/anaconda3_501/lib/python3.6/site-packages (from python-dateutil->azureml) (1.11.0)\n",
          "name": "stdout"
        }
      ]
    },
    {
      "metadata": {
        "trusted": true
      },
      "cell_type": "code",
      "source": "import azureml.dataprep as dprep",
      "execution_count": 3,
      "outputs": []
    },
    {
      "metadata": {
        "scrolled": true,
        "trusted": true
      },
      "cell_type": "code",
      "source": "dataflow = dprep.read_lines(path='https://dpreptestfiles.blob.core.windows.net/testfiles/sample.log')\ndf = dataflow.head(10)",
      "execution_count": 4,
      "outputs": []
    },
    {
      "metadata": {
        "trusted": true
      },
      "cell_type": "code",
      "source": "df['Line'].iloc[0]",
      "execution_count": 5,
      "outputs": [
        {
          "output_type": "execute_result",
          "execution_count": 5,
          "data": {
            "text/plain": "'2012-02-03 18:35:34 SampleClass6 [INFO] everything normal for id 577725851'"
          },
          "metadata": {}
        }
      ]
    },
    {
      "metadata": {},
      "cell_type": "markdown",
      "source": "As you can see above, you can't split this particular log file by space character as it will create too many columns and even worse number of columns will depend on a string in 6th column.\nThat's where split_column_by_example could be quite useful."
    },
    {
      "metadata": {
        "trusted": true
      },
      "cell_type": "code",
      "source": "b = dataflow.builders.split_column_by_example('Line', keep_delimiters=True)",
      "execution_count": 6,
      "outputs": []
    },
    {
      "metadata": {
        "scrolled": false,
        "trusted": true
      },
      "cell_type": "code",
      "source": "b.preview()",
      "execution_count": 7,
      "outputs": [
        {
          "output_type": "execute_result",
          "execution_count": 7,
          "data": {
            "text/html": "<div>\n<style scoped>\n    .dataframe tbody tr th:only-of-type {\n        vertical-align: middle;\n    }\n\n    .dataframe tbody tr th {\n        vertical-align: top;\n    }\n\n    .dataframe thead th {\n        text-align: right;\n    }\n</style>\n<table border=\"1\" class=\"dataframe\">\n  <thead>\n    <tr style=\"text-align: right;\">\n      <th></th>\n      <th>Line</th>\n      <th>Line_1</th>\n      <th>Line_2</th>\n      <th>Line_3</th>\n      <th>Line_4</th>\n      <th>Line_5</th>\n      <th>Line_6</th>\n      <th>Line_7</th>\n      <th>Line_8</th>\n      <th>Line_9</th>\n      <th>Line_10</th>\n      <th>Line_11</th>\n      <th>Line_12</th>\n    </tr>\n  </thead>\n  <tbody>\n    <tr>\n      <th>0</th>\n      <td>2012-02-03 18:35:34 SampleClass6 [INFO] everyt...</td>\n      <td>2012-02-03</td>\n      <td></td>\n      <td>18:35:34</td>\n      <td></td>\n      <td>SampleClass</td>\n      <td>6</td>\n      <td>[</td>\n      <td>INFO</td>\n      <td>]</td>\n      <td>everything normal for id</td>\n      <td></td>\n      <td>577725851</td>\n    </tr>\n    <tr>\n      <th>1</th>\n      <td>2012-02-03 18:35:34 SampleClass4 [FATAL] syste...</td>\n      <td>2012-02-03</td>\n      <td></td>\n      <td>18:35:34</td>\n      <td></td>\n      <td>SampleClass</td>\n      <td>4</td>\n      <td>[</td>\n      <td>FATAL</td>\n      <td>]</td>\n      <td>system problem at id</td>\n      <td></td>\n      <td>1991281254</td>\n    </tr>\n    <tr>\n      <th>2</th>\n      <td>2012-02-03 18:35:34 SampleClass3 [DEBUG] detai...</td>\n      <td>2012-02-03</td>\n      <td></td>\n      <td>18:35:34</td>\n      <td></td>\n      <td>SampleClass</td>\n      <td>3</td>\n      <td>[</td>\n      <td>DEBUG</td>\n      <td>]</td>\n      <td>detail for id</td>\n      <td></td>\n      <td>1304807656</td>\n    </tr>\n    <tr>\n      <th>3</th>\n      <td>2012-02-03 18:35:34 SampleClass3 [WARN] missin...</td>\n      <td>2012-02-03</td>\n      <td></td>\n      <td>18:35:34</td>\n      <td></td>\n      <td>SampleClass</td>\n      <td>3</td>\n      <td>[</td>\n      <td>WARN</td>\n      <td>]</td>\n      <td>missing id</td>\n      <td></td>\n      <td>423340895</td>\n    </tr>\n    <tr>\n      <th>4</th>\n      <td>2012-02-03 18:35:34 SampleClass5 [TRACE] verbo...</td>\n      <td>2012-02-03</td>\n      <td></td>\n      <td>18:35:34</td>\n      <td></td>\n      <td>SampleClass</td>\n      <td>5</td>\n      <td>[</td>\n      <td>TRACE</td>\n      <td>]</td>\n      <td>verbose detail for id</td>\n      <td></td>\n      <td>2082654978</td>\n    </tr>\n    <tr>\n      <th>5</th>\n      <td>2012-02-03 18:35:34 SampleClass0 [ERROR] incor...</td>\n      <td>None</td>\n      <td>None</td>\n      <td>None</td>\n      <td>None</td>\n      <td>None</td>\n      <td>None</td>\n      <td>None</td>\n      <td>None</td>\n      <td>None</td>\n      <td>None</td>\n      <td>None</td>\n      <td>None</td>\n    </tr>\n    <tr>\n      <th>6</th>\n      <td>2012-02-03 18:35:34 SampleClass9 [TRACE] verbo...</td>\n      <td>2012-02-03</td>\n      <td></td>\n      <td>18:35:34</td>\n      <td></td>\n      <td>SampleClass</td>\n      <td>9</td>\n      <td>[</td>\n      <td>TRACE</td>\n      <td>]</td>\n      <td>verbose detail for id</td>\n      <td></td>\n      <td>438634209</td>\n    </tr>\n    <tr>\n      <th>7</th>\n      <td>2012-02-03 18:35:34 SampleClass8 [DEBUG] detai...</td>\n      <td>2012-02-03</td>\n      <td></td>\n      <td>18:35:34</td>\n      <td></td>\n      <td>SampleClass</td>\n      <td>8</td>\n      <td>[</td>\n      <td>DEBUG</td>\n      <td>]</td>\n      <td>detail for id</td>\n      <td></td>\n      <td>2074121310</td>\n    </tr>\n    <tr>\n      <th>8</th>\n      <td>2012-02-03 18:55:54 SampleClass4 [DEBUG] detai...</td>\n      <td>2012-02-03</td>\n      <td></td>\n      <td>18:55:54</td>\n      <td></td>\n      <td>SampleClass</td>\n      <td>4</td>\n      <td>[</td>\n      <td>DEBUG</td>\n      <td>]</td>\n      <td>detail for id</td>\n      <td></td>\n      <td>1029178762</td>\n    </tr>\n    <tr>\n      <th>9</th>\n      <td>2012-02-03 18:55:54 SampleClass2 [TRACE] verbo...</td>\n      <td>2012-02-03</td>\n      <td></td>\n      <td>18:55:54</td>\n      <td></td>\n      <td>SampleClass</td>\n      <td>2</td>\n      <td>[</td>\n      <td>TRACE</td>\n      <td>]</td>\n      <td>verbose detail for id</td>\n      <td></td>\n      <td>1135460272</td>\n    </tr>\n  </tbody>\n</table>\n</div>",
            "text/plain": "                                                Line      Line_1 Line_2  \\\n0  2012-02-03 18:35:34 SampleClass6 [INFO] everyt...  2012-02-03          \n1  2012-02-03 18:35:34 SampleClass4 [FATAL] syste...  2012-02-03          \n2  2012-02-03 18:35:34 SampleClass3 [DEBUG] detai...  2012-02-03          \n3  2012-02-03 18:35:34 SampleClass3 [WARN] missin...  2012-02-03          \n4  2012-02-03 18:35:34 SampleClass5 [TRACE] verbo...  2012-02-03          \n5  2012-02-03 18:35:34 SampleClass0 [ERROR] incor...        None   None   \n6  2012-02-03 18:35:34 SampleClass9 [TRACE] verbo...  2012-02-03          \n7  2012-02-03 18:35:34 SampleClass8 [DEBUG] detai...  2012-02-03          \n8  2012-02-03 18:55:54 SampleClass4 [DEBUG] detai...  2012-02-03          \n9  2012-02-03 18:55:54 SampleClass2 [TRACE] verbo...  2012-02-03          \n\n     Line_3 Line_4       Line_5 Line_6 Line_7 Line_8 Line_9  \\\n0  18:35:34         SampleClass      6      [   INFO     ]    \n1  18:35:34         SampleClass      4      [  FATAL     ]    \n2  18:35:34         SampleClass      3      [  DEBUG     ]    \n3  18:35:34         SampleClass      3      [   WARN     ]    \n4  18:35:34         SampleClass      5      [  TRACE     ]    \n5      None   None         None   None   None   None   None   \n6  18:35:34         SampleClass      9      [  TRACE     ]    \n7  18:35:34         SampleClass      8      [  DEBUG     ]    \n8  18:55:54         SampleClass      4      [  DEBUG     ]    \n9  18:55:54         SampleClass      2      [  TRACE     ]    \n\n                    Line_10 Line_11     Line_12  \n0  everything normal for id           577725851  \n1      system problem at id          1991281254  \n2             detail for id          1304807656  \n3                missing id           423340895  \n4     verbose detail for id          2082654978  \n5                      None    None        None  \n6     verbose detail for id           438634209  \n7             detail for id          2074121310  \n8             detail for id          1029178762  \n9     verbose detail for id          1135460272  "
          },
          "metadata": {}
        }
      ]
    },
    {
      "metadata": {},
      "cell_type": "markdown",
      "source": "Couple things to take note of here. No examples were given, and yet DataPrep was able to generate quite reasonable split program. \nWe have passed keep_delimiters=True so we can see all the data split into columns. In practice, though, delimiters are rarely useful, so let's exclude them."
    },
    {
      "metadata": {
        "scrolled": true,
        "trusted": true
      },
      "cell_type": "code",
      "source": "b.keep_delimiters = False\nb.preview()",
      "execution_count": 8,
      "outputs": [
        {
          "output_type": "execute_result",
          "execution_count": 8,
          "data": {
            "text/html": "<div>\n<style scoped>\n    .dataframe tbody tr th:only-of-type {\n        vertical-align: middle;\n    }\n\n    .dataframe tbody tr th {\n        vertical-align: top;\n    }\n\n    .dataframe thead th {\n        text-align: right;\n    }\n</style>\n<table border=\"1\" class=\"dataframe\">\n  <thead>\n    <tr style=\"text-align: right;\">\n      <th></th>\n      <th>Line</th>\n      <th>Line_1</th>\n      <th>Line_2</th>\n      <th>Line_3</th>\n      <th>Line_4</th>\n      <th>Line_5</th>\n      <th>Line_6</th>\n      <th>Line_7</th>\n    </tr>\n  </thead>\n  <tbody>\n    <tr>\n      <th>0</th>\n      <td>2012-02-03 18:35:34 SampleClass6 [INFO] everyt...</td>\n      <td>2012-02-03</td>\n      <td>18:35:34</td>\n      <td>SampleClass</td>\n      <td>6</td>\n      <td>INFO</td>\n      <td>everything normal for id</td>\n      <td>577725851</td>\n    </tr>\n    <tr>\n      <th>1</th>\n      <td>2012-02-03 18:35:34 SampleClass4 [FATAL] syste...</td>\n      <td>2012-02-03</td>\n      <td>18:35:34</td>\n      <td>SampleClass</td>\n      <td>4</td>\n      <td>FATAL</td>\n      <td>system problem at id</td>\n      <td>1991281254</td>\n    </tr>\n    <tr>\n      <th>2</th>\n      <td>2012-02-03 18:35:34 SampleClass3 [DEBUG] detai...</td>\n      <td>2012-02-03</td>\n      <td>18:35:34</td>\n      <td>SampleClass</td>\n      <td>3</td>\n      <td>DEBUG</td>\n      <td>detail for id</td>\n      <td>1304807656</td>\n    </tr>\n    <tr>\n      <th>3</th>\n      <td>2012-02-03 18:35:34 SampleClass3 [WARN] missin...</td>\n      <td>2012-02-03</td>\n      <td>18:35:34</td>\n      <td>SampleClass</td>\n      <td>3</td>\n      <td>WARN</td>\n      <td>missing id</td>\n      <td>423340895</td>\n    </tr>\n    <tr>\n      <th>4</th>\n      <td>2012-02-03 18:35:34 SampleClass5 [TRACE] verbo...</td>\n      <td>2012-02-03</td>\n      <td>18:35:34</td>\n      <td>SampleClass</td>\n      <td>5</td>\n      <td>TRACE</td>\n      <td>verbose detail for id</td>\n      <td>2082654978</td>\n    </tr>\n    <tr>\n      <th>5</th>\n      <td>2012-02-03 18:35:34 SampleClass0 [ERROR] incor...</td>\n      <td>None</td>\n      <td>None</td>\n      <td>None</td>\n      <td>None</td>\n      <td>None</td>\n      <td>None</td>\n      <td>None</td>\n    </tr>\n    <tr>\n      <th>6</th>\n      <td>2012-02-03 18:35:34 SampleClass9 [TRACE] verbo...</td>\n      <td>2012-02-03</td>\n      <td>18:35:34</td>\n      <td>SampleClass</td>\n      <td>9</td>\n      <td>TRACE</td>\n      <td>verbose detail for id</td>\n      <td>438634209</td>\n    </tr>\n    <tr>\n      <th>7</th>\n      <td>2012-02-03 18:35:34 SampleClass8 [DEBUG] detai...</td>\n      <td>2012-02-03</td>\n      <td>18:35:34</td>\n      <td>SampleClass</td>\n      <td>8</td>\n      <td>DEBUG</td>\n      <td>detail for id</td>\n      <td>2074121310</td>\n    </tr>\n    <tr>\n      <th>8</th>\n      <td>2012-02-03 18:55:54 SampleClass4 [DEBUG] detai...</td>\n      <td>2012-02-03</td>\n      <td>18:55:54</td>\n      <td>SampleClass</td>\n      <td>4</td>\n      <td>DEBUG</td>\n      <td>detail for id</td>\n      <td>1029178762</td>\n    </tr>\n    <tr>\n      <th>9</th>\n      <td>2012-02-03 18:55:54 SampleClass2 [TRACE] verbo...</td>\n      <td>2012-02-03</td>\n      <td>18:55:54</td>\n      <td>SampleClass</td>\n      <td>2</td>\n      <td>TRACE</td>\n      <td>verbose detail for id</td>\n      <td>1135460272</td>\n    </tr>\n  </tbody>\n</table>\n</div>",
            "text/plain": "                                                Line      Line_1    Line_2  \\\n0  2012-02-03 18:35:34 SampleClass6 [INFO] everyt...  2012-02-03  18:35:34   \n1  2012-02-03 18:35:34 SampleClass4 [FATAL] syste...  2012-02-03  18:35:34   \n2  2012-02-03 18:35:34 SampleClass3 [DEBUG] detai...  2012-02-03  18:35:34   \n3  2012-02-03 18:35:34 SampleClass3 [WARN] missin...  2012-02-03  18:35:34   \n4  2012-02-03 18:35:34 SampleClass5 [TRACE] verbo...  2012-02-03  18:35:34   \n5  2012-02-03 18:35:34 SampleClass0 [ERROR] incor...        None      None   \n6  2012-02-03 18:35:34 SampleClass9 [TRACE] verbo...  2012-02-03  18:35:34   \n7  2012-02-03 18:35:34 SampleClass8 [DEBUG] detai...  2012-02-03  18:35:34   \n8  2012-02-03 18:55:54 SampleClass4 [DEBUG] detai...  2012-02-03  18:55:54   \n9  2012-02-03 18:55:54 SampleClass2 [TRACE] verbo...  2012-02-03  18:55:54   \n\n        Line_3 Line_4 Line_5                    Line_6      Line_7  \n0  SampleClass      6   INFO  everything normal for id   577725851  \n1  SampleClass      4  FATAL      system problem at id  1991281254  \n2  SampleClass      3  DEBUG             detail for id  1304807656  \n3  SampleClass      3   WARN                missing id   423340895  \n4  SampleClass      5  TRACE     verbose detail for id  2082654978  \n5         None   None   None                      None        None  \n6  SampleClass      9  TRACE     verbose detail for id   438634209  \n7  SampleClass      8  DEBUG             detail for id  2074121310  \n8  SampleClass      4  DEBUG             detail for id  1029178762  \n9  SampleClass      2  TRACE     verbose detail for id  1135460272  "
          },
          "metadata": {}
        }
      ]
    },
    {
      "metadata": {},
      "cell_type": "markdown",
      "source": "This looks pretty good already, except for line 5.\nIf we request generation of suggested examples we will see that line 5 is one of the items program need more input on."
    },
    {
      "metadata": {
        "trusted": true
      },
      "cell_type": "code",
      "source": "suggestions = b.generate_suggested_examples()\nsuggestions",
      "execution_count": 9,
      "outputs": [
        {
          "output_type": "execute_result",
          "execution_count": 9,
          "data": {
            "text/html": "<div>\n<style scoped>\n    .dataframe tbody tr th:only-of-type {\n        vertical-align: middle;\n    }\n\n    .dataframe tbody tr th {\n        vertical-align: top;\n    }\n\n    .dataframe thead th {\n        text-align: right;\n    }\n</style>\n<table border=\"1\" class=\"dataframe\">\n  <thead>\n    <tr style=\"text-align: right;\">\n      <th></th>\n      <th>Line</th>\n    </tr>\n  </thead>\n  <tbody>\n    <tr>\n      <th>0</th>\n      <td>2012-02-03 18:35:34 SampleClass6 [INFO] everyt...</td>\n    </tr>\n    <tr>\n      <th>1</th>\n      <td>2012-02-03 18:35:34 SampleClass0 [ERROR] incor...</td>\n    </tr>\n    <tr>\n      <th>2</th>\n      <td></td>\n    </tr>\n    <tr>\n      <th>3</th>\n      <td>java.lang.Exception: 2012-02-03 19:11:02 Sampl...</td>\n    </tr>\n    <tr>\n      <th>4</th>\n      <td>\\tat com.osa.mocklogger.MockLogger$2.run(MockL...</td>\n    </tr>\n  </tbody>\n</table>\n</div>",
            "text/plain": "                                                Line\n0  2012-02-03 18:35:34 SampleClass6 [INFO] everyt...\n1  2012-02-03 18:35:34 SampleClass0 [ERROR] incor...\n2                                                   \n3  java.lang.Exception: 2012-02-03 19:11:02 Sampl...\n4  \\tat com.osa.mocklogger.MockLogger$2.run(MockL..."
          },
          "metadata": {}
        }
      ]
    },
    {
      "metadata": {
        "trusted": true
      },
      "cell_type": "code",
      "source": "suggestions.iloc[1]['Line']",
      "execution_count": 10,
      "outputs": [
        {
          "output_type": "execute_result",
          "execution_count": 10,
          "data": {
            "text/plain": "'2012-02-03 18:35:34 SampleClass0 [ERROR] incorrect id  1886438513'"
          },
          "metadata": {}
        }
      ]
    },
    {
      "metadata": {},
      "cell_type": "markdown",
      "source": "Having retrieved source value we can now provide an example of desired split.\nNotice that we chose not to split date and time but rather keep them together in one column."
    },
    {
      "metadata": {
        "trusted": true
      },
      "cell_type": "code",
      "source": "b.add_example(example=(suggestions['Line'].iloc[1], ['2012-02-03 18:35:34','SampleClass0','ERROR','incorrect id','1886438513']))",
      "execution_count": 11,
      "outputs": []
    },
    {
      "metadata": {
        "scrolled": false,
        "trusted": true
      },
      "cell_type": "code",
      "source": "b.preview()",
      "execution_count": 12,
      "outputs": [
        {
          "output_type": "execute_result",
          "execution_count": 12,
          "data": {
            "text/html": "<div>\n<style scoped>\n    .dataframe tbody tr th:only-of-type {\n        vertical-align: middle;\n    }\n\n    .dataframe tbody tr th {\n        vertical-align: top;\n    }\n\n    .dataframe thead th {\n        text-align: right;\n    }\n</style>\n<table border=\"1\" class=\"dataframe\">\n  <thead>\n    <tr style=\"text-align: right;\">\n      <th></th>\n      <th>Line</th>\n      <th>Line_1</th>\n      <th>Line_2</th>\n      <th>Line_3</th>\n      <th>Line_4</th>\n      <th>Line_5</th>\n    </tr>\n  </thead>\n  <tbody>\n    <tr>\n      <th>0</th>\n      <td>2012-02-03 18:35:34 SampleClass6 [INFO] everyt...</td>\n      <td>2012-02-03 18:35:34</td>\n      <td>SampleClass6</td>\n      <td>INFO</td>\n      <td>everything normal for id</td>\n      <td>577725851</td>\n    </tr>\n    <tr>\n      <th>1</th>\n      <td>2012-02-03 18:35:34 SampleClass4 [FATAL] syste...</td>\n      <td>2012-02-03 18:35:34</td>\n      <td>SampleClass4</td>\n      <td>FATAL</td>\n      <td>system problem at id</td>\n      <td>1991281254</td>\n    </tr>\n    <tr>\n      <th>2</th>\n      <td>2012-02-03 18:35:34 SampleClass3 [DEBUG] detai...</td>\n      <td>2012-02-03 18:35:34</td>\n      <td>SampleClass3</td>\n      <td>DEBUG</td>\n      <td>detail for id</td>\n      <td>1304807656</td>\n    </tr>\n    <tr>\n      <th>3</th>\n      <td>2012-02-03 18:35:34 SampleClass3 [WARN] missin...</td>\n      <td>2012-02-03 18:35:34</td>\n      <td>SampleClass3</td>\n      <td>WARN</td>\n      <td>missing id</td>\n      <td>423340895</td>\n    </tr>\n    <tr>\n      <th>4</th>\n      <td>2012-02-03 18:35:34 SampleClass5 [TRACE] verbo...</td>\n      <td>2012-02-03 18:35:34</td>\n      <td>SampleClass5</td>\n      <td>TRACE</td>\n      <td>verbose detail for id</td>\n      <td>2082654978</td>\n    </tr>\n    <tr>\n      <th>5</th>\n      <td>2012-02-03 18:35:34 SampleClass0 [ERROR] incor...</td>\n      <td>2012-02-03 18:35:34</td>\n      <td>SampleClass0</td>\n      <td>ERROR</td>\n      <td>incorrect id</td>\n      <td>1886438513</td>\n    </tr>\n    <tr>\n      <th>6</th>\n      <td>2012-02-03 18:35:34 SampleClass9 [TRACE] verbo...</td>\n      <td>2012-02-03 18:35:34</td>\n      <td>SampleClass9</td>\n      <td>TRACE</td>\n      <td>verbose detail for id</td>\n      <td>438634209</td>\n    </tr>\n    <tr>\n      <th>7</th>\n      <td>2012-02-03 18:35:34 SampleClass8 [DEBUG] detai...</td>\n      <td>2012-02-03 18:35:34</td>\n      <td>SampleClass8</td>\n      <td>DEBUG</td>\n      <td>detail for id</td>\n      <td>2074121310</td>\n    </tr>\n    <tr>\n      <th>8</th>\n      <td>2012-02-03 18:55:54 SampleClass4 [DEBUG] detai...</td>\n      <td>2012-02-03 18:55:54</td>\n      <td>SampleClass4</td>\n      <td>DEBUG</td>\n      <td>detail for id</td>\n      <td>1029178762</td>\n    </tr>\n    <tr>\n      <th>9</th>\n      <td>2012-02-03 18:55:54 SampleClass2 [TRACE] verbo...</td>\n      <td>2012-02-03 18:55:54</td>\n      <td>SampleClass2</td>\n      <td>TRACE</td>\n      <td>verbose detail for id</td>\n      <td>1135460272</td>\n    </tr>\n  </tbody>\n</table>\n</div>",
            "text/plain": "                                                Line               Line_1  \\\n0  2012-02-03 18:35:34 SampleClass6 [INFO] everyt...  2012-02-03 18:35:34   \n1  2012-02-03 18:35:34 SampleClass4 [FATAL] syste...  2012-02-03 18:35:34   \n2  2012-02-03 18:35:34 SampleClass3 [DEBUG] detai...  2012-02-03 18:35:34   \n3  2012-02-03 18:35:34 SampleClass3 [WARN] missin...  2012-02-03 18:35:34   \n4  2012-02-03 18:35:34 SampleClass5 [TRACE] verbo...  2012-02-03 18:35:34   \n5  2012-02-03 18:35:34 SampleClass0 [ERROR] incor...  2012-02-03 18:35:34   \n6  2012-02-03 18:35:34 SampleClass9 [TRACE] verbo...  2012-02-03 18:35:34   \n7  2012-02-03 18:35:34 SampleClass8 [DEBUG] detai...  2012-02-03 18:35:34   \n8  2012-02-03 18:55:54 SampleClass4 [DEBUG] detai...  2012-02-03 18:55:54   \n9  2012-02-03 18:55:54 SampleClass2 [TRACE] verbo...  2012-02-03 18:55:54   \n\n         Line_2 Line_3                    Line_4      Line_5  \n0  SampleClass6   INFO  everything normal for id   577725851  \n1  SampleClass4  FATAL      system problem at id  1991281254  \n2  SampleClass3  DEBUG             detail for id  1304807656  \n3  SampleClass3   WARN                missing id   423340895  \n4  SampleClass5  TRACE     verbose detail for id  2082654978  \n5  SampleClass0  ERROR              incorrect id  1886438513  \n6  SampleClass9  TRACE     verbose detail for id   438634209  \n7  SampleClass8  DEBUG             detail for id  2074121310  \n8  SampleClass4  DEBUG             detail for id  1029178762  \n9  SampleClass2  TRACE     verbose detail for id  1135460272  "
          },
          "metadata": {}
        }
      ]
    },
    {
      "metadata": {},
      "cell_type": "markdown",
      "source": "This looks just like what we need, so let's get a dataflow with split in it and drop original column."
    },
    {
      "metadata": {
        "trusted": true
      },
      "cell_type": "code",
      "source": "dataflow = b.to_dataflow()\ndataflow = dataflow.drop_columns(['Line'])\ndataflow.head(10)",
      "execution_count": 13,
      "outputs": [
        {
          "output_type": "execute_result",
          "execution_count": 13,
          "data": {
            "text/html": "<div>\n<style scoped>\n    .dataframe tbody tr th:only-of-type {\n        vertical-align: middle;\n    }\n\n    .dataframe tbody tr th {\n        vertical-align: top;\n    }\n\n    .dataframe thead th {\n        text-align: right;\n    }\n</style>\n<table border=\"1\" class=\"dataframe\">\n  <thead>\n    <tr style=\"text-align: right;\">\n      <th></th>\n      <th>Line_1</th>\n      <th>Line_2</th>\n      <th>Line_3</th>\n      <th>Line_4</th>\n      <th>Line_5</th>\n    </tr>\n  </thead>\n  <tbody>\n    <tr>\n      <th>0</th>\n      <td>2012-02-03 18:35:34</td>\n      <td>SampleClass6</td>\n      <td>INFO</td>\n      <td>everything normal for id</td>\n      <td>577725851</td>\n    </tr>\n    <tr>\n      <th>1</th>\n      <td>2012-02-03 18:35:34</td>\n      <td>SampleClass4</td>\n      <td>FATAL</td>\n      <td>system problem at id</td>\n      <td>1991281254</td>\n    </tr>\n    <tr>\n      <th>2</th>\n      <td>2012-02-03 18:35:34</td>\n      <td>SampleClass3</td>\n      <td>DEBUG</td>\n      <td>detail for id</td>\n      <td>1304807656</td>\n    </tr>\n    <tr>\n      <th>3</th>\n      <td>2012-02-03 18:35:34</td>\n      <td>SampleClass3</td>\n      <td>WARN</td>\n      <td>missing id</td>\n      <td>423340895</td>\n    </tr>\n    <tr>\n      <th>4</th>\n      <td>2012-02-03 18:35:34</td>\n      <td>SampleClass5</td>\n      <td>TRACE</td>\n      <td>verbose detail for id</td>\n      <td>2082654978</td>\n    </tr>\n    <tr>\n      <th>5</th>\n      <td>2012-02-03 18:35:34</td>\n      <td>SampleClass0</td>\n      <td>ERROR</td>\n      <td>incorrect id</td>\n      <td>1886438513</td>\n    </tr>\n    <tr>\n      <th>6</th>\n      <td>2012-02-03 18:35:34</td>\n      <td>SampleClass9</td>\n      <td>TRACE</td>\n      <td>verbose detail for id</td>\n      <td>438634209</td>\n    </tr>\n    <tr>\n      <th>7</th>\n      <td>2012-02-03 18:35:34</td>\n      <td>SampleClass8</td>\n      <td>DEBUG</td>\n      <td>detail for id</td>\n      <td>2074121310</td>\n    </tr>\n    <tr>\n      <th>8</th>\n      <td>2012-02-03 18:55:54</td>\n      <td>SampleClass4</td>\n      <td>DEBUG</td>\n      <td>detail for id</td>\n      <td>1029178762</td>\n    </tr>\n    <tr>\n      <th>9</th>\n      <td>2012-02-03 18:55:54</td>\n      <td>SampleClass2</td>\n      <td>TRACE</td>\n      <td>verbose detail for id</td>\n      <td>1135460272</td>\n    </tr>\n  </tbody>\n</table>\n</div>",
            "text/plain": "                Line_1        Line_2 Line_3                    Line_4  \\\n0  2012-02-03 18:35:34  SampleClass6   INFO  everything normal for id   \n1  2012-02-03 18:35:34  SampleClass4  FATAL      system problem at id   \n2  2012-02-03 18:35:34  SampleClass3  DEBUG             detail for id   \n3  2012-02-03 18:35:34  SampleClass3   WARN                missing id   \n4  2012-02-03 18:35:34  SampleClass5  TRACE     verbose detail for id   \n5  2012-02-03 18:35:34  SampleClass0  ERROR              incorrect id   \n6  2012-02-03 18:35:34  SampleClass9  TRACE     verbose detail for id   \n7  2012-02-03 18:35:34  SampleClass8  DEBUG             detail for id   \n8  2012-02-03 18:55:54  SampleClass4  DEBUG             detail for id   \n9  2012-02-03 18:55:54  SampleClass2  TRACE     verbose detail for id   \n\n       Line_5  \n0   577725851  \n1  1991281254  \n2  1304807656  \n3   423340895  \n4  2082654978  \n5  1886438513  \n6   438634209  \n7  2074121310  \n8  1029178762  \n9  1135460272  "
          },
          "metadata": {}
        }
      ]
    },
    {
      "metadata": {
        "trusted": true
      },
      "cell_type": "code",
      "source": "",
      "execution_count": null,
      "outputs": []
    }
  ],
  "metadata": {
    "kernelspec": {
      "name": "python36",
      "display_name": "Python 3.6",
      "language": "python"
    },
    "language_info": {
      "mimetype": "text/x-python",
      "nbconvert_exporter": "python",
      "name": "python",
      "pygments_lexer": "ipython3",
      "version": "3.6.6",
      "file_extension": ".py",
      "codemirror_mode": {
        "version": 3,
        "name": "ipython"
      }
    }
  },
  "nbformat": 4,
  "nbformat_minor": 2
}