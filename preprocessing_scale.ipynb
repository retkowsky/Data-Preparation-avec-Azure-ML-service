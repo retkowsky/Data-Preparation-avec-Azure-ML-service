{
  "cells": [
    {
      "metadata": {},
      "cell_type": "markdown",
      "source": "# Preprocessing - Scale Transforms\nCopyright (c) Microsoft Corporation. All rights reserved.<br>\nLicensed under the MIT License."
    },
    {
      "metadata": {
        "trusted": true
      },
      "cell_type": "code",
      "source": "!pip install azureml",
      "execution_count": 1,
      "outputs": [
        {
          "output_type": "stream",
          "text": "Requirement already satisfied: azureml in /home/nbuser/anaconda3_501/lib/python3.6/site-packages (0.2.7)\nRequirement already satisfied: pandas in /home/nbuser/anaconda3_501/lib/python3.6/site-packages (from azureml) (0.22.0)\nRequirement already satisfied: python-dateutil in /home/nbuser/anaconda3_501/lib/python3.6/site-packages (from azureml) (2.7.5)\nRequirement already satisfied: requests in /home/nbuser/anaconda3_501/lib/python3.6/site-packages (from azureml) (2.20.1)\nRequirement already satisfied: pytz>=2011k in /home/nbuser/anaconda3_501/lib/python3.6/site-packages (from pandas->azureml) (2018.7)\nRequirement already satisfied: numpy>=1.9.0 in /home/nbuser/anaconda3_501/lib/python3.6/site-packages (from pandas->azureml) (1.14.6)\nRequirement already satisfied: six>=1.5 in /home/nbuser/anaconda3_501/lib/python3.6/site-packages (from python-dateutil->azureml) (1.11.0)\nRequirement already satisfied: certifi>=2017.4.17 in /home/nbuser/anaconda3_501/lib/python3.6/site-packages (from requests->azureml) (2018.10.15)\nRequirement already satisfied: idna<2.8,>=2.5 in /home/nbuser/anaconda3_501/lib/python3.6/site-packages (from requests->azureml) (2.7)\nRequirement already satisfied: urllib3<1.25,>=1.21.1 in /home/nbuser/anaconda3_501/lib/python3.6/site-packages (from requests->azureml) (1.23)\nRequirement already satisfied: chardet<3.1.0,>=3.0.2 in /home/nbuser/anaconda3_501/lib/python3.6/site-packages (from requests->azureml) (3.0.4)\n",
          "name": "stdout"
        }
      ]
    },
    {
      "metadata": {
        "trusted": true
      },
      "cell_type": "code",
      "source": "import azureml.dataprep as dprep",
      "execution_count": 2,
      "outputs": []
    },
    {
      "metadata": {},
      "cell_type": "markdown",
      "source": "DataPrep provides a number of transformation functions to scale numeric columns."
    },
    {
      "metadata": {},
      "cell_type": "markdown",
      "source": "## Min-Max Scaler"
    },
    {
      "metadata": {},
      "cell_type": "markdown",
      "source": "The min-max scaler scales all values in a column to a desired range (typically [0, 1]). Also commonly known as feature scaling, or unity-based normalization."
    },
    {
      "metadata": {},
      "cell_type": "markdown",
      "source": "First, we will load a dataset containing information about baseball players. We will only keep a few columns."
    },
    {
      "metadata": {
        "trusted": true
      },
      "cell_type": "code",
      "source": "df = dprep.read_csv(path='https://dpreptestfiles.blob.core.windows.net/testfiles/baseball-players.csv')\ndf = df.keep_columns(columns=['playerID', 'weight', 'height'])\ndf = df.to_number(columns=['weight', 'height'])\ndf.head(25)",
      "execution_count": 3,
      "outputs": [
        {
          "output_type": "execute_result",
          "execution_count": 3,
          "data": {
            "text/html": "<div>\n<style scoped>\n    .dataframe tbody tr th:only-of-type {\n        vertical-align: middle;\n    }\n\n    .dataframe tbody tr th {\n        vertical-align: top;\n    }\n\n    .dataframe thead th {\n        text-align: right;\n    }\n</style>\n<table border=\"1\" class=\"dataframe\">\n  <thead>\n    <tr style=\"text-align: right;\">\n      <th></th>\n      <th>playerID</th>\n      <th>weight</th>\n      <th>height</th>\n    </tr>\n  </thead>\n  <tbody>\n    <tr>\n      <th>0</th>\n      <td>aardsda01</td>\n      <td>205</td>\n      <td>75</td>\n    </tr>\n    <tr>\n      <th>1</th>\n      <td>aaronha01</td>\n      <td>180</td>\n      <td>72</td>\n    </tr>\n    <tr>\n      <th>2</th>\n      <td>aaronto01</td>\n      <td>190</td>\n      <td>75</td>\n    </tr>\n    <tr>\n      <th>3</th>\n      <td>aasedo01</td>\n      <td>190</td>\n      <td>75</td>\n    </tr>\n    <tr>\n      <th>4</th>\n      <td>abadan01</td>\n      <td>184</td>\n      <td>73</td>\n    </tr>\n    <tr>\n      <th>5</th>\n      <td>abadfe01</td>\n      <td>220</td>\n      <td>73</td>\n    </tr>\n    <tr>\n      <th>6</th>\n      <td>abadijo01</td>\n      <td>192</td>\n      <td>72</td>\n    </tr>\n    <tr>\n      <th>7</th>\n      <td>abbated01</td>\n      <td>170</td>\n      <td>71</td>\n    </tr>\n    <tr>\n      <th>8</th>\n      <td>abbeybe01</td>\n      <td>175</td>\n      <td>71</td>\n    </tr>\n    <tr>\n      <th>9</th>\n      <td>abbeych01</td>\n      <td>169</td>\n      <td>68</td>\n    </tr>\n    <tr>\n      <th>10</th>\n      <td>abbotda01</td>\n      <td>190</td>\n      <td>71</td>\n    </tr>\n    <tr>\n      <th>11</th>\n      <td>abbotfr01</td>\n      <td>180</td>\n      <td>70</td>\n    </tr>\n    <tr>\n      <th>12</th>\n      <td>abbotgl01</td>\n      <td>200</td>\n      <td>78</td>\n    </tr>\n    <tr>\n      <th>13</th>\n      <td>abbotje01</td>\n      <td>190</td>\n      <td>74</td>\n    </tr>\n    <tr>\n      <th>14</th>\n      <td>abbotji01</td>\n      <td>200</td>\n      <td>75</td>\n    </tr>\n    <tr>\n      <th>15</th>\n      <td>abbotku01</td>\n      <td>180</td>\n      <td>71</td>\n    </tr>\n    <tr>\n      <th>16</th>\n      <td>abbotky01</td>\n      <td>200</td>\n      <td>76</td>\n    </tr>\n    <tr>\n      <th>17</th>\n      <td>abbotod01</td>\n      <td>180</td>\n      <td>74</td>\n    </tr>\n    <tr>\n      <th>18</th>\n      <td>abbotpa01</td>\n      <td>185</td>\n      <td>75</td>\n    </tr>\n    <tr>\n      <th>19</th>\n      <td>aberal01</td>\n      <td>195</td>\n      <td>74</td>\n    </tr>\n    <tr>\n      <th>20</th>\n      <td>abercda01</td>\n      <td>azureml.dataprep.native.DataPrepError(\"'Micros...</td>\n      <td>azureml.dataprep.native.DataPrepError(\"'Micros...</td>\n    </tr>\n    <tr>\n      <th>21</th>\n      <td>abercre01</td>\n      <td>215</td>\n      <td>75</td>\n    </tr>\n    <tr>\n      <th>22</th>\n      <td>abernbi01</td>\n      <td>190</td>\n      <td>70</td>\n    </tr>\n    <tr>\n      <th>23</th>\n      <td>abernbr01</td>\n      <td>185</td>\n      <td>73</td>\n    </tr>\n    <tr>\n      <th>24</th>\n      <td>abernte01</td>\n      <td>210</td>\n      <td>74</td>\n    </tr>\n  </tbody>\n</table>\n</div>",
            "text/plain": "     playerID                                             weight  \\\n0   aardsda01                                                205   \n1   aaronha01                                                180   \n2   aaronto01                                                190   \n3    aasedo01                                                190   \n4    abadan01                                                184   \n5    abadfe01                                                220   \n6   abadijo01                                                192   \n7   abbated01                                                170   \n8   abbeybe01                                                175   \n9   abbeych01                                                169   \n10  abbotda01                                                190   \n11  abbotfr01                                                180   \n12  abbotgl01                                                200   \n13  abbotje01                                                190   \n14  abbotji01                                                200   \n15  abbotku01                                                180   \n16  abbotky01                                                200   \n17  abbotod01                                                180   \n18  abbotpa01                                                185   \n19   aberal01                                                195   \n20  abercda01  azureml.dataprep.native.DataPrepError(\"'Micros...   \n21  abercre01                                                215   \n22  abernbi01                                                190   \n23  abernbr01                                                185   \n24  abernte01                                                210   \n\n                                               height  \n0                                                  75  \n1                                                  72  \n2                                                  75  \n3                                                  75  \n4                                                  73  \n5                                                  73  \n6                                                  72  \n7                                                  71  \n8                                                  71  \n9                                                  68  \n10                                                 71  \n11                                                 70  \n12                                                 78  \n13                                                 74  \n14                                                 75  \n15                                                 71  \n16                                                 76  \n17                                                 74  \n18                                                 75  \n19                                                 74  \n20  azureml.dataprep.native.DataPrepError(\"'Micros...  \n21                                                 75  \n22                                                 70  \n23                                                 73  \n24                                                 74  "
          },
          "metadata": {}
        }
      ]
    },
    {
      "metadata": {},
      "cell_type": "markdown",
      "source": "Using `get_profile()`, we can see the shape of the numeric columns, such as the min, max, count, and number of error values."
    },
    {
      "metadata": {
        "trusted": true
      },
      "cell_type": "code",
      "source": "df.get_profile()",
      "execution_count": 4,
      "outputs": [
        {
          "output_type": "execute_result",
          "execution_count": 4,
          "data": {
            "text/html": "<table border=\"1\" class=\"dataframe\">\n  <thead>\n    <tr style=\"text-align: right;\">\n      <th></th>\n      <th>Type</th>\n      <th>Min</th>\n      <th>Max</th>\n      <th>Count</th>\n      <th>Missing Count</th>\n      <th>Not Missing Count</th>\n      <th>Percent missing</th>\n      <th>Error Count</th>\n      <th>Empty count</th>\n      <th>0.1% Quantile</th>\n      <th>1% Quantile</th>\n      <th>5% Quantile</th>\n      <th>25% Quantile</th>\n      <th>50% Quantile</th>\n      <th>75% Quantile</th>\n      <th>95% Quantile</th>\n      <th>99% Quantile</th>\n      <th>99.9% Quantile</th>\n      <th>Mean</th>\n      <th>Standard Deviation</th>\n      <th>Variance</th>\n      <th>Skewness</th>\n      <th>Kurtosis</th>\n    </tr>\n  </thead>\n  <tbody>\n    <tr>\n      <th>playerID</th>\n      <td>FieldType.STRING</td>\n      <td>aardsda01</td>\n      <td>zwilldu01</td>\n      <td>18589.0</td>\n      <td>0.0</td>\n      <td>18589.0</td>\n      <td>0.0</td>\n      <td>0.0</td>\n      <td>0.0</td>\n      <td></td>\n      <td></td>\n      <td></td>\n      <td></td>\n      <td></td>\n      <td></td>\n      <td></td>\n      <td></td>\n      <td></td>\n      <td></td>\n      <td></td>\n      <td></td>\n      <td></td>\n      <td></td>\n    </tr>\n    <tr>\n      <th>weight</th>\n      <td>FieldType.DECIMAL</td>\n      <td>65</td>\n      <td>320</td>\n      <td>18589.0</td>\n      <td>0.0</td>\n      <td>18589.0</td>\n      <td>0.0</td>\n      <td>872.0</td>\n      <td>0.0</td>\n      <td>129.299</td>\n      <td>160</td>\n      <td>159.997</td>\n      <td>169.998</td>\n      <td>183.553</td>\n      <td>196.655</td>\n      <td>222.46</td>\n      <td>245.242</td>\n      <td>279.792</td>\n      <td>185.563</td>\n      <td>20.9983</td>\n      <td>440.928</td>\n      <td>0.674785</td>\n      <td>1.173</td>\n    </tr>\n    <tr>\n      <th>height</th>\n      <td>FieldType.DECIMAL</td>\n      <td>43</td>\n      <td>83</td>\n      <td>18589.0</td>\n      <td>0.0</td>\n      <td>18589.0</td>\n      <td>0.0</td>\n      <td>809.0</td>\n      <td>0.0</td>\n      <td>62.9458</td>\n      <td>68.9976</td>\n      <td>68.9972</td>\n      <td>70.3849</td>\n      <td>72</td>\n      <td>73.9975</td>\n      <td>76</td>\n      <td>78.3518</td>\n      <td>80.6296</td>\n      <td>72.2353</td>\n      <td>2.59899</td>\n      <td>6.75476</td>\n      <td>-0.150168</td>\n      <td>0.965635</td>\n    </tr>\n  </tbody>\n</table>",
            "text/plain": "ColumnProfile\n    name: playerID\n    type: FieldType.STRING\n\n    min: aardsda01\n    max: zwilldu01\n    count: 18589.0\n    missing_count: 0.0\n    not_missing_count: 18589.0\n    percent_missing: 0.0\n    error_count: 0.0\n    empty_count: 0.0\n\n\nColumnProfile\n    name: weight\n    type: FieldType.DECIMAL\n\n    min: 65.0\n    max: 320.0\n    count: 18589.0\n    missing_count: 0.0\n    not_missing_count: 18589.0\n    percent_missing: 0.0\n    error_count: 872.0\n    empty_count: 0.0\n\n\n    Quantiles:\n         0.1%: 129.29877671957675\n           1%: 159.99953151689223\n           5%: 159.99654576856648\n          25%: 169.99780768694487\n          50%: 183.55268060052987\n          75%: 196.6551175790482\n          95%: 222.46017100866118\n          99%: 245.24211967545628\n        99.9%: 279.7918333333329\n\n    mean: 185.56267991194903\n    std: 20.998279187359838\n    variance: 440.9277288303094\n    skewness: 0.6747853162406994\n    kurtosis: 1.1729976824620998 \n\nColumnProfile\n    name: height\n    type: FieldType.DECIMAL\n\n    min: 43.0\n    max: 83.0\n    count: 18589.0\n    missing_count: 0.0\n    not_missing_count: 18589.0\n    percent_missing: 0.0\n    error_count: 809.0\n    empty_count: 0.0\n\n\n    Quantiles:\n         0.1%: 62.945827067669164\n           1%: 68.99758782005755\n           5%: 68.99719101123586\n          25%: 70.38494889805855\n          50%: 72.0\n          75%: 73.99753399388054\n          95%: 76.0\n          99%: 78.3517553191489\n        99.9%: 80.62964464925763\n\n    mean: 72.23526434195722\n    std: 2.5989922337218045\n    variance: 6.754760630946256\n    skewness: -0.15016833433457222\n    kurtosis: 0.9656345299674913 "
          },
          "metadata": {}
        }
      ]
    },
    {
      "metadata": {},
      "cell_type": "markdown",
      "source": "To apply min-max scaling, we can simply call the function `min_max_scaler` on the dataflow and specify the column name. This will trigger a full data scan over the column to determine the min and max values and perform the scaling. Note that the min and max values of the column is preserved at this point. If the same dataflow steps are performed over a different data set, the min-max scaler must be re-executed."
    },
    {
      "metadata": {
        "trusted": true
      },
      "cell_type": "code",
      "source": "df2 = df.min_max_scale(column='weight')\ndf2.head(25)",
      "execution_count": 5,
      "outputs": [
        {
          "output_type": "execute_result",
          "execution_count": 5,
          "data": {
            "text/html": "<div>\n<style scoped>\n    .dataframe tbody tr th:only-of-type {\n        vertical-align: middle;\n    }\n\n    .dataframe tbody tr th {\n        vertical-align: top;\n    }\n\n    .dataframe thead th {\n        text-align: right;\n    }\n</style>\n<table border=\"1\" class=\"dataframe\">\n  <thead>\n    <tr style=\"text-align: right;\">\n      <th></th>\n      <th>playerID</th>\n      <th>weight</th>\n      <th>height</th>\n    </tr>\n  </thead>\n  <tbody>\n    <tr>\n      <th>0</th>\n      <td>aardsda01</td>\n      <td>0.54902</td>\n      <td>75</td>\n    </tr>\n    <tr>\n      <th>1</th>\n      <td>aaronha01</td>\n      <td>0.45098</td>\n      <td>72</td>\n    </tr>\n    <tr>\n      <th>2</th>\n      <td>aaronto01</td>\n      <td>0.490196</td>\n      <td>75</td>\n    </tr>\n    <tr>\n      <th>3</th>\n      <td>aasedo01</td>\n      <td>0.490196</td>\n      <td>75</td>\n    </tr>\n    <tr>\n      <th>4</th>\n      <td>abadan01</td>\n      <td>0.466667</td>\n      <td>73</td>\n    </tr>\n    <tr>\n      <th>5</th>\n      <td>abadfe01</td>\n      <td>0.607843</td>\n      <td>73</td>\n    </tr>\n    <tr>\n      <th>6</th>\n      <td>abadijo01</td>\n      <td>0.498039</td>\n      <td>72</td>\n    </tr>\n    <tr>\n      <th>7</th>\n      <td>abbated01</td>\n      <td>0.411765</td>\n      <td>71</td>\n    </tr>\n    <tr>\n      <th>8</th>\n      <td>abbeybe01</td>\n      <td>0.431373</td>\n      <td>71</td>\n    </tr>\n    <tr>\n      <th>9</th>\n      <td>abbeych01</td>\n      <td>0.407843</td>\n      <td>68</td>\n    </tr>\n    <tr>\n      <th>10</th>\n      <td>abbotda01</td>\n      <td>0.490196</td>\n      <td>71</td>\n    </tr>\n    <tr>\n      <th>11</th>\n      <td>abbotfr01</td>\n      <td>0.45098</td>\n      <td>70</td>\n    </tr>\n    <tr>\n      <th>12</th>\n      <td>abbotgl01</td>\n      <td>0.529412</td>\n      <td>78</td>\n    </tr>\n    <tr>\n      <th>13</th>\n      <td>abbotje01</td>\n      <td>0.490196</td>\n      <td>74</td>\n    </tr>\n    <tr>\n      <th>14</th>\n      <td>abbotji01</td>\n      <td>0.529412</td>\n      <td>75</td>\n    </tr>\n    <tr>\n      <th>15</th>\n      <td>abbotku01</td>\n      <td>0.45098</td>\n      <td>71</td>\n    </tr>\n    <tr>\n      <th>16</th>\n      <td>abbotky01</td>\n      <td>0.529412</td>\n      <td>76</td>\n    </tr>\n    <tr>\n      <th>17</th>\n      <td>abbotod01</td>\n      <td>0.45098</td>\n      <td>74</td>\n    </tr>\n    <tr>\n      <th>18</th>\n      <td>abbotpa01</td>\n      <td>0.470588</td>\n      <td>75</td>\n    </tr>\n    <tr>\n      <th>19</th>\n      <td>aberal01</td>\n      <td>0.509804</td>\n      <td>74</td>\n    </tr>\n    <tr>\n      <th>20</th>\n      <td>abercda01</td>\n      <td>azureml.dataprep.native.DataPrepError(\"'Micros...</td>\n      <td>azureml.dataprep.native.DataPrepError(\"'Micros...</td>\n    </tr>\n    <tr>\n      <th>21</th>\n      <td>abercre01</td>\n      <td>0.588235</td>\n      <td>75</td>\n    </tr>\n    <tr>\n      <th>22</th>\n      <td>abernbi01</td>\n      <td>0.490196</td>\n      <td>70</td>\n    </tr>\n    <tr>\n      <th>23</th>\n      <td>abernbr01</td>\n      <td>0.470588</td>\n      <td>73</td>\n    </tr>\n    <tr>\n      <th>24</th>\n      <td>abernte01</td>\n      <td>0.568627</td>\n      <td>74</td>\n    </tr>\n  </tbody>\n</table>\n</div>",
            "text/plain": "     playerID                                             weight  \\\n0   aardsda01                                            0.54902   \n1   aaronha01                                            0.45098   \n2   aaronto01                                           0.490196   \n3    aasedo01                                           0.490196   \n4    abadan01                                           0.466667   \n5    abadfe01                                           0.607843   \n6   abadijo01                                           0.498039   \n7   abbated01                                           0.411765   \n8   abbeybe01                                           0.431373   \n9   abbeych01                                           0.407843   \n10  abbotda01                                           0.490196   \n11  abbotfr01                                            0.45098   \n12  abbotgl01                                           0.529412   \n13  abbotje01                                           0.490196   \n14  abbotji01                                           0.529412   \n15  abbotku01                                            0.45098   \n16  abbotky01                                           0.529412   \n17  abbotod01                                            0.45098   \n18  abbotpa01                                           0.470588   \n19   aberal01                                           0.509804   \n20  abercda01  azureml.dataprep.native.DataPrepError(\"'Micros...   \n21  abercre01                                           0.588235   \n22  abernbi01                                           0.490196   \n23  abernbr01                                           0.470588   \n24  abernte01                                           0.568627   \n\n                                               height  \n0                                                  75  \n1                                                  72  \n2                                                  75  \n3                                                  75  \n4                                                  73  \n5                                                  73  \n6                                                  72  \n7                                                  71  \n8                                                  71  \n9                                                  68  \n10                                                 71  \n11                                                 70  \n12                                                 78  \n13                                                 74  \n14                                                 75  \n15                                                 71  \n16                                                 76  \n17                                                 74  \n18                                                 75  \n19                                                 74  \n20  azureml.dataprep.native.DataPrepError(\"'Micros...  \n21                                                 75  \n22                                                 70  \n23                                                 73  \n24                                                 74  "
          },
          "metadata": {}
        }
      ]
    },
    {
      "metadata": {},
      "cell_type": "markdown",
      "source": "By looking at the data profile, we can see that the weight column is now scaled - the min is 0 and the max is 1. Any error values and missing values from the source column are preserved."
    },
    {
      "metadata": {
        "trusted": true
      },
      "cell_type": "code",
      "source": "df2.get_profile()",
      "execution_count": 6,
      "outputs": [
        {
          "output_type": "execute_result",
          "execution_count": 6,
          "data": {
            "text/html": "<table border=\"1\" class=\"dataframe\">\n  <thead>\n    <tr style=\"text-align: right;\">\n      <th></th>\n      <th>Type</th>\n      <th>Min</th>\n      <th>Max</th>\n      <th>Count</th>\n      <th>Missing Count</th>\n      <th>Not Missing Count</th>\n      <th>Percent missing</th>\n      <th>Error Count</th>\n      <th>Empty count</th>\n      <th>0.1% Quantile</th>\n      <th>1% Quantile</th>\n      <th>5% Quantile</th>\n      <th>25% Quantile</th>\n      <th>50% Quantile</th>\n      <th>75% Quantile</th>\n      <th>95% Quantile</th>\n      <th>99% Quantile</th>\n      <th>99.9% Quantile</th>\n      <th>Mean</th>\n      <th>Standard Deviation</th>\n      <th>Variance</th>\n      <th>Skewness</th>\n      <th>Kurtosis</th>\n    </tr>\n  </thead>\n  <tbody>\n    <tr>\n      <th>playerID</th>\n      <td>FieldType.STRING</td>\n      <td>aardsda01</td>\n      <td>zwilldu01</td>\n      <td>18589.0</td>\n      <td>0.0</td>\n      <td>18589.0</td>\n      <td>0.0</td>\n      <td>0.0</td>\n      <td>0.0</td>\n      <td></td>\n      <td></td>\n      <td></td>\n      <td></td>\n      <td></td>\n      <td></td>\n      <td></td>\n      <td></td>\n      <td></td>\n      <td></td>\n      <td></td>\n      <td></td>\n      <td></td>\n      <td></td>\n    </tr>\n    <tr>\n      <th>weight</th>\n      <td>FieldType.DECIMAL</td>\n      <td>0</td>\n      <td>1</td>\n      <td>18589.0</td>\n      <td>0.0</td>\n      <td>18589.0</td>\n      <td>0.0</td>\n      <td>872.0</td>\n      <td>0.0</td>\n      <td>0.252152</td>\n      <td>0.372547</td>\n      <td>0.372535</td>\n      <td>0.411756</td>\n      <td>0.464912</td>\n      <td>0.516333</td>\n      <td>0.616861</td>\n      <td>0.706902</td>\n      <td>0.842321</td>\n      <td>0.472795</td>\n      <td>0.0823462</td>\n      <td>0.0067809</td>\n      <td>0.674785</td>\n      <td>1.173</td>\n    </tr>\n    <tr>\n      <th>height</th>\n      <td>FieldType.DECIMAL</td>\n      <td>43</td>\n      <td>83</td>\n      <td>18589.0</td>\n      <td>0.0</td>\n      <td>18589.0</td>\n      <td>0.0</td>\n      <td>809.0</td>\n      <td>0.0</td>\n      <td>62.9458</td>\n      <td>68.9976</td>\n      <td>68.9972</td>\n      <td>70.3849</td>\n      <td>72</td>\n      <td>73.9975</td>\n      <td>76</td>\n      <td>78.3518</td>\n      <td>80.6296</td>\n      <td>72.2353</td>\n      <td>2.59899</td>\n      <td>6.75476</td>\n      <td>-0.150168</td>\n      <td>0.965635</td>\n    </tr>\n  </tbody>\n</table>",
            "text/plain": "ColumnProfile\n    name: playerID\n    type: FieldType.STRING\n\n    min: aardsda01\n    max: zwilldu01\n    count: 18589.0\n    missing_count: 0.0\n    not_missing_count: 18589.0\n    percent_missing: 0.0\n    error_count: 0.0\n    empty_count: 0.0\n\n\nColumnProfile\n    name: weight\n    type: FieldType.DECIMAL\n\n    min: 0.0\n    max: 1.0\n    count: 18589.0\n    missing_count: 0.0\n    not_missing_count: 18589.0\n    percent_missing: 0.0\n    error_count: 872.0\n    empty_count: 0.0\n\n\n    Quantiles:\n         0.1%: 0.2521520655669675\n           1%: 0.3725471824191853\n           5%: 0.3725354736022214\n          25%: 0.4117561085762543\n          50%: 0.4649124729432545\n          75%: 0.5163331075218496\n          95%: 0.6168607054114867\n          99%: 0.7069017681837765\n        99.9%: 0.842320915032678\n\n    mean: 0.47279482318411425\n    std: 0.08234619289160715\n    variance: 0.006780895483741773\n    skewness: 0.6747853162407021\n    kurtosis: 1.1729976824621273 \n\nColumnProfile\n    name: height\n    type: FieldType.DECIMAL\n\n    min: 43.0\n    max: 83.0\n    count: 18589.0\n    missing_count: 0.0\n    not_missing_count: 18589.0\n    percent_missing: 0.0\n    error_count: 809.0\n    empty_count: 0.0\n\n\n    Quantiles:\n         0.1%: 62.945827067669164\n           1%: 68.99758782005755\n           5%: 68.99719101123586\n          25%: 70.38494889805855\n          50%: 72.0\n          75%: 73.99753399388054\n          95%: 76.0\n          99%: 78.3517553191489\n        99.9%: 80.62964464925763\n\n    mean: 72.23526434195722\n    std: 2.5989922337218045\n    variance: 6.754760630946256\n    skewness: -0.15016833433457222\n    kurtosis: 0.9656345299674913 "
          },
          "metadata": {}
        }
      ]
    },
    {
      "metadata": {},
      "cell_type": "markdown",
      "source": "We can also specify a custom range for the scaling. Instead of [0, 1], let's choose [-10, 10]."
    },
    {
      "metadata": {
        "trusted": true
      },
      "cell_type": "code",
      "source": "df3 = df.min_max_scale(column='weight', range_min=-10, range_max=10)\ndf3.head(10)",
      "execution_count": 7,
      "outputs": [
        {
          "output_type": "execute_result",
          "execution_count": 7,
          "data": {
            "text/html": "<div>\n<style scoped>\n    .dataframe tbody tr th:only-of-type {\n        vertical-align: middle;\n    }\n\n    .dataframe tbody tr th {\n        vertical-align: top;\n    }\n\n    .dataframe thead th {\n        text-align: right;\n    }\n</style>\n<table border=\"1\" class=\"dataframe\">\n  <thead>\n    <tr style=\"text-align: right;\">\n      <th></th>\n      <th>playerID</th>\n      <th>weight</th>\n      <th>height</th>\n    </tr>\n  </thead>\n  <tbody>\n    <tr>\n      <th>0</th>\n      <td>aardsda01</td>\n      <td>0.980392</td>\n      <td>75.0</td>\n    </tr>\n    <tr>\n      <th>1</th>\n      <td>aaronha01</td>\n      <td>-0.980392</td>\n      <td>72.0</td>\n    </tr>\n    <tr>\n      <th>2</th>\n      <td>aaronto01</td>\n      <td>-0.196078</td>\n      <td>75.0</td>\n    </tr>\n    <tr>\n      <th>3</th>\n      <td>aasedo01</td>\n      <td>-0.196078</td>\n      <td>75.0</td>\n    </tr>\n    <tr>\n      <th>4</th>\n      <td>abadan01</td>\n      <td>-0.666667</td>\n      <td>73.0</td>\n    </tr>\n    <tr>\n      <th>5</th>\n      <td>abadfe01</td>\n      <td>2.156863</td>\n      <td>73.0</td>\n    </tr>\n    <tr>\n      <th>6</th>\n      <td>abadijo01</td>\n      <td>-0.039216</td>\n      <td>72.0</td>\n    </tr>\n    <tr>\n      <th>7</th>\n      <td>abbated01</td>\n      <td>-1.764706</td>\n      <td>71.0</td>\n    </tr>\n    <tr>\n      <th>8</th>\n      <td>abbeybe01</td>\n      <td>-1.372549</td>\n      <td>71.0</td>\n    </tr>\n    <tr>\n      <th>9</th>\n      <td>abbeych01</td>\n      <td>-1.843137</td>\n      <td>68.0</td>\n    </tr>\n  </tbody>\n</table>\n</div>",
            "text/plain": "    playerID    weight  height\n0  aardsda01  0.980392    75.0\n1  aaronha01 -0.980392    72.0\n2  aaronto01 -0.196078    75.0\n3   aasedo01 -0.196078    75.0\n4   abadan01 -0.666667    73.0\n5   abadfe01  2.156863    73.0\n6  abadijo01 -0.039216    72.0\n7  abbated01 -1.764706    71.0\n8  abbeybe01 -1.372549    71.0\n9  abbeych01 -1.843137    68.0"
          },
          "metadata": {}
        }
      ]
    },
    {
      "metadata": {},
      "cell_type": "markdown",
      "source": "In some cases, we may want to manually provide the min and max of the data in the source column. For example, we may want to avoid a full data scan because the dataset is large and we already know the min and max. We can provide the known min and max to the `min_max_scaler` function. The column will be scaled using the provided values. Let's say we want to scale the height column with 50 inches (`data_min`) becoming 0 (`range_min`). The program will scan the data to get `data_max`, which will become 1 (`range_max`)."
    },
    {
      "metadata": {
        "scrolled": true,
        "trusted": true
      },
      "cell_type": "code",
      "source": "df4 = df.min_max_scale(column='height', data_min=50)\ndf4.get_profile()",
      "execution_count": 8,
      "outputs": [
        {
          "output_type": "execute_result",
          "execution_count": 8,
          "data": {
            "text/html": "<table border=\"1\" class=\"dataframe\">\n  <thead>\n    <tr style=\"text-align: right;\">\n      <th></th>\n      <th>Type</th>\n      <th>Min</th>\n      <th>Max</th>\n      <th>Count</th>\n      <th>Missing Count</th>\n      <th>Not Missing Count</th>\n      <th>Percent missing</th>\n      <th>Error Count</th>\n      <th>Empty count</th>\n      <th>0.1% Quantile</th>\n      <th>1% Quantile</th>\n      <th>5% Quantile</th>\n      <th>25% Quantile</th>\n      <th>50% Quantile</th>\n      <th>75% Quantile</th>\n      <th>95% Quantile</th>\n      <th>99% Quantile</th>\n      <th>99.9% Quantile</th>\n      <th>Mean</th>\n      <th>Standard Deviation</th>\n      <th>Variance</th>\n      <th>Skewness</th>\n      <th>Kurtosis</th>\n    </tr>\n  </thead>\n  <tbody>\n    <tr>\n      <th>playerID</th>\n      <td>FieldType.STRING</td>\n      <td>aardsda01</td>\n      <td>zwilldu01</td>\n      <td>18589.0</td>\n      <td>0.0</td>\n      <td>18589.0</td>\n      <td>0.0</td>\n      <td>0.0</td>\n      <td>0.0</td>\n      <td></td>\n      <td></td>\n      <td></td>\n      <td></td>\n      <td></td>\n      <td></td>\n      <td></td>\n      <td></td>\n      <td></td>\n      <td></td>\n      <td></td>\n      <td></td>\n      <td></td>\n      <td></td>\n    </tr>\n    <tr>\n      <th>weight</th>\n      <td>FieldType.DECIMAL</td>\n      <td>65</td>\n      <td>320</td>\n      <td>18589.0</td>\n      <td>0.0</td>\n      <td>18589.0</td>\n      <td>0.0</td>\n      <td>872.0</td>\n      <td>0.0</td>\n      <td>129.299</td>\n      <td>160</td>\n      <td>159.997</td>\n      <td>169.998</td>\n      <td>183.553</td>\n      <td>196.655</td>\n      <td>222.46</td>\n      <td>245.242</td>\n      <td>279.792</td>\n      <td>185.563</td>\n      <td>20.9983</td>\n      <td>440.928</td>\n      <td>0.674785</td>\n      <td>1.173</td>\n    </tr>\n    <tr>\n      <th>height</th>\n      <td>FieldType.DECIMAL</td>\n      <td>-0.212121</td>\n      <td>1</td>\n      <td>18589.0</td>\n      <td>0.0</td>\n      <td>18589.0</td>\n      <td>0.0</td>\n      <td>809.0</td>\n      <td>0.0</td>\n      <td>0.392298</td>\n      <td>0.575684</td>\n      <td>0.575672</td>\n      <td>0.617726</td>\n      <td>0.666667</td>\n      <td>0.727198</td>\n      <td>0.787879</td>\n      <td>0.859144</td>\n      <td>0.928102</td>\n      <td>0.673796</td>\n      <td>0.0787573</td>\n      <td>0.00620272</td>\n      <td>-0.150168</td>\n      <td>0.965635</td>\n    </tr>\n  </tbody>\n</table>",
            "text/plain": "ColumnProfile\n    name: playerID\n    type: FieldType.STRING\n\n    min: aardsda01\n    max: zwilldu01\n    count: 18589.0\n    missing_count: 0.0\n    not_missing_count: 18589.0\n    percent_missing: 0.0\n    error_count: 0.0\n    empty_count: 0.0\n\n\nColumnProfile\n    name: weight\n    type: FieldType.DECIMAL\n\n    min: 65.0\n    max: 320.0\n    count: 18589.0\n    missing_count: 0.0\n    not_missing_count: 18589.0\n    percent_missing: 0.0\n    error_count: 872.0\n    empty_count: 0.0\n\n\n    Quantiles:\n         0.1%: 129.29877671957675\n           1%: 159.99953151689223\n           5%: 159.99654576856648\n          25%: 169.99780768694487\n          50%: 183.55268060052987\n          75%: 196.6551175790482\n          95%: 222.46017100866118\n          99%: 245.24211967545628\n        99.9%: 279.7918333333329\n\n    mean: 185.56267991194903\n    std: 20.998279187359838\n    variance: 440.9277288303094\n    skewness: 0.6747853162406994\n    kurtosis: 1.1729976824620998 \n\nColumnProfile\n    name: height\n    type: FieldType.DECIMAL\n\n    min: -0.21212121212121213\n    max: 1.0\n    count: 18589.0\n    missing_count: 0.0\n    not_missing_count: 18589.0\n    percent_missing: 0.0\n    error_count: 809.0\n    empty_count: 0.0\n\n\n    Quantiles:\n         0.1%: 0.39229778992936887\n           1%: 0.5756844793956861\n           5%: 0.575672454885938\n          25%: 0.6177257241835924\n          50%: 0.6666666666666666\n          75%: 0.7271979998145622\n          95%: 0.7878787878787878\n          99%: 0.8591441005802711\n        99.9%: 0.9281020304050631\n\n    mean: 0.6737958891502199\n    std: 0.07875734041581207\n    variance: 0.006202718669372106\n    skewness: -0.1501683343345706\n    kurtosis: 0.965634529967482 "
          },
          "metadata": {}
        }
      ]
    },
    {
      "metadata": {},
      "cell_type": "markdown",
      "source": "### Using a Min-Max Scaler Builder"
    },
    {
      "metadata": {},
      "cell_type": "markdown",
      "source": "For more flexibility when constructing the arguments for the min-max scaling, we can use a min-max scaler builder."
    },
    {
      "metadata": {
        "trusted": true
      },
      "cell_type": "code",
      "source": "builder = df.builders.min_max_scale(column='weight')\nbuilder",
      "execution_count": 9,
      "outputs": [
        {
          "output_type": "execute_result",
          "execution_count": 9,
          "data": {
            "text/plain": "MinMaxScalerBuilder\n    column: 'weight'\n    range_min: 0\n    range_max: 1\n    data_min: None\n    data_max: None"
          },
          "metadata": {}
        }
      ]
    },
    {
      "metadata": {},
      "cell_type": "markdown",
      "source": "Calling `builder.learn()` will trigger a full data scan to see what `data_min` and `data_max` are. We can choose whether to use these values, or set custom values."
    },
    {
      "metadata": {
        "trusted": true
      },
      "cell_type": "code",
      "source": "builder.learn()\nbuilder",
      "execution_count": 10,
      "outputs": [
        {
          "output_type": "execute_result",
          "execution_count": 10,
          "data": {
            "text/plain": "MinMaxScalerBuilder\n    column: 'weight'\n    range_min: 0\n    range_max: 1\n    data_min: 65.0\n    data_max: 320.0"
          },
          "metadata": {}
        }
      ]
    },
    {
      "metadata": {},
      "cell_type": "markdown",
      "source": "If we want to provide custom values for any of the arguments, we can simply update the builder object."
    },
    {
      "metadata": {
        "trusted": true
      },
      "cell_type": "code",
      "source": "builder.range_max = 10\nbuilder.data_min = 50\nbuilder",
      "execution_count": 11,
      "outputs": [
        {
          "output_type": "execute_result",
          "execution_count": 11,
          "data": {
            "text/plain": "MinMaxScalerBuilder\n    column: 'weight'\n    range_min: 0\n    range_max: 10\n    data_min: 50\n    data_max: 320.0"
          },
          "metadata": {}
        }
      ]
    },
    {
      "metadata": {},
      "cell_type": "markdown",
      "source": "When we are satisfied with the arguments, we will call `builder.to_dataflow()` to get the result. Note that the min and max values of the source column is preserved by the builder at this point. If we need to get the true `data_min` and `data_max` values again, we will need to set those arguments on the builder to `None`, and then call `builder.learn()` again."
    },
    {
      "metadata": {
        "trusted": true
      },
      "cell_type": "code",
      "source": "df5 = builder.to_dataflow()\ndf5.head(25)",
      "execution_count": 12,
      "outputs": [
        {
          "output_type": "execute_result",
          "execution_count": 12,
          "data": {
            "text/html": "<div>\n<style scoped>\n    .dataframe tbody tr th:only-of-type {\n        vertical-align: middle;\n    }\n\n    .dataframe tbody tr th {\n        vertical-align: top;\n    }\n\n    .dataframe thead th {\n        text-align: right;\n    }\n</style>\n<table border=\"1\" class=\"dataframe\">\n  <thead>\n    <tr style=\"text-align: right;\">\n      <th></th>\n      <th>playerID</th>\n      <th>weight</th>\n      <th>height</th>\n    </tr>\n  </thead>\n  <tbody>\n    <tr>\n      <th>0</th>\n      <td>aardsda01</td>\n      <td>5.74074</td>\n      <td>75</td>\n    </tr>\n    <tr>\n      <th>1</th>\n      <td>aaronha01</td>\n      <td>4.81481</td>\n      <td>72</td>\n    </tr>\n    <tr>\n      <th>2</th>\n      <td>aaronto01</td>\n      <td>5.18519</td>\n      <td>75</td>\n    </tr>\n    <tr>\n      <th>3</th>\n      <td>aasedo01</td>\n      <td>5.18519</td>\n      <td>75</td>\n    </tr>\n    <tr>\n      <th>4</th>\n      <td>abadan01</td>\n      <td>4.96296</td>\n      <td>73</td>\n    </tr>\n    <tr>\n      <th>5</th>\n      <td>abadfe01</td>\n      <td>6.2963</td>\n      <td>73</td>\n    </tr>\n    <tr>\n      <th>6</th>\n      <td>abadijo01</td>\n      <td>5.25926</td>\n      <td>72</td>\n    </tr>\n    <tr>\n      <th>7</th>\n      <td>abbated01</td>\n      <td>4.44444</td>\n      <td>71</td>\n    </tr>\n    <tr>\n      <th>8</th>\n      <td>abbeybe01</td>\n      <td>4.62963</td>\n      <td>71</td>\n    </tr>\n    <tr>\n      <th>9</th>\n      <td>abbeych01</td>\n      <td>4.40741</td>\n      <td>68</td>\n    </tr>\n    <tr>\n      <th>10</th>\n      <td>abbotda01</td>\n      <td>5.18519</td>\n      <td>71</td>\n    </tr>\n    <tr>\n      <th>11</th>\n      <td>abbotfr01</td>\n      <td>4.81481</td>\n      <td>70</td>\n    </tr>\n    <tr>\n      <th>12</th>\n      <td>abbotgl01</td>\n      <td>5.55556</td>\n      <td>78</td>\n    </tr>\n    <tr>\n      <th>13</th>\n      <td>abbotje01</td>\n      <td>5.18519</td>\n      <td>74</td>\n    </tr>\n    <tr>\n      <th>14</th>\n      <td>abbotji01</td>\n      <td>5.55556</td>\n      <td>75</td>\n    </tr>\n    <tr>\n      <th>15</th>\n      <td>abbotku01</td>\n      <td>4.81481</td>\n      <td>71</td>\n    </tr>\n    <tr>\n      <th>16</th>\n      <td>abbotky01</td>\n      <td>5.55556</td>\n      <td>76</td>\n    </tr>\n    <tr>\n      <th>17</th>\n      <td>abbotod01</td>\n      <td>4.81481</td>\n      <td>74</td>\n    </tr>\n    <tr>\n      <th>18</th>\n      <td>abbotpa01</td>\n      <td>5</td>\n      <td>75</td>\n    </tr>\n    <tr>\n      <th>19</th>\n      <td>aberal01</td>\n      <td>5.37037</td>\n      <td>74</td>\n    </tr>\n    <tr>\n      <th>20</th>\n      <td>abercda01</td>\n      <td>azureml.dataprep.native.DataPrepError(\"'Micros...</td>\n      <td>azureml.dataprep.native.DataPrepError(\"'Micros...</td>\n    </tr>\n    <tr>\n      <th>21</th>\n      <td>abercre01</td>\n      <td>6.11111</td>\n      <td>75</td>\n    </tr>\n    <tr>\n      <th>22</th>\n      <td>abernbi01</td>\n      <td>5.18519</td>\n      <td>70</td>\n    </tr>\n    <tr>\n      <th>23</th>\n      <td>abernbr01</td>\n      <td>5</td>\n      <td>73</td>\n    </tr>\n    <tr>\n      <th>24</th>\n      <td>abernte01</td>\n      <td>5.92593</td>\n      <td>74</td>\n    </tr>\n  </tbody>\n</table>\n</div>",
            "text/plain": "     playerID                                             weight  \\\n0   aardsda01                                            5.74074   \n1   aaronha01                                            4.81481   \n2   aaronto01                                            5.18519   \n3    aasedo01                                            5.18519   \n4    abadan01                                            4.96296   \n5    abadfe01                                             6.2963   \n6   abadijo01                                            5.25926   \n7   abbated01                                            4.44444   \n8   abbeybe01                                            4.62963   \n9   abbeych01                                            4.40741   \n10  abbotda01                                            5.18519   \n11  abbotfr01                                            4.81481   \n12  abbotgl01                                            5.55556   \n13  abbotje01                                            5.18519   \n14  abbotji01                                            5.55556   \n15  abbotku01                                            4.81481   \n16  abbotky01                                            5.55556   \n17  abbotod01                                            4.81481   \n18  abbotpa01                                                  5   \n19   aberal01                                            5.37037   \n20  abercda01  azureml.dataprep.native.DataPrepError(\"'Micros...   \n21  abercre01                                            6.11111   \n22  abernbi01                                            5.18519   \n23  abernbr01                                                  5   \n24  abernte01                                            5.92593   \n\n                                               height  \n0                                                  75  \n1                                                  72  \n2                                                  75  \n3                                                  75  \n4                                                  73  \n5                                                  73  \n6                                                  72  \n7                                                  71  \n8                                                  71  \n9                                                  68  \n10                                                 71  \n11                                                 70  \n12                                                 78  \n13                                                 74  \n14                                                 75  \n15                                                 71  \n16                                                 76  \n17                                                 74  \n18                                                 75  \n19                                                 74  \n20  azureml.dataprep.native.DataPrepError(\"'Micros...  \n21                                                 75  \n22                                                 70  \n23                                                 73  \n24                                                 74  "
          },
          "metadata": {}
        }
      ]
    },
    {
      "metadata": {
        "trusted": true
      },
      "cell_type": "code",
      "source": "",
      "execution_count": null,
      "outputs": []
    },
    {
      "metadata": {
        "trusted": true
      },
      "cell_type": "code",
      "source": "",
      "execution_count": null,
      "outputs": []
    },
    {
      "metadata": {
        "trusted": true
      },
      "cell_type": "code",
      "source": "",
      "execution_count": null,
      "outputs": []
    }
  ],
  "metadata": {
    "kernelspec": {
      "name": "python36",
      "display_name": "Python 3.6",
      "language": "python"
    },
    "language_info": {
      "mimetype": "text/x-python",
      "nbconvert_exporter": "python",
      "name": "python",
      "pygments_lexer": "ipython3",
      "version": "3.6.6",
      "file_extension": ".py",
      "codemirror_mode": {
        "version": 3,
        "name": "ipython"
      }
    }
  },
  "nbformat": 4,
  "nbformat_minor": 2
}