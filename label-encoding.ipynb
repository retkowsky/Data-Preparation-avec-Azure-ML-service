{
  "cells": [
    {
      "metadata": {},
      "cell_type": "markdown",
      "source": "# Label Encoding\nCopyright (c) Microsoft Corporation. All rights reserved.<br>\nLicensed under the MIT License.<br>\n\nDataPrep has the ability to encode labels with values between 0 and (number of classes - 1) using `label_encode`."
    },
    {
      "metadata": {
        "trusted": true
      },
      "cell_type": "code",
      "source": "!pip install azureml",
      "execution_count": 1,
      "outputs": [
        {
          "output_type": "stream",
          "text": "Requirement already satisfied: azureml in /home/nbuser/anaconda3_501/lib/python3.6/site-packages (0.2.7)\nRequirement already satisfied: pandas in /home/nbuser/anaconda3_501/lib/python3.6/site-packages (from azureml) (0.22.0)\nRequirement already satisfied: python-dateutil in /home/nbuser/anaconda3_501/lib/python3.6/site-packages (from azureml) (2.7.5)\nRequirement already satisfied: requests in /home/nbuser/anaconda3_501/lib/python3.6/site-packages (from azureml) (2.20.1)\nRequirement already satisfied: pytz>=2011k in /home/nbuser/anaconda3_501/lib/python3.6/site-packages (from pandas->azureml) (2018.7)\nRequirement already satisfied: numpy>=1.9.0 in /home/nbuser/anaconda3_501/lib/python3.6/site-packages (from pandas->azureml) (1.14.6)\nRequirement already satisfied: six>=1.5 in /home/nbuser/anaconda3_501/lib/python3.6/site-packages (from python-dateutil->azureml) (1.11.0)\nRequirement already satisfied: urllib3<1.25,>=1.21.1 in /home/nbuser/anaconda3_501/lib/python3.6/site-packages (from requests->azureml) (1.23)\nRequirement already satisfied: chardet<3.1.0,>=3.0.2 in /home/nbuser/anaconda3_501/lib/python3.6/site-packages (from requests->azureml) (3.0.4)\nRequirement already satisfied: idna<2.8,>=2.5 in /home/nbuser/anaconda3_501/lib/python3.6/site-packages (from requests->azureml) (2.7)\nRequirement already satisfied: certifi>=2017.4.17 in /home/nbuser/anaconda3_501/lib/python3.6/site-packages (from requests->azureml) (2018.10.15)\n",
          "name": "stdout"
        }
      ]
    },
    {
      "metadata": {
        "trusted": true
      },
      "cell_type": "code",
      "source": "import azureml.dataprep as dprep\nfrom datetime import datetime\ndataflow = dprep.read_csv(path='./data/crime0-10.csv')\ndataflow.head(10)",
      "execution_count": 2,
      "outputs": [
        {
          "output_type": "execute_result",
          "execution_count": 2,
          "data": {
            "text/html": "<div>\n<style scoped>\n    .dataframe tbody tr th:only-of-type {\n        vertical-align: middle;\n    }\n\n    .dataframe tbody tr th {\n        vertical-align: top;\n    }\n\n    .dataframe thead th {\n        text-align: right;\n    }\n</style>\n<table border=\"1\" class=\"dataframe\">\n  <thead>\n    <tr style=\"text-align: right;\">\n      <th></th>\n      <th>ID</th>\n      <th>Case Number</th>\n      <th>Date</th>\n      <th>Block</th>\n      <th>IUCR</th>\n      <th>Primary Type</th>\n      <th>Description</th>\n      <th>Location Description</th>\n      <th>Arrest</th>\n      <th>Domestic</th>\n      <th>...</th>\n      <th>Ward</th>\n      <th>Community Area</th>\n      <th>FBI Code</th>\n      <th>X Coordinate</th>\n      <th>Y Coordinate</th>\n      <th>Year</th>\n      <th>Updated On</th>\n      <th>Latitude</th>\n      <th>Longitude</th>\n      <th>Location</th>\n    </tr>\n  </thead>\n  <tbody>\n    <tr>\n      <th>0</th>\n      <td>10140490</td>\n      <td>HY329907</td>\n      <td>07/05/2015 11:50:00 PM</td>\n      <td>050XX N NEWLAND AVE</td>\n      <td>0820</td>\n      <td>THEFT</td>\n      <td>$500 AND UNDER</td>\n      <td>STREET</td>\n      <td>false</td>\n      <td>false</td>\n      <td>...</td>\n      <td>41</td>\n      <td>10</td>\n      <td>06</td>\n      <td>1129230</td>\n      <td>1933315</td>\n      <td>2015</td>\n      <td>07/12/2015 12:42:46 PM</td>\n      <td>41.973309466</td>\n      <td>-87.800174996</td>\n      <td>(41.973309466, -87.800174996)</td>\n    </tr>\n    <tr>\n      <th>1</th>\n      <td>10139776</td>\n      <td>HY329265</td>\n      <td>07/05/2015 11:30:00 PM</td>\n      <td>011XX W MORSE AVE</td>\n      <td>0460</td>\n      <td>BATTERY</td>\n      <td>SIMPLE</td>\n      <td>STREET</td>\n      <td>false</td>\n      <td>true</td>\n      <td>...</td>\n      <td>49</td>\n      <td>1</td>\n      <td>08B</td>\n      <td>1167370</td>\n      <td>1946271</td>\n      <td>2015</td>\n      <td>07/12/2015 12:42:46 PM</td>\n      <td>42.008124017</td>\n      <td>-87.65955018</td>\n      <td>(42.008124017, -87.65955018)</td>\n    </tr>\n    <tr>\n      <th>2</th>\n      <td>10140270</td>\n      <td>HY329253</td>\n      <td>07/05/2015 11:20:00 PM</td>\n      <td>121XX S FRONT AVE</td>\n      <td>0486</td>\n      <td>BATTERY</td>\n      <td>DOMESTIC BATTERY SIMPLE</td>\n      <td>STREET</td>\n      <td>false</td>\n      <td>true</td>\n      <td>...</td>\n      <td>9</td>\n      <td>53</td>\n      <td>08B</td>\n      <td></td>\n      <td></td>\n      <td>2015</td>\n      <td>07/12/2015 12:42:46 PM</td>\n      <td></td>\n      <td></td>\n      <td></td>\n    </tr>\n    <tr>\n      <th>3</th>\n      <td>10139885</td>\n      <td>HY329308</td>\n      <td>07/05/2015 11:19:00 PM</td>\n      <td>051XX W DIVISION ST</td>\n      <td>0610</td>\n      <td>BURGLARY</td>\n      <td>FORCIBLE ENTRY</td>\n      <td>SMALL RETAIL STORE</td>\n      <td>false</td>\n      <td>false</td>\n      <td>...</td>\n      <td>37</td>\n      <td>25</td>\n      <td>05</td>\n      <td>1141721</td>\n      <td>1907465</td>\n      <td>2015</td>\n      <td>07/12/2015 12:42:46 PM</td>\n      <td>41.902152027</td>\n      <td>-87.754883404</td>\n      <td>(41.902152027, -87.754883404)</td>\n    </tr>\n    <tr>\n      <th>4</th>\n      <td>10140379</td>\n      <td>HY329556</td>\n      <td>07/05/2015 11:00:00 PM</td>\n      <td>012XX W LAKE ST</td>\n      <td>0930</td>\n      <td>MOTOR VEHICLE THEFT</td>\n      <td>THEFT/RECOVERY: AUTOMOBILE</td>\n      <td>STREET</td>\n      <td>false</td>\n      <td>false</td>\n      <td>...</td>\n      <td>27</td>\n      <td>28</td>\n      <td>07</td>\n      <td>1168413</td>\n      <td>1901632</td>\n      <td>2015</td>\n      <td>07/12/2015 12:42:46 PM</td>\n      <td>41.885610142</td>\n      <td>-87.657008701</td>\n      <td>(41.885610142, -87.657008701)</td>\n    </tr>\n    <tr>\n      <th>5</th>\n      <td>10140868</td>\n      <td>HY330421</td>\n      <td>07/05/2015 10:54:00 PM</td>\n      <td>118XX S PEORIA ST</td>\n      <td>1320</td>\n      <td>CRIMINAL DAMAGE</td>\n      <td>TO VEHICLE</td>\n      <td>VEHICLE NON-COMMERCIAL</td>\n      <td>false</td>\n      <td>false</td>\n      <td>...</td>\n      <td>34</td>\n      <td>53</td>\n      <td>14</td>\n      <td>1172409</td>\n      <td>1826485</td>\n      <td>2015</td>\n      <td>07/12/2015 12:42:46 PM</td>\n      <td>41.6793109</td>\n      <td>-87.644545209</td>\n      <td>(41.6793109, -87.644545209)</td>\n    </tr>\n    <tr>\n      <th>6</th>\n      <td>10139762</td>\n      <td>HY329232</td>\n      <td>07/05/2015 10:42:00 PM</td>\n      <td>026XX W 37TH PL</td>\n      <td>1020</td>\n      <td>ARSON</td>\n      <td>BY FIRE</td>\n      <td>VACANT LOT/LAND</td>\n      <td>false</td>\n      <td>false</td>\n      <td>...</td>\n      <td>12</td>\n      <td>58</td>\n      <td>09</td>\n      <td>1159436</td>\n      <td>1879658</td>\n      <td>2015</td>\n      <td>07/12/2015 12:42:46 PM</td>\n      <td>41.825500607</td>\n      <td>-87.690578042</td>\n      <td>(41.825500607, -87.690578042)</td>\n    </tr>\n    <tr>\n      <th>7</th>\n      <td>10139722</td>\n      <td>HY329228</td>\n      <td>07/05/2015 10:30:00 PM</td>\n      <td>016XX S CENTRAL PARK AVE</td>\n      <td>1811</td>\n      <td>NARCOTICS</td>\n      <td>POSS: CANNABIS 30GMS OR LESS</td>\n      <td>ALLEY</td>\n      <td>true</td>\n      <td>false</td>\n      <td>...</td>\n      <td>24</td>\n      <td>29</td>\n      <td>18</td>\n      <td>1152687</td>\n      <td>1891389</td>\n      <td>2015</td>\n      <td>07/12/2015 12:42:46 PM</td>\n      <td>41.857827814</td>\n      <td>-87.715028789</td>\n      <td>(41.857827814, -87.715028789)</td>\n    </tr>\n    <tr>\n      <th>8</th>\n      <td>10139774</td>\n      <td>HY329209</td>\n      <td>07/05/2015 10:15:00 PM</td>\n      <td>048XX N ASHLAND AVE</td>\n      <td>1310</td>\n      <td>CRIMINAL DAMAGE</td>\n      <td>TO PROPERTY</td>\n      <td>APARTMENT</td>\n      <td>false</td>\n      <td>false</td>\n      <td>...</td>\n      <td>46</td>\n      <td>3</td>\n      <td>14</td>\n      <td>1164821</td>\n      <td>1932394</td>\n      <td>2015</td>\n      <td>07/12/2015 12:42:46 PM</td>\n      <td>41.970099796</td>\n      <td>-87.669324377</td>\n      <td>(41.970099796, -87.669324377)</td>\n    </tr>\n    <tr>\n      <th>9</th>\n      <td>10139697</td>\n      <td>HY329177</td>\n      <td>07/05/2015 10:10:00 PM</td>\n      <td>058XX S ARTESIAN AVE</td>\n      <td>1320</td>\n      <td>CRIMINAL DAMAGE</td>\n      <td>TO VEHICLE</td>\n      <td>ALLEY</td>\n      <td>false</td>\n      <td>false</td>\n      <td>...</td>\n      <td>16</td>\n      <td>63</td>\n      <td>14</td>\n      <td>1160997</td>\n      <td>1865851</td>\n      <td>2015</td>\n      <td>07/12/2015 12:42:46 PM</td>\n      <td>41.787580282</td>\n      <td>-87.685233078</td>\n      <td>(41.787580282, -87.685233078)</td>\n    </tr>\n  </tbody>\n</table>\n<p>10 rows × 22 columns</p>\n</div>",
            "text/plain": "         ID Case Number                    Date                     Block  \\\n0  10140490    HY329907  07/05/2015 11:50:00 PM       050XX N NEWLAND AVE   \n1  10139776    HY329265  07/05/2015 11:30:00 PM         011XX W MORSE AVE   \n2  10140270    HY329253  07/05/2015 11:20:00 PM         121XX S FRONT AVE   \n3  10139885    HY329308  07/05/2015 11:19:00 PM       051XX W DIVISION ST   \n4  10140379    HY329556  07/05/2015 11:00:00 PM           012XX W LAKE ST   \n5  10140868    HY330421  07/05/2015 10:54:00 PM         118XX S PEORIA ST   \n6  10139762    HY329232  07/05/2015 10:42:00 PM           026XX W 37TH PL   \n7  10139722    HY329228  07/05/2015 10:30:00 PM  016XX S CENTRAL PARK AVE   \n8  10139774    HY329209  07/05/2015 10:15:00 PM       048XX N ASHLAND AVE   \n9  10139697    HY329177  07/05/2015 10:10:00 PM      058XX S ARTESIAN AVE   \n\n   IUCR         Primary Type                   Description  \\\n0  0820                THEFT                $500 AND UNDER   \n1  0460              BATTERY                        SIMPLE   \n2  0486              BATTERY       DOMESTIC BATTERY SIMPLE   \n3  0610             BURGLARY                FORCIBLE ENTRY   \n4  0930  MOTOR VEHICLE THEFT    THEFT/RECOVERY: AUTOMOBILE   \n5  1320      CRIMINAL DAMAGE                    TO VEHICLE   \n6  1020                ARSON                       BY FIRE   \n7  1811            NARCOTICS  POSS: CANNABIS 30GMS OR LESS   \n8  1310      CRIMINAL DAMAGE                   TO PROPERTY   \n9  1320      CRIMINAL DAMAGE                    TO VEHICLE   \n\n     Location Description Arrest Domestic              ...               Ward  \\\n0                  STREET  false    false              ...                 41   \n1                  STREET  false     true              ...                 49   \n2                  STREET  false     true              ...                  9   \n3      SMALL RETAIL STORE  false    false              ...                 37   \n4                  STREET  false    false              ...                 27   \n5  VEHICLE NON-COMMERCIAL  false    false              ...                 34   \n6         VACANT LOT/LAND  false    false              ...                 12   \n7                   ALLEY   true    false              ...                 24   \n8               APARTMENT  false    false              ...                 46   \n9                   ALLEY  false    false              ...                 16   \n\n  Community Area FBI Code X Coordinate Y Coordinate  Year  \\\n0             10       06      1129230      1933315  2015   \n1              1      08B      1167370      1946271  2015   \n2             53      08B                            2015   \n3             25       05      1141721      1907465  2015   \n4             28       07      1168413      1901632  2015   \n5             53       14      1172409      1826485  2015   \n6             58       09      1159436      1879658  2015   \n7             29       18      1152687      1891389  2015   \n8              3       14      1164821      1932394  2015   \n9             63       14      1160997      1865851  2015   \n\n               Updated On      Latitude      Longitude  \\\n0  07/12/2015 12:42:46 PM  41.973309466  -87.800174996   \n1  07/12/2015 12:42:46 PM  42.008124017   -87.65955018   \n2  07/12/2015 12:42:46 PM                                \n3  07/12/2015 12:42:46 PM  41.902152027  -87.754883404   \n4  07/12/2015 12:42:46 PM  41.885610142  -87.657008701   \n5  07/12/2015 12:42:46 PM    41.6793109  -87.644545209   \n6  07/12/2015 12:42:46 PM  41.825500607  -87.690578042   \n7  07/12/2015 12:42:46 PM  41.857827814  -87.715028789   \n8  07/12/2015 12:42:46 PM  41.970099796  -87.669324377   \n9  07/12/2015 12:42:46 PM  41.787580282  -87.685233078   \n\n                        Location  \n0  (41.973309466, -87.800174996)  \n1   (42.008124017, -87.65955018)  \n2                                 \n3  (41.902152027, -87.754883404)  \n4  (41.885610142, -87.657008701)  \n5    (41.6793109, -87.644545209)  \n6  (41.825500607, -87.690578042)  \n7  (41.857827814, -87.715028789)  \n8  (41.970099796, -87.669324377)  \n9  (41.787580282, -87.685233078)  \n\n[10 rows x 22 columns]"
          },
          "metadata": {}
        }
      ]
    },
    {
      "metadata": {},
      "cell_type": "markdown",
      "source": "To use `label_encode` from a dataflow, simply specify the source column and the new column name. `label_encode` will figure out all the distinct values or classes in the source column, and it will return a new dataflow with a new column containing the labels."
    },
    {
      "metadata": {
        "trusted": true
      },
      "cell_type": "code",
      "source": "dataflow = dataflow.label_encode(source_column='Primary Type', new_column_name='Primary Type Label')\ndataflow.head(10)",
      "execution_count": 3,
      "outputs": [
        {
          "output_type": "execute_result",
          "execution_count": 3,
          "data": {
            "text/html": "<div>\n<style scoped>\n    .dataframe tbody tr th:only-of-type {\n        vertical-align: middle;\n    }\n\n    .dataframe tbody tr th {\n        vertical-align: top;\n    }\n\n    .dataframe thead th {\n        text-align: right;\n    }\n</style>\n<table border=\"1\" class=\"dataframe\">\n  <thead>\n    <tr style=\"text-align: right;\">\n      <th></th>\n      <th>ID</th>\n      <th>Case Number</th>\n      <th>Date</th>\n      <th>Block</th>\n      <th>IUCR</th>\n      <th>Primary Type</th>\n      <th>Primary Type Label</th>\n      <th>Description</th>\n      <th>Location Description</th>\n      <th>Arrest</th>\n      <th>...</th>\n      <th>Ward</th>\n      <th>Community Area</th>\n      <th>FBI Code</th>\n      <th>X Coordinate</th>\n      <th>Y Coordinate</th>\n      <th>Year</th>\n      <th>Updated On</th>\n      <th>Latitude</th>\n      <th>Longitude</th>\n      <th>Location</th>\n    </tr>\n  </thead>\n  <tbody>\n    <tr>\n      <th>0</th>\n      <td>10140490</td>\n      <td>HY329907</td>\n      <td>07/05/2015 11:50:00 PM</td>\n      <td>050XX N NEWLAND AVE</td>\n      <td>0820</td>\n      <td>THEFT</td>\n      <td>6</td>\n      <td>$500 AND UNDER</td>\n      <td>STREET</td>\n      <td>false</td>\n      <td>...</td>\n      <td>41</td>\n      <td>10</td>\n      <td>06</td>\n      <td>1129230</td>\n      <td>1933315</td>\n      <td>2015</td>\n      <td>07/12/2015 12:42:46 PM</td>\n      <td>41.973309466</td>\n      <td>-87.800174996</td>\n      <td>(41.973309466, -87.800174996)</td>\n    </tr>\n    <tr>\n      <th>1</th>\n      <td>10139776</td>\n      <td>HY329265</td>\n      <td>07/05/2015 11:30:00 PM</td>\n      <td>011XX W MORSE AVE</td>\n      <td>0460</td>\n      <td>BATTERY</td>\n      <td>1</td>\n      <td>SIMPLE</td>\n      <td>STREET</td>\n      <td>false</td>\n      <td>...</td>\n      <td>49</td>\n      <td>1</td>\n      <td>08B</td>\n      <td>1167370</td>\n      <td>1946271</td>\n      <td>2015</td>\n      <td>07/12/2015 12:42:46 PM</td>\n      <td>42.008124017</td>\n      <td>-87.65955018</td>\n      <td>(42.008124017, -87.65955018)</td>\n    </tr>\n    <tr>\n      <th>2</th>\n      <td>10140270</td>\n      <td>HY329253</td>\n      <td>07/05/2015 11:20:00 PM</td>\n      <td>121XX S FRONT AVE</td>\n      <td>0486</td>\n      <td>BATTERY</td>\n      <td>1</td>\n      <td>DOMESTIC BATTERY SIMPLE</td>\n      <td>STREET</td>\n      <td>false</td>\n      <td>...</td>\n      <td>9</td>\n      <td>53</td>\n      <td>08B</td>\n      <td></td>\n      <td></td>\n      <td>2015</td>\n      <td>07/12/2015 12:42:46 PM</td>\n      <td></td>\n      <td></td>\n      <td></td>\n    </tr>\n    <tr>\n      <th>3</th>\n      <td>10139885</td>\n      <td>HY329308</td>\n      <td>07/05/2015 11:19:00 PM</td>\n      <td>051XX W DIVISION ST</td>\n      <td>0610</td>\n      <td>BURGLARY</td>\n      <td>5</td>\n      <td>FORCIBLE ENTRY</td>\n      <td>SMALL RETAIL STORE</td>\n      <td>false</td>\n      <td>...</td>\n      <td>37</td>\n      <td>25</td>\n      <td>05</td>\n      <td>1141721</td>\n      <td>1907465</td>\n      <td>2015</td>\n      <td>07/12/2015 12:42:46 PM</td>\n      <td>41.902152027</td>\n      <td>-87.754883404</td>\n      <td>(41.902152027, -87.754883404)</td>\n    </tr>\n    <tr>\n      <th>4</th>\n      <td>10140379</td>\n      <td>HY329556</td>\n      <td>07/05/2015 11:00:00 PM</td>\n      <td>012XX W LAKE ST</td>\n      <td>0930</td>\n      <td>MOTOR VEHICLE THEFT</td>\n      <td>4</td>\n      <td>THEFT/RECOVERY: AUTOMOBILE</td>\n      <td>STREET</td>\n      <td>false</td>\n      <td>...</td>\n      <td>27</td>\n      <td>28</td>\n      <td>07</td>\n      <td>1168413</td>\n      <td>1901632</td>\n      <td>2015</td>\n      <td>07/12/2015 12:42:46 PM</td>\n      <td>41.885610142</td>\n      <td>-87.657008701</td>\n      <td>(41.885610142, -87.657008701)</td>\n    </tr>\n    <tr>\n      <th>5</th>\n      <td>10140868</td>\n      <td>HY330421</td>\n      <td>07/05/2015 10:54:00 PM</td>\n      <td>118XX S PEORIA ST</td>\n      <td>1320</td>\n      <td>CRIMINAL DAMAGE</td>\n      <td>0</td>\n      <td>TO VEHICLE</td>\n      <td>VEHICLE NON-COMMERCIAL</td>\n      <td>false</td>\n      <td>...</td>\n      <td>34</td>\n      <td>53</td>\n      <td>14</td>\n      <td>1172409</td>\n      <td>1826485</td>\n      <td>2015</td>\n      <td>07/12/2015 12:42:46 PM</td>\n      <td>41.6793109</td>\n      <td>-87.644545209</td>\n      <td>(41.6793109, -87.644545209)</td>\n    </tr>\n    <tr>\n      <th>6</th>\n      <td>10139762</td>\n      <td>HY329232</td>\n      <td>07/05/2015 10:42:00 PM</td>\n      <td>026XX W 37TH PL</td>\n      <td>1020</td>\n      <td>ARSON</td>\n      <td>3</td>\n      <td>BY FIRE</td>\n      <td>VACANT LOT/LAND</td>\n      <td>false</td>\n      <td>...</td>\n      <td>12</td>\n      <td>58</td>\n      <td>09</td>\n      <td>1159436</td>\n      <td>1879658</td>\n      <td>2015</td>\n      <td>07/12/2015 12:42:46 PM</td>\n      <td>41.825500607</td>\n      <td>-87.690578042</td>\n      <td>(41.825500607, -87.690578042)</td>\n    </tr>\n    <tr>\n      <th>7</th>\n      <td>10139722</td>\n      <td>HY329228</td>\n      <td>07/05/2015 10:30:00 PM</td>\n      <td>016XX S CENTRAL PARK AVE</td>\n      <td>1811</td>\n      <td>NARCOTICS</td>\n      <td>2</td>\n      <td>POSS: CANNABIS 30GMS OR LESS</td>\n      <td>ALLEY</td>\n      <td>true</td>\n      <td>...</td>\n      <td>24</td>\n      <td>29</td>\n      <td>18</td>\n      <td>1152687</td>\n      <td>1891389</td>\n      <td>2015</td>\n      <td>07/12/2015 12:42:46 PM</td>\n      <td>41.857827814</td>\n      <td>-87.715028789</td>\n      <td>(41.857827814, -87.715028789)</td>\n    </tr>\n    <tr>\n      <th>8</th>\n      <td>10139774</td>\n      <td>HY329209</td>\n      <td>07/05/2015 10:15:00 PM</td>\n      <td>048XX N ASHLAND AVE</td>\n      <td>1310</td>\n      <td>CRIMINAL DAMAGE</td>\n      <td>0</td>\n      <td>TO PROPERTY</td>\n      <td>APARTMENT</td>\n      <td>false</td>\n      <td>...</td>\n      <td>46</td>\n      <td>3</td>\n      <td>14</td>\n      <td>1164821</td>\n      <td>1932394</td>\n      <td>2015</td>\n      <td>07/12/2015 12:42:46 PM</td>\n      <td>41.970099796</td>\n      <td>-87.669324377</td>\n      <td>(41.970099796, -87.669324377)</td>\n    </tr>\n    <tr>\n      <th>9</th>\n      <td>10139697</td>\n      <td>HY329177</td>\n      <td>07/05/2015 10:10:00 PM</td>\n      <td>058XX S ARTESIAN AVE</td>\n      <td>1320</td>\n      <td>CRIMINAL DAMAGE</td>\n      <td>0</td>\n      <td>TO VEHICLE</td>\n      <td>ALLEY</td>\n      <td>false</td>\n      <td>...</td>\n      <td>16</td>\n      <td>63</td>\n      <td>14</td>\n      <td>1160997</td>\n      <td>1865851</td>\n      <td>2015</td>\n      <td>07/12/2015 12:42:46 PM</td>\n      <td>41.787580282</td>\n      <td>-87.685233078</td>\n      <td>(41.787580282, -87.685233078)</td>\n    </tr>\n  </tbody>\n</table>\n<p>10 rows × 23 columns</p>\n</div>",
            "text/plain": "         ID Case Number                    Date                     Block  \\\n0  10140490    HY329907  07/05/2015 11:50:00 PM       050XX N NEWLAND AVE   \n1  10139776    HY329265  07/05/2015 11:30:00 PM         011XX W MORSE AVE   \n2  10140270    HY329253  07/05/2015 11:20:00 PM         121XX S FRONT AVE   \n3  10139885    HY329308  07/05/2015 11:19:00 PM       051XX W DIVISION ST   \n4  10140379    HY329556  07/05/2015 11:00:00 PM           012XX W LAKE ST   \n5  10140868    HY330421  07/05/2015 10:54:00 PM         118XX S PEORIA ST   \n6  10139762    HY329232  07/05/2015 10:42:00 PM           026XX W 37TH PL   \n7  10139722    HY329228  07/05/2015 10:30:00 PM  016XX S CENTRAL PARK AVE   \n8  10139774    HY329209  07/05/2015 10:15:00 PM       048XX N ASHLAND AVE   \n9  10139697    HY329177  07/05/2015 10:10:00 PM      058XX S ARTESIAN AVE   \n\n   IUCR         Primary Type  Primary Type Label  \\\n0  0820                THEFT                   6   \n1  0460              BATTERY                   1   \n2  0486              BATTERY                   1   \n3  0610             BURGLARY                   5   \n4  0930  MOTOR VEHICLE THEFT                   4   \n5  1320      CRIMINAL DAMAGE                   0   \n6  1020                ARSON                   3   \n7  1811            NARCOTICS                   2   \n8  1310      CRIMINAL DAMAGE                   0   \n9  1320      CRIMINAL DAMAGE                   0   \n\n                    Description    Location Description Arrest  \\\n0                $500 AND UNDER                  STREET  false   \n1                        SIMPLE                  STREET  false   \n2       DOMESTIC BATTERY SIMPLE                  STREET  false   \n3                FORCIBLE ENTRY      SMALL RETAIL STORE  false   \n4    THEFT/RECOVERY: AUTOMOBILE                  STREET  false   \n5                    TO VEHICLE  VEHICLE NON-COMMERCIAL  false   \n6                       BY FIRE         VACANT LOT/LAND  false   \n7  POSS: CANNABIS 30GMS OR LESS                   ALLEY   true   \n8                   TO PROPERTY               APARTMENT  false   \n9                    TO VEHICLE                   ALLEY  false   \n\n               ...               Ward Community Area FBI Code X Coordinate  \\\n0              ...                 41             10       06      1129230   \n1              ...                 49              1      08B      1167370   \n2              ...                  9             53      08B                \n3              ...                 37             25       05      1141721   \n4              ...                 27             28       07      1168413   \n5              ...                 34             53       14      1172409   \n6              ...                 12             58       09      1159436   \n7              ...                 24             29       18      1152687   \n8              ...                 46              3       14      1164821   \n9              ...                 16             63       14      1160997   \n\n  Y Coordinate  Year              Updated On      Latitude      Longitude  \\\n0      1933315  2015  07/12/2015 12:42:46 PM  41.973309466  -87.800174996   \n1      1946271  2015  07/12/2015 12:42:46 PM  42.008124017   -87.65955018   \n2               2015  07/12/2015 12:42:46 PM                                \n3      1907465  2015  07/12/2015 12:42:46 PM  41.902152027  -87.754883404   \n4      1901632  2015  07/12/2015 12:42:46 PM  41.885610142  -87.657008701   \n5      1826485  2015  07/12/2015 12:42:46 PM    41.6793109  -87.644545209   \n6      1879658  2015  07/12/2015 12:42:46 PM  41.825500607  -87.690578042   \n7      1891389  2015  07/12/2015 12:42:46 PM  41.857827814  -87.715028789   \n8      1932394  2015  07/12/2015 12:42:46 PM  41.970099796  -87.669324377   \n9      1865851  2015  07/12/2015 12:42:46 PM  41.787580282  -87.685233078   \n\n                        Location  \n0  (41.973309466, -87.800174996)  \n1   (42.008124017, -87.65955018)  \n2                                 \n3  (41.902152027, -87.754883404)  \n4  (41.885610142, -87.657008701)  \n5    (41.6793109, -87.644545209)  \n6  (41.825500607, -87.690578042)  \n7  (41.857827814, -87.715028789)  \n8  (41.970099796, -87.669324377)  \n9  (41.787580282, -87.685233078)  \n\n[10 rows x 23 columns]"
          },
          "metadata": {}
        }
      ]
    },
    {
      "metadata": {},
      "cell_type": "markdown",
      "source": "To have more control over the encoded labels, create a builder with `dataflow.builders.label_encode`\nThe builder allows to preview and modify the encoded labels before generating a new dataflow with the results.  \nTo get started, create a builder object with `dataflow.builders.label_encode` specifying the source column, and the new column name.  "
    },
    {
      "metadata": {
        "trusted": true
      },
      "cell_type": "code",
      "source": "builder = dataflow.builders.label_encode(source_column='Location Description', new_column_name='Location Description Label')",
      "execution_count": 4,
      "outputs": []
    },
    {
      "metadata": {},
      "cell_type": "markdown",
      "source": "To generate the encoded labels, call the `learn` method on the builder object."
    },
    {
      "metadata": {
        "trusted": true
      },
      "cell_type": "code",
      "source": "builder.learn()",
      "execution_count": 5,
      "outputs": []
    },
    {
      "metadata": {},
      "cell_type": "markdown",
      "source": "To check the result, simply access the generated labels through the property `encoded_labels`"
    },
    {
      "metadata": {
        "scrolled": true,
        "trusted": true
      },
      "cell_type": "code",
      "source": "builder.encoded_labels",
      "execution_count": 6,
      "outputs": [
        {
          "output_type": "execute_result",
          "execution_count": 6,
          "data": {
            "text/plain": "{'STREET': 0,\n 'ALLEY': 1,\n 'APARTMENT': 2,\n 'VACANT LOT/LAND': 3,\n 'VEHICLE NON-COMMERCIAL': 4,\n 'SMALL RETAIL STORE': 5}"
          },
          "metadata": {}
        }
      ]
    },
    {
      "metadata": {},
      "cell_type": "markdown",
      "source": "To modify the generated results, just assign a new value to `encoded_labels`.  \nThe following example adds a missing label not found on the sample data.  \n`builder.encoded_labels` is saved into a variable `encoded_labels`, modified, and assigned back to `builder.encoded_labels`."
    },
    {
      "metadata": {
        "trusted": true
      },
      "cell_type": "code",
      "source": "encoded_labels = builder.encoded_labels\nencoded_labels['TOWNHOUSE'] = 6\n\nbuilder.encoded_labels = encoded_labels\nbuilder.encoded_labels",
      "execution_count": 7,
      "outputs": [
        {
          "output_type": "execute_result",
          "execution_count": 7,
          "data": {
            "text/plain": "{'STREET': 0,\n 'ALLEY': 1,\n 'APARTMENT': 2,\n 'VACANT LOT/LAND': 3,\n 'VEHICLE NON-COMMERCIAL': 4,\n 'SMALL RETAIL STORE': 5,\n 'TOWNHOUSE': 6}"
          },
          "metadata": {}
        }
      ]
    },
    {
      "metadata": {},
      "cell_type": "markdown",
      "source": "Once the desired results are achieved, call `builder.to_dataflow` to get the new dataflow with the encoded labels."
    },
    {
      "metadata": {
        "scrolled": true,
        "trusted": true
      },
      "cell_type": "code",
      "source": "dataflow = builder.to_dataflow()\ndataflow.head(10)",
      "execution_count": 8,
      "outputs": [
        {
          "output_type": "execute_result",
          "execution_count": 8,
          "data": {
            "text/html": "<div>\n<style scoped>\n    .dataframe tbody tr th:only-of-type {\n        vertical-align: middle;\n    }\n\n    .dataframe tbody tr th {\n        vertical-align: top;\n    }\n\n    .dataframe thead th {\n        text-align: right;\n    }\n</style>\n<table border=\"1\" class=\"dataframe\">\n  <thead>\n    <tr style=\"text-align: right;\">\n      <th></th>\n      <th>ID</th>\n      <th>Case Number</th>\n      <th>Date</th>\n      <th>Block</th>\n      <th>IUCR</th>\n      <th>Primary Type</th>\n      <th>Primary Type Label</th>\n      <th>Description</th>\n      <th>Location Description</th>\n      <th>Location Description Label</th>\n      <th>...</th>\n      <th>Ward</th>\n      <th>Community Area</th>\n      <th>FBI Code</th>\n      <th>X Coordinate</th>\n      <th>Y Coordinate</th>\n      <th>Year</th>\n      <th>Updated On</th>\n      <th>Latitude</th>\n      <th>Longitude</th>\n      <th>Location</th>\n    </tr>\n  </thead>\n  <tbody>\n    <tr>\n      <th>0</th>\n      <td>10140490</td>\n      <td>HY329907</td>\n      <td>07/05/2015 11:50:00 PM</td>\n      <td>050XX N NEWLAND AVE</td>\n      <td>0820</td>\n      <td>THEFT</td>\n      <td>6</td>\n      <td>$500 AND UNDER</td>\n      <td>STREET</td>\n      <td>0</td>\n      <td>...</td>\n      <td>41</td>\n      <td>10</td>\n      <td>06</td>\n      <td>1129230</td>\n      <td>1933315</td>\n      <td>2015</td>\n      <td>07/12/2015 12:42:46 PM</td>\n      <td>41.973309466</td>\n      <td>-87.800174996</td>\n      <td>(41.973309466, -87.800174996)</td>\n    </tr>\n    <tr>\n      <th>1</th>\n      <td>10139776</td>\n      <td>HY329265</td>\n      <td>07/05/2015 11:30:00 PM</td>\n      <td>011XX W MORSE AVE</td>\n      <td>0460</td>\n      <td>BATTERY</td>\n      <td>1</td>\n      <td>SIMPLE</td>\n      <td>STREET</td>\n      <td>0</td>\n      <td>...</td>\n      <td>49</td>\n      <td>1</td>\n      <td>08B</td>\n      <td>1167370</td>\n      <td>1946271</td>\n      <td>2015</td>\n      <td>07/12/2015 12:42:46 PM</td>\n      <td>42.008124017</td>\n      <td>-87.65955018</td>\n      <td>(42.008124017, -87.65955018)</td>\n    </tr>\n    <tr>\n      <th>2</th>\n      <td>10140270</td>\n      <td>HY329253</td>\n      <td>07/05/2015 11:20:00 PM</td>\n      <td>121XX S FRONT AVE</td>\n      <td>0486</td>\n      <td>BATTERY</td>\n      <td>1</td>\n      <td>DOMESTIC BATTERY SIMPLE</td>\n      <td>STREET</td>\n      <td>0</td>\n      <td>...</td>\n      <td>9</td>\n      <td>53</td>\n      <td>08B</td>\n      <td></td>\n      <td></td>\n      <td>2015</td>\n      <td>07/12/2015 12:42:46 PM</td>\n      <td></td>\n      <td></td>\n      <td></td>\n    </tr>\n    <tr>\n      <th>3</th>\n      <td>10139885</td>\n      <td>HY329308</td>\n      <td>07/05/2015 11:19:00 PM</td>\n      <td>051XX W DIVISION ST</td>\n      <td>0610</td>\n      <td>BURGLARY</td>\n      <td>5</td>\n      <td>FORCIBLE ENTRY</td>\n      <td>SMALL RETAIL STORE</td>\n      <td>5</td>\n      <td>...</td>\n      <td>37</td>\n      <td>25</td>\n      <td>05</td>\n      <td>1141721</td>\n      <td>1907465</td>\n      <td>2015</td>\n      <td>07/12/2015 12:42:46 PM</td>\n      <td>41.902152027</td>\n      <td>-87.754883404</td>\n      <td>(41.902152027, -87.754883404)</td>\n    </tr>\n    <tr>\n      <th>4</th>\n      <td>10140379</td>\n      <td>HY329556</td>\n      <td>07/05/2015 11:00:00 PM</td>\n      <td>012XX W LAKE ST</td>\n      <td>0930</td>\n      <td>MOTOR VEHICLE THEFT</td>\n      <td>4</td>\n      <td>THEFT/RECOVERY: AUTOMOBILE</td>\n      <td>STREET</td>\n      <td>0</td>\n      <td>...</td>\n      <td>27</td>\n      <td>28</td>\n      <td>07</td>\n      <td>1168413</td>\n      <td>1901632</td>\n      <td>2015</td>\n      <td>07/12/2015 12:42:46 PM</td>\n      <td>41.885610142</td>\n      <td>-87.657008701</td>\n      <td>(41.885610142, -87.657008701)</td>\n    </tr>\n    <tr>\n      <th>5</th>\n      <td>10140868</td>\n      <td>HY330421</td>\n      <td>07/05/2015 10:54:00 PM</td>\n      <td>118XX S PEORIA ST</td>\n      <td>1320</td>\n      <td>CRIMINAL DAMAGE</td>\n      <td>0</td>\n      <td>TO VEHICLE</td>\n      <td>VEHICLE NON-COMMERCIAL</td>\n      <td>4</td>\n      <td>...</td>\n      <td>34</td>\n      <td>53</td>\n      <td>14</td>\n      <td>1172409</td>\n      <td>1826485</td>\n      <td>2015</td>\n      <td>07/12/2015 12:42:46 PM</td>\n      <td>41.6793109</td>\n      <td>-87.644545209</td>\n      <td>(41.6793109, -87.644545209)</td>\n    </tr>\n    <tr>\n      <th>6</th>\n      <td>10139762</td>\n      <td>HY329232</td>\n      <td>07/05/2015 10:42:00 PM</td>\n      <td>026XX W 37TH PL</td>\n      <td>1020</td>\n      <td>ARSON</td>\n      <td>3</td>\n      <td>BY FIRE</td>\n      <td>VACANT LOT/LAND</td>\n      <td>3</td>\n      <td>...</td>\n      <td>12</td>\n      <td>58</td>\n      <td>09</td>\n      <td>1159436</td>\n      <td>1879658</td>\n      <td>2015</td>\n      <td>07/12/2015 12:42:46 PM</td>\n      <td>41.825500607</td>\n      <td>-87.690578042</td>\n      <td>(41.825500607, -87.690578042)</td>\n    </tr>\n    <tr>\n      <th>7</th>\n      <td>10139722</td>\n      <td>HY329228</td>\n      <td>07/05/2015 10:30:00 PM</td>\n      <td>016XX S CENTRAL PARK AVE</td>\n      <td>1811</td>\n      <td>NARCOTICS</td>\n      <td>2</td>\n      <td>POSS: CANNABIS 30GMS OR LESS</td>\n      <td>ALLEY</td>\n      <td>1</td>\n      <td>...</td>\n      <td>24</td>\n      <td>29</td>\n      <td>18</td>\n      <td>1152687</td>\n      <td>1891389</td>\n      <td>2015</td>\n      <td>07/12/2015 12:42:46 PM</td>\n      <td>41.857827814</td>\n      <td>-87.715028789</td>\n      <td>(41.857827814, -87.715028789)</td>\n    </tr>\n    <tr>\n      <th>8</th>\n      <td>10139774</td>\n      <td>HY329209</td>\n      <td>07/05/2015 10:15:00 PM</td>\n      <td>048XX N ASHLAND AVE</td>\n      <td>1310</td>\n      <td>CRIMINAL DAMAGE</td>\n      <td>0</td>\n      <td>TO PROPERTY</td>\n      <td>APARTMENT</td>\n      <td>2</td>\n      <td>...</td>\n      <td>46</td>\n      <td>3</td>\n      <td>14</td>\n      <td>1164821</td>\n      <td>1932394</td>\n      <td>2015</td>\n      <td>07/12/2015 12:42:46 PM</td>\n      <td>41.970099796</td>\n      <td>-87.669324377</td>\n      <td>(41.970099796, -87.669324377)</td>\n    </tr>\n    <tr>\n      <th>9</th>\n      <td>10139697</td>\n      <td>HY329177</td>\n      <td>07/05/2015 10:10:00 PM</td>\n      <td>058XX S ARTESIAN AVE</td>\n      <td>1320</td>\n      <td>CRIMINAL DAMAGE</td>\n      <td>0</td>\n      <td>TO VEHICLE</td>\n      <td>ALLEY</td>\n      <td>1</td>\n      <td>...</td>\n      <td>16</td>\n      <td>63</td>\n      <td>14</td>\n      <td>1160997</td>\n      <td>1865851</td>\n      <td>2015</td>\n      <td>07/12/2015 12:42:46 PM</td>\n      <td>41.787580282</td>\n      <td>-87.685233078</td>\n      <td>(41.787580282, -87.685233078)</td>\n    </tr>\n  </tbody>\n</table>\n<p>10 rows × 24 columns</p>\n</div>",
            "text/plain": "         ID Case Number                    Date                     Block  \\\n0  10140490    HY329907  07/05/2015 11:50:00 PM       050XX N NEWLAND AVE   \n1  10139776    HY329265  07/05/2015 11:30:00 PM         011XX W MORSE AVE   \n2  10140270    HY329253  07/05/2015 11:20:00 PM         121XX S FRONT AVE   \n3  10139885    HY329308  07/05/2015 11:19:00 PM       051XX W DIVISION ST   \n4  10140379    HY329556  07/05/2015 11:00:00 PM           012XX W LAKE ST   \n5  10140868    HY330421  07/05/2015 10:54:00 PM         118XX S PEORIA ST   \n6  10139762    HY329232  07/05/2015 10:42:00 PM           026XX W 37TH PL   \n7  10139722    HY329228  07/05/2015 10:30:00 PM  016XX S CENTRAL PARK AVE   \n8  10139774    HY329209  07/05/2015 10:15:00 PM       048XX N ASHLAND AVE   \n9  10139697    HY329177  07/05/2015 10:10:00 PM      058XX S ARTESIAN AVE   \n\n   IUCR         Primary Type  Primary Type Label  \\\n0  0820                THEFT                   6   \n1  0460              BATTERY                   1   \n2  0486              BATTERY                   1   \n3  0610             BURGLARY                   5   \n4  0930  MOTOR VEHICLE THEFT                   4   \n5  1320      CRIMINAL DAMAGE                   0   \n6  1020                ARSON                   3   \n7  1811            NARCOTICS                   2   \n8  1310      CRIMINAL DAMAGE                   0   \n9  1320      CRIMINAL DAMAGE                   0   \n\n                    Description    Location Description  \\\n0                $500 AND UNDER                  STREET   \n1                        SIMPLE                  STREET   \n2       DOMESTIC BATTERY SIMPLE                  STREET   \n3                FORCIBLE ENTRY      SMALL RETAIL STORE   \n4    THEFT/RECOVERY: AUTOMOBILE                  STREET   \n5                    TO VEHICLE  VEHICLE NON-COMMERCIAL   \n6                       BY FIRE         VACANT LOT/LAND   \n7  POSS: CANNABIS 30GMS OR LESS                   ALLEY   \n8                   TO PROPERTY               APARTMENT   \n9                    TO VEHICLE                   ALLEY   \n\n   Location Description Label              ...               Ward  \\\n0                           0              ...                 41   \n1                           0              ...                 49   \n2                           0              ...                  9   \n3                           5              ...                 37   \n4                           0              ...                 27   \n5                           4              ...                 34   \n6                           3              ...                 12   \n7                           1              ...                 24   \n8                           2              ...                 46   \n9                           1              ...                 16   \n\n  Community Area FBI Code X Coordinate Y Coordinate  Year  \\\n0             10       06      1129230      1933315  2015   \n1              1      08B      1167370      1946271  2015   \n2             53      08B                            2015   \n3             25       05      1141721      1907465  2015   \n4             28       07      1168413      1901632  2015   \n5             53       14      1172409      1826485  2015   \n6             58       09      1159436      1879658  2015   \n7             29       18      1152687      1891389  2015   \n8              3       14      1164821      1932394  2015   \n9             63       14      1160997      1865851  2015   \n\n               Updated On      Latitude      Longitude  \\\n0  07/12/2015 12:42:46 PM  41.973309466  -87.800174996   \n1  07/12/2015 12:42:46 PM  42.008124017   -87.65955018   \n2  07/12/2015 12:42:46 PM                                \n3  07/12/2015 12:42:46 PM  41.902152027  -87.754883404   \n4  07/12/2015 12:42:46 PM  41.885610142  -87.657008701   \n5  07/12/2015 12:42:46 PM    41.6793109  -87.644545209   \n6  07/12/2015 12:42:46 PM  41.825500607  -87.690578042   \n7  07/12/2015 12:42:46 PM  41.857827814  -87.715028789   \n8  07/12/2015 12:42:46 PM  41.970099796  -87.669324377   \n9  07/12/2015 12:42:46 PM  41.787580282  -87.685233078   \n\n                        Location  \n0  (41.973309466, -87.800174996)  \n1   (42.008124017, -87.65955018)  \n2                                 \n3  (41.902152027, -87.754883404)  \n4  (41.885610142, -87.657008701)  \n5    (41.6793109, -87.644545209)  \n6  (41.825500607, -87.690578042)  \n7  (41.857827814, -87.715028789)  \n8  (41.970099796, -87.669324377)  \n9  (41.787580282, -87.685233078)  \n\n[10 rows x 24 columns]"
          },
          "metadata": {}
        }
      ]
    },
    {
      "metadata": {
        "trusted": true
      },
      "cell_type": "code",
      "source": "",
      "execution_count": null,
      "outputs": []
    },
    {
      "metadata": {
        "trusted": true
      },
      "cell_type": "code",
      "source": "",
      "execution_count": null,
      "outputs": []
    },
    {
      "metadata": {
        "trusted": true
      },
      "cell_type": "code",
      "source": "",
      "execution_count": null,
      "outputs": []
    }
  ],
  "metadata": {
    "kernelspec": {
      "name": "python36",
      "display_name": "Python 3.6",
      "language": "python"
    },
    "language_info": {
      "mimetype": "text/x-python",
      "nbconvert_exporter": "python",
      "name": "python",
      "pygments_lexer": "ipython3",
      "version": "3.6.6",
      "file_extension": ".py",
      "codemirror_mode": {
        "version": 3,
        "name": "ipython"
      }
    }
  },
  "nbformat": 4,
  "nbformat_minor": 2
}