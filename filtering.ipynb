{
  "cells": [
    {
      "metadata": {},
      "cell_type": "markdown",
      "source": "# Filtering\nCopyright (c) Microsoft Corporation. All rights reserved.<br>\nLicensed under the MIT License."
    },
    {
      "metadata": {},
      "cell_type": "markdown",
      "source": "DataPrep has the ability to filter out columns or rows using `Dataflow.drop_columns` or `Dataflow.filter`."
    },
    {
      "metadata": {
        "trusted": true
      },
      "cell_type": "code",
      "source": "# initial set up\nimport azureml.dataprep as dprep\nfrom datetime import datetime\ndataflow = dprep.read_csv(path='https://dprepdata.blob.core.windows.net/demo/green-small/*')\ndataflow.head(10)",
      "execution_count": 1,
      "outputs": [
        {
          "output_type": "execute_result",
          "execution_count": 1,
          "data": {
            "text/html": "<div>\n<style scoped>\n    .dataframe tbody tr th:only-of-type {\n        vertical-align: middle;\n    }\n\n    .dataframe tbody tr th {\n        vertical-align: top;\n    }\n\n    .dataframe thead th {\n        text-align: right;\n    }\n</style>\n<table border=\"1\" class=\"dataframe\">\n  <thead>\n    <tr style=\"text-align: right;\">\n      <th></th>\n      <th>VendorID</th>\n      <th>lpep_pickup_datetime</th>\n      <th>Lpep_dropoff_datetime</th>\n      <th>Store_and_fwd_flag</th>\n      <th>RateCodeID</th>\n      <th>Pickup_longitude</th>\n      <th>Pickup_latitude</th>\n      <th>Dropoff_longitude</th>\n      <th>Dropoff_latitude</th>\n      <th>Passenger_count</th>\n      <th>...</th>\n      <th>Extra</th>\n      <th>MTA_tax</th>\n      <th>Tip_amount</th>\n      <th>Tolls_amount</th>\n      <th>Ehail_fee</th>\n      <th>Total_amount</th>\n      <th>Payment_type</th>\n      <th>Trip_type</th>\n      <th>Column21</th>\n      <th>Column22</th>\n    </tr>\n  </thead>\n  <tbody>\n    <tr>\n      <th>0</th>\n      <td></td>\n      <td>None</td>\n      <td>None</td>\n      <td>None</td>\n      <td>None</td>\n      <td>None</td>\n      <td>None</td>\n      <td>None</td>\n      <td>None</td>\n      <td>None</td>\n      <td>...</td>\n      <td>None</td>\n      <td>None</td>\n      <td>None</td>\n      <td>None</td>\n      <td>None</td>\n      <td>None</td>\n      <td>None</td>\n      <td>None</td>\n      <td>None</td>\n      <td>None</td>\n    </tr>\n    <tr>\n      <th>1</th>\n      <td>2</td>\n      <td>2013-08-01 08:14:37</td>\n      <td>2013-08-01 09:09:06</td>\n      <td>N</td>\n      <td>1</td>\n      <td>0</td>\n      <td>0</td>\n      <td>0</td>\n      <td>0</td>\n      <td>1</td>\n      <td>...</td>\n      <td>0</td>\n      <td>0</td>\n      <td>0</td>\n      <td>0</td>\n      <td></td>\n      <td>21.25</td>\n      <td>2</td>\n      <td></td>\n      <td></td>\n      <td></td>\n    </tr>\n    <tr>\n      <th>2</th>\n      <td>2</td>\n      <td>2013-08-01 09:13:00</td>\n      <td>2013-08-01 11:38:00</td>\n      <td>N</td>\n      <td>1</td>\n      <td>0</td>\n      <td>0</td>\n      <td>0</td>\n      <td>0</td>\n      <td>2</td>\n      <td>...</td>\n      <td>0</td>\n      <td>0.5</td>\n      <td>0</td>\n      <td>0</td>\n      <td></td>\n      <td>75</td>\n      <td>2</td>\n      <td></td>\n      <td></td>\n      <td></td>\n    </tr>\n    <tr>\n      <th>3</th>\n      <td>2</td>\n      <td>2013-08-01 09:48:00</td>\n      <td>2013-08-01 09:49:00</td>\n      <td>N</td>\n      <td>5</td>\n      <td>0</td>\n      <td>0</td>\n      <td>0</td>\n      <td>0</td>\n      <td>1</td>\n      <td>...</td>\n      <td>0.1</td>\n      <td>0</td>\n      <td>0</td>\n      <td>1</td>\n      <td></td>\n      <td>2.1</td>\n      <td>2</td>\n      <td></td>\n      <td></td>\n      <td></td>\n    </tr>\n    <tr>\n      <th>4</th>\n      <td>2</td>\n      <td>2013-08-01 10:38:35</td>\n      <td>2013-08-01 10:38:51</td>\n      <td>N</td>\n      <td>1</td>\n      <td>0</td>\n      <td>0</td>\n      <td>0</td>\n      <td>0</td>\n      <td>1</td>\n      <td>...</td>\n      <td>0</td>\n      <td>0</td>\n      <td>0</td>\n      <td>0</td>\n      <td></td>\n      <td>3.25</td>\n      <td>2</td>\n      <td></td>\n      <td></td>\n      <td></td>\n    </tr>\n    <tr>\n      <th>5</th>\n      <td>2</td>\n      <td>2013-08-01 11:51:45</td>\n      <td>2013-08-01 12:03:52</td>\n      <td>N</td>\n      <td>1</td>\n      <td>0</td>\n      <td>0</td>\n      <td>0</td>\n      <td>0</td>\n      <td>1</td>\n      <td>...</td>\n      <td>0</td>\n      <td>0.5</td>\n      <td>0</td>\n      <td>0</td>\n      <td></td>\n      <td>9</td>\n      <td>2</td>\n      <td></td>\n      <td></td>\n      <td></td>\n    </tr>\n    <tr>\n      <th>6</th>\n      <td>2</td>\n      <td>2013-08-01 14:33:39</td>\n      <td>2013-08-01 15:49:00</td>\n      <td>N</td>\n      <td>1</td>\n      <td>0</td>\n      <td>0</td>\n      <td>0</td>\n      <td>0</td>\n      <td>1</td>\n      <td>...</td>\n      <td>0</td>\n      <td>0.5</td>\n      <td>0</td>\n      <td>0</td>\n      <td></td>\n      <td>9.5</td>\n      <td>2</td>\n      <td></td>\n      <td></td>\n      <td></td>\n    </tr>\n    <tr>\n      <th>7</th>\n      <td>2</td>\n      <td>2013-08-01 17:19:00</td>\n      <td>2013-08-01 17:19:00</td>\n      <td>N</td>\n      <td>1</td>\n      <td>0</td>\n      <td>0</td>\n      <td>0</td>\n      <td>0</td>\n      <td>1</td>\n      <td>...</td>\n      <td>1</td>\n      <td>0.5</td>\n      <td>0</td>\n      <td>0</td>\n      <td></td>\n      <td>4</td>\n      <td>2</td>\n      <td></td>\n      <td></td>\n      <td></td>\n    </tr>\n    <tr>\n      <th>8</th>\n      <td>2</td>\n      <td>2013-08-01 17:22:00</td>\n      <td>2013-08-01 17:22:00</td>\n      <td>N</td>\n      <td>1</td>\n      <td>-73.937767028808594</td>\n      <td>40.758480072021484</td>\n      <td>-73.937767028808594</td>\n      <td>40.758480072021484</td>\n      <td>1</td>\n      <td>...</td>\n      <td>1</td>\n      <td>0.5</td>\n      <td>0</td>\n      <td>5.33</td>\n      <td></td>\n      <td>9.33</td>\n      <td>2</td>\n      <td></td>\n      <td></td>\n      <td></td>\n    </tr>\n    <tr>\n      <th>9</th>\n      <td>2</td>\n      <td>2013-08-01 17:24:00</td>\n      <td>2013-08-01 17:25:00</td>\n      <td>N</td>\n      <td>1</td>\n      <td>-73.93792724609375</td>\n      <td>40.757843017578125</td>\n      <td>-73.93792724609375</td>\n      <td>40.757843017578125</td>\n      <td>1</td>\n      <td>...</td>\n      <td>1</td>\n      <td>0.5</td>\n      <td>0</td>\n      <td>1.11</td>\n      <td></td>\n      <td>5.11</td>\n      <td>2</td>\n      <td></td>\n      <td></td>\n      <td></td>\n    </tr>\n  </tbody>\n</table>\n<p>10 rows × 22 columns</p>\n</div>",
            "text/plain": "  VendorID lpep_pickup_datetime Lpep_dropoff_datetime Store_and_fwd_flag  \\\n0                          None                  None               None   \n1        2  2013-08-01 08:14:37   2013-08-01 09:09:06                  N   \n2        2  2013-08-01 09:13:00   2013-08-01 11:38:00                  N   \n3        2  2013-08-01 09:48:00   2013-08-01 09:49:00                  N   \n4        2  2013-08-01 10:38:35   2013-08-01 10:38:51                  N   \n5        2  2013-08-01 11:51:45   2013-08-01 12:03:52                  N   \n6        2  2013-08-01 14:33:39   2013-08-01 15:49:00                  N   \n7        2  2013-08-01 17:19:00   2013-08-01 17:19:00                  N   \n8        2  2013-08-01 17:22:00   2013-08-01 17:22:00                  N   \n9        2  2013-08-01 17:24:00   2013-08-01 17:25:00                  N   \n\n  RateCodeID     Pickup_longitude     Pickup_latitude    Dropoff_longitude  \\\n0       None                 None                None                 None   \n1          1                    0                   0                    0   \n2          1                    0                   0                    0   \n3          5                    0                   0                    0   \n4          1                    0                   0                    0   \n5          1                    0                   0                    0   \n6          1                    0                   0                    0   \n7          1                    0                   0                    0   \n8          1  -73.937767028808594  40.758480072021484  -73.937767028808594   \n9          1   -73.93792724609375  40.757843017578125   -73.93792724609375   \n\n     Dropoff_latitude Passenger_count   ...    Extra MTA_tax Tip_amount  \\\n0                None            None   ...     None    None       None   \n1                   0               1   ...        0       0          0   \n2                   0               2   ...        0     0.5          0   \n3                   0               1   ...      0.1       0          0   \n4                   0               1   ...        0       0          0   \n5                   0               1   ...        0     0.5          0   \n6                   0               1   ...        0     0.5          0   \n7                   0               1   ...        1     0.5          0   \n8  40.758480072021484               1   ...        1     0.5          0   \n9  40.757843017578125               1   ...        1     0.5          0   \n\n  Tolls_amount Ehail_fee Total_amount Payment_type Trip_type Column21 Column22  \n0         None      None         None         None      None     None     None  \n1            0                  21.25            2                              \n2            0                     75            2                              \n3            1                    2.1            2                              \n4            0                   3.25            2                              \n5            0                      9            2                              \n6            0                    9.5            2                              \n7            0                      4            2                              \n8         5.33                   9.33            2                              \n9         1.11                   5.11            2                              \n\n[10 rows x 22 columns]"
          },
          "metadata": {}
        }
      ]
    },
    {
      "metadata": {},
      "cell_type": "markdown",
      "source": "## Filtering columns"
    },
    {
      "metadata": {},
      "cell_type": "markdown",
      "source": "To filter columns, use `Dataflow.drop_columns`. This method takes a list of columns to drop or a more complex argument called `ColumnSelector`."
    },
    {
      "metadata": {},
      "cell_type": "markdown",
      "source": "### Filtering columns with list of strings"
    },
    {
      "metadata": {},
      "cell_type": "markdown",
      "source": "In this example, `drop_columns` takes a list of strings. Each string should exactly match the desired column to drop."
    },
    {
      "metadata": {
        "scrolled": true,
        "trusted": true
      },
      "cell_type": "code",
      "source": "dataflow = dataflow.drop_columns(['VendorID', 'Store_and_fwd_flag', 'RateCodeID', 'Fare_amount', 'Extra', 'MTA_tax', 'Ehail_fee', 'Payment_type', 'Trip_type'])\ndataflow.head(10)",
      "execution_count": 2,
      "outputs": [
        {
          "output_type": "execute_result",
          "execution_count": 2,
          "data": {
            "text/html": "<div>\n<style scoped>\n    .dataframe tbody tr th:only-of-type {\n        vertical-align: middle;\n    }\n\n    .dataframe tbody tr th {\n        vertical-align: top;\n    }\n\n    .dataframe thead th {\n        text-align: right;\n    }\n</style>\n<table border=\"1\" class=\"dataframe\">\n  <thead>\n    <tr style=\"text-align: right;\">\n      <th></th>\n      <th>lpep_pickup_datetime</th>\n      <th>Lpep_dropoff_datetime</th>\n      <th>Pickup_longitude</th>\n      <th>Pickup_latitude</th>\n      <th>Dropoff_longitude</th>\n      <th>Dropoff_latitude</th>\n      <th>Passenger_count</th>\n      <th>Trip_distance</th>\n      <th>Tip_amount</th>\n      <th>Tolls_amount</th>\n      <th>Total_amount</th>\n      <th>Column21</th>\n      <th>Column22</th>\n    </tr>\n  </thead>\n  <tbody>\n    <tr>\n      <th>0</th>\n      <td>None</td>\n      <td>None</td>\n      <td>None</td>\n      <td>None</td>\n      <td>None</td>\n      <td>None</td>\n      <td>None</td>\n      <td>None</td>\n      <td>None</td>\n      <td>None</td>\n      <td>None</td>\n      <td>None</td>\n      <td>None</td>\n    </tr>\n    <tr>\n      <th>1</th>\n      <td>2013-08-01 08:14:37</td>\n      <td>2013-08-01 09:09:06</td>\n      <td>0</td>\n      <td>0</td>\n      <td>0</td>\n      <td>0</td>\n      <td>1</td>\n      <td>.00</td>\n      <td>0</td>\n      <td>0</td>\n      <td>21.25</td>\n      <td></td>\n      <td></td>\n    </tr>\n    <tr>\n      <th>2</th>\n      <td>2013-08-01 09:13:00</td>\n      <td>2013-08-01 11:38:00</td>\n      <td>0</td>\n      <td>0</td>\n      <td>0</td>\n      <td>0</td>\n      <td>2</td>\n      <td>.00</td>\n      <td>0</td>\n      <td>0</td>\n      <td>75</td>\n      <td></td>\n      <td></td>\n    </tr>\n    <tr>\n      <th>3</th>\n      <td>2013-08-01 09:48:00</td>\n      <td>2013-08-01 09:49:00</td>\n      <td>0</td>\n      <td>0</td>\n      <td>0</td>\n      <td>0</td>\n      <td>1</td>\n      <td>.00</td>\n      <td>0</td>\n      <td>1</td>\n      <td>2.1</td>\n      <td></td>\n      <td></td>\n    </tr>\n    <tr>\n      <th>4</th>\n      <td>2013-08-01 10:38:35</td>\n      <td>2013-08-01 10:38:51</td>\n      <td>0</td>\n      <td>0</td>\n      <td>0</td>\n      <td>0</td>\n      <td>1</td>\n      <td>.00</td>\n      <td>0</td>\n      <td>0</td>\n      <td>3.25</td>\n      <td></td>\n      <td></td>\n    </tr>\n    <tr>\n      <th>5</th>\n      <td>2013-08-01 11:51:45</td>\n      <td>2013-08-01 12:03:52</td>\n      <td>0</td>\n      <td>0</td>\n      <td>0</td>\n      <td>0</td>\n      <td>1</td>\n      <td>.00</td>\n      <td>0</td>\n      <td>0</td>\n      <td>9</td>\n      <td></td>\n      <td></td>\n    </tr>\n    <tr>\n      <th>6</th>\n      <td>2013-08-01 14:33:39</td>\n      <td>2013-08-01 15:49:00</td>\n      <td>0</td>\n      <td>0</td>\n      <td>0</td>\n      <td>0</td>\n      <td>1</td>\n      <td>.00</td>\n      <td>0</td>\n      <td>0</td>\n      <td>9.5</td>\n      <td></td>\n      <td></td>\n    </tr>\n    <tr>\n      <th>7</th>\n      <td>2013-08-01 17:19:00</td>\n      <td>2013-08-01 17:19:00</td>\n      <td>0</td>\n      <td>0</td>\n      <td>0</td>\n      <td>0</td>\n      <td>1</td>\n      <td>.00</td>\n      <td>0</td>\n      <td>0</td>\n      <td>4</td>\n      <td></td>\n      <td></td>\n    </tr>\n    <tr>\n      <th>8</th>\n      <td>2013-08-01 17:22:00</td>\n      <td>2013-08-01 17:22:00</td>\n      <td>-73.937767028808594</td>\n      <td>40.758480072021484</td>\n      <td>-73.937767028808594</td>\n      <td>40.758480072021484</td>\n      <td>1</td>\n      <td>.00</td>\n      <td>0</td>\n      <td>5.33</td>\n      <td>9.33</td>\n      <td></td>\n      <td></td>\n    </tr>\n    <tr>\n      <th>9</th>\n      <td>2013-08-01 17:24:00</td>\n      <td>2013-08-01 17:25:00</td>\n      <td>-73.93792724609375</td>\n      <td>40.757843017578125</td>\n      <td>-73.93792724609375</td>\n      <td>40.757843017578125</td>\n      <td>1</td>\n      <td>.00</td>\n      <td>0</td>\n      <td>1.11</td>\n      <td>5.11</td>\n      <td></td>\n      <td></td>\n    </tr>\n  </tbody>\n</table>\n</div>",
            "text/plain": "  lpep_pickup_datetime Lpep_dropoff_datetime     Pickup_longitude  \\\n0                 None                  None                 None   \n1  2013-08-01 08:14:37   2013-08-01 09:09:06                    0   \n2  2013-08-01 09:13:00   2013-08-01 11:38:00                    0   \n3  2013-08-01 09:48:00   2013-08-01 09:49:00                    0   \n4  2013-08-01 10:38:35   2013-08-01 10:38:51                    0   \n5  2013-08-01 11:51:45   2013-08-01 12:03:52                    0   \n6  2013-08-01 14:33:39   2013-08-01 15:49:00                    0   \n7  2013-08-01 17:19:00   2013-08-01 17:19:00                    0   \n8  2013-08-01 17:22:00   2013-08-01 17:22:00  -73.937767028808594   \n9  2013-08-01 17:24:00   2013-08-01 17:25:00   -73.93792724609375   \n\n      Pickup_latitude    Dropoff_longitude    Dropoff_latitude  \\\n0                None                 None                None   \n1                   0                    0                   0   \n2                   0                    0                   0   \n3                   0                    0                   0   \n4                   0                    0                   0   \n5                   0                    0                   0   \n6                   0                    0                   0   \n7                   0                    0                   0   \n8  40.758480072021484  -73.937767028808594  40.758480072021484   \n9  40.757843017578125   -73.93792724609375  40.757843017578125   \n\n  Passenger_count Trip_distance Tip_amount Tolls_amount Total_amount Column21  \\\n0            None          None       None         None         None     None   \n1               1           .00          0            0        21.25            \n2               2           .00          0            0           75            \n3               1           .00          0            1          2.1            \n4               1           .00          0            0         3.25            \n5               1           .00          0            0            9            \n6               1           .00          0            0          9.5            \n7               1           .00          0            0            4            \n8               1           .00          0         5.33         9.33            \n9               1           .00          0         1.11         5.11            \n\n  Column22  \n0     None  \n1           \n2           \n3           \n4           \n5           \n6           \n7           \n8           \n9           "
          },
          "metadata": {}
        }
      ]
    },
    {
      "metadata": {},
      "cell_type": "markdown",
      "source": "### Filtering columns with regex"
    },
    {
      "metadata": {},
      "cell_type": "markdown",
      "source": "Alternatively, a `ColumnSelector` can be used to drop columns that match a regex expression. In this example, we drop all the columns that match the expression `Column*|.*longitud|.*latitude`."
    },
    {
      "metadata": {
        "trusted": true
      },
      "cell_type": "code",
      "source": "dataflow = dataflow.drop_columns(dprep.ColumnSelector('Column*|.*longitud|.*latitude', True, True))\ndataflow.head(10)",
      "execution_count": 3,
      "outputs": [
        {
          "output_type": "execute_result",
          "execution_count": 3,
          "data": {
            "text/html": "<div>\n<style scoped>\n    .dataframe tbody tr th:only-of-type {\n        vertical-align: middle;\n    }\n\n    .dataframe tbody tr th {\n        vertical-align: top;\n    }\n\n    .dataframe thead th {\n        text-align: right;\n    }\n</style>\n<table border=\"1\" class=\"dataframe\">\n  <thead>\n    <tr style=\"text-align: right;\">\n      <th></th>\n      <th>lpep_pickup_datetime</th>\n      <th>Lpep_dropoff_datetime</th>\n      <th>Passenger_count</th>\n      <th>Trip_distance</th>\n      <th>Tip_amount</th>\n      <th>Tolls_amount</th>\n      <th>Total_amount</th>\n    </tr>\n  </thead>\n  <tbody>\n    <tr>\n      <th>0</th>\n      <td>None</td>\n      <td>None</td>\n      <td>None</td>\n      <td>None</td>\n      <td>None</td>\n      <td>None</td>\n      <td>None</td>\n    </tr>\n    <tr>\n      <th>1</th>\n      <td>2013-08-01 08:14:37</td>\n      <td>2013-08-01 09:09:06</td>\n      <td>1</td>\n      <td>.00</td>\n      <td>0</td>\n      <td>0</td>\n      <td>21.25</td>\n    </tr>\n    <tr>\n      <th>2</th>\n      <td>2013-08-01 09:13:00</td>\n      <td>2013-08-01 11:38:00</td>\n      <td>2</td>\n      <td>.00</td>\n      <td>0</td>\n      <td>0</td>\n      <td>75</td>\n    </tr>\n    <tr>\n      <th>3</th>\n      <td>2013-08-01 09:48:00</td>\n      <td>2013-08-01 09:49:00</td>\n      <td>1</td>\n      <td>.00</td>\n      <td>0</td>\n      <td>1</td>\n      <td>2.1</td>\n    </tr>\n    <tr>\n      <th>4</th>\n      <td>2013-08-01 10:38:35</td>\n      <td>2013-08-01 10:38:51</td>\n      <td>1</td>\n      <td>.00</td>\n      <td>0</td>\n      <td>0</td>\n      <td>3.25</td>\n    </tr>\n    <tr>\n      <th>5</th>\n      <td>2013-08-01 11:51:45</td>\n      <td>2013-08-01 12:03:52</td>\n      <td>1</td>\n      <td>.00</td>\n      <td>0</td>\n      <td>0</td>\n      <td>9</td>\n    </tr>\n    <tr>\n      <th>6</th>\n      <td>2013-08-01 14:33:39</td>\n      <td>2013-08-01 15:49:00</td>\n      <td>1</td>\n      <td>.00</td>\n      <td>0</td>\n      <td>0</td>\n      <td>9.5</td>\n    </tr>\n    <tr>\n      <th>7</th>\n      <td>2013-08-01 17:19:00</td>\n      <td>2013-08-01 17:19:00</td>\n      <td>1</td>\n      <td>.00</td>\n      <td>0</td>\n      <td>0</td>\n      <td>4</td>\n    </tr>\n    <tr>\n      <th>8</th>\n      <td>2013-08-01 17:22:00</td>\n      <td>2013-08-01 17:22:00</td>\n      <td>1</td>\n      <td>.00</td>\n      <td>0</td>\n      <td>5.33</td>\n      <td>9.33</td>\n    </tr>\n    <tr>\n      <th>9</th>\n      <td>2013-08-01 17:24:00</td>\n      <td>2013-08-01 17:25:00</td>\n      <td>1</td>\n      <td>.00</td>\n      <td>0</td>\n      <td>1.11</td>\n      <td>5.11</td>\n    </tr>\n  </tbody>\n</table>\n</div>",
            "text/plain": "  lpep_pickup_datetime Lpep_dropoff_datetime Passenger_count Trip_distance  \\\n0                 None                  None            None          None   \n1  2013-08-01 08:14:37   2013-08-01 09:09:06               1           .00   \n2  2013-08-01 09:13:00   2013-08-01 11:38:00               2           .00   \n3  2013-08-01 09:48:00   2013-08-01 09:49:00               1           .00   \n4  2013-08-01 10:38:35   2013-08-01 10:38:51               1           .00   \n5  2013-08-01 11:51:45   2013-08-01 12:03:52               1           .00   \n6  2013-08-01 14:33:39   2013-08-01 15:49:00               1           .00   \n7  2013-08-01 17:19:00   2013-08-01 17:19:00               1           .00   \n8  2013-08-01 17:22:00   2013-08-01 17:22:00               1           .00   \n9  2013-08-01 17:24:00   2013-08-01 17:25:00               1           .00   \n\n  Tip_amount Tolls_amount Total_amount  \n0       None         None         None  \n1          0            0        21.25  \n2          0            0           75  \n3          0            1          2.1  \n4          0            0         3.25  \n5          0            0            9  \n6          0            0          9.5  \n7          0            0            4  \n8          0         5.33         9.33  \n9          0         1.11         5.11  "
          },
          "metadata": {}
        }
      ]
    },
    {
      "metadata": {},
      "cell_type": "markdown",
      "source": "## Filtering rows"
    },
    {
      "metadata": {},
      "cell_type": "markdown",
      "source": "To filter rows, use `DataFlow.filter`. This method takes an `Expression` as an argument, and returns a new dataflow with the rows in which the expression evaluates to `True`. Expressions are built using expression builders (`col`, `f_not`, `f_and`, `f_or`) and regular operators (`>`, `<`, `>=`, `<=`, `==`, `!=`)."
    },
    {
      "metadata": {},
      "cell_type": "markdown",
      "source": "### Filtering rows with simple expressions"
    },
    {
      "metadata": {},
      "cell_type": "markdown",
      "source": "Use the expression builder `col`, specifying the column name as a string argument `col('column_name')` and in combination with one of the following standard operators `>, <, >=, <=, ==, !=`, build an expression such as `col('Tip_amount') > 0`.  Finally, pass the built expression into the `Dataflow.filter` function.\n\nIn this example, `dataflow.filter(col('Tip_amount') > 0)` returns a new dataflow with the rows in which the value of `'Tip_amount'` is greater than `0` \n\n*Note that `'Tip_amount'` is first converted to numeric, which allows us to build an expression comparing it against other numeric values.*"
    },
    {
      "metadata": {
        "scrolled": true,
        "trusted": true
      },
      "cell_type": "code",
      "source": "dataflow = dataflow.to_number(['Tip_amount'])\ndataflow = dataflow.filter(dprep.col('Tip_amount') > 0)\ndataflow.head(10)",
      "execution_count": 4,
      "outputs": [
        {
          "output_type": "execute_result",
          "execution_count": 4,
          "data": {
            "text/html": "<div>\n<style scoped>\n    .dataframe tbody tr th:only-of-type {\n        vertical-align: middle;\n    }\n\n    .dataframe tbody tr th {\n        vertical-align: top;\n    }\n\n    .dataframe thead th {\n        text-align: right;\n    }\n</style>\n<table border=\"1\" class=\"dataframe\">\n  <thead>\n    <tr style=\"text-align: right;\">\n      <th></th>\n      <th>lpep_pickup_datetime</th>\n      <th>Lpep_dropoff_datetime</th>\n      <th>Passenger_count</th>\n      <th>Trip_distance</th>\n      <th>Tip_amount</th>\n      <th>Tolls_amount</th>\n      <th>Total_amount</th>\n    </tr>\n  </thead>\n  <tbody>\n    <tr>\n      <th>0</th>\n      <td>2013-08-01 19:33:28</td>\n      <td>2013-08-01 19:35:21</td>\n      <td>5</td>\n      <td>.00</td>\n      <td>0.08</td>\n      <td>0</td>\n      <td>4.58</td>\n    </tr>\n    <tr>\n      <th>1</th>\n      <td>2013-08-05 13:16:38</td>\n      <td>2013-08-05 13:18:24</td>\n      <td>1</td>\n      <td>.00</td>\n      <td>0.30</td>\n      <td>0</td>\n      <td>3.8</td>\n    </tr>\n    <tr>\n      <th>2</th>\n      <td>2013-08-05 14:11:42</td>\n      <td>2013-08-05 14:12:47</td>\n      <td>1</td>\n      <td>.00</td>\n      <td>1.05</td>\n      <td>0</td>\n      <td>4.55</td>\n    </tr>\n    <tr>\n      <th>3</th>\n      <td>2013-08-05 14:15:56</td>\n      <td>2013-08-05 14:18:04</td>\n      <td>5</td>\n      <td>.00</td>\n      <td>2.22</td>\n      <td>0</td>\n      <td>5.72</td>\n    </tr>\n    <tr>\n      <th>4</th>\n      <td>2013-08-05 14:42:14</td>\n      <td>2013-08-05 14:42:38</td>\n      <td>1</td>\n      <td>.00</td>\n      <td>0.88</td>\n      <td>0</td>\n      <td>4.38</td>\n    </tr>\n    <tr>\n      <th>5</th>\n      <td>2013-08-05 15:26:49</td>\n      <td>2013-08-05 15:27:58</td>\n      <td>5</td>\n      <td>.00</td>\n      <td>0.10</td>\n      <td>0</td>\n      <td>3.1</td>\n    </tr>\n    <tr>\n      <th>6</th>\n      <td>2013-08-05 15:28:38</td>\n      <td>2013-08-05 15:30:07</td>\n      <td>1</td>\n      <td>.00</td>\n      <td>0.80</td>\n      <td>0</td>\n      <td>3.8</td>\n    </tr>\n    <tr>\n      <th>7</th>\n      <td>2013-08-05 18:53:59</td>\n      <td>2013-08-05 18:57:33</td>\n      <td>1</td>\n      <td>.00</td>\n      <td>3.96</td>\n      <td>0</td>\n      <td>8.46</td>\n    </tr>\n    <tr>\n      <th>8</th>\n      <td>2013-08-05 18:58:31</td>\n      <td>2013-08-05 19:03:15</td>\n      <td>1</td>\n      <td>.00</td>\n      <td>2.80</td>\n      <td>0</td>\n      <td>6.8</td>\n    </tr>\n    <tr>\n      <th>9</th>\n      <td>2013-08-05 19:08:50</td>\n      <td>2013-08-05 19:10:16</td>\n      <td>1</td>\n      <td>.00</td>\n      <td>1.75</td>\n      <td>0</td>\n      <td>5.75</td>\n    </tr>\n  </tbody>\n</table>\n</div>",
            "text/plain": "  lpep_pickup_datetime Lpep_dropoff_datetime Passenger_count Trip_distance  \\\n0  2013-08-01 19:33:28   2013-08-01 19:35:21               5           .00   \n1  2013-08-05 13:16:38   2013-08-05 13:18:24               1           .00   \n2  2013-08-05 14:11:42   2013-08-05 14:12:47               1           .00   \n3  2013-08-05 14:15:56   2013-08-05 14:18:04               5           .00   \n4  2013-08-05 14:42:14   2013-08-05 14:42:38               1           .00   \n5  2013-08-05 15:26:49   2013-08-05 15:27:58               5           .00   \n6  2013-08-05 15:28:38   2013-08-05 15:30:07               1           .00   \n7  2013-08-05 18:53:59   2013-08-05 18:57:33               1           .00   \n8  2013-08-05 18:58:31   2013-08-05 19:03:15               1           .00   \n9  2013-08-05 19:08:50   2013-08-05 19:10:16               1           .00   \n\n   Tip_amount Tolls_amount Total_amount  \n0        0.08            0         4.58  \n1        0.30            0          3.8  \n2        1.05            0         4.55  \n3        2.22            0         5.72  \n4        0.88            0         4.38  \n5        0.10            0          3.1  \n6        0.80            0          3.8  \n7        3.96            0         8.46  \n8        2.80            0          6.8  \n9        1.75            0         5.75  "
          },
          "metadata": {}
        }
      ]
    },
    {
      "metadata": {},
      "cell_type": "markdown",
      "source": "### Filtering rows with complex expressions"
    },
    {
      "metadata": {},
      "cell_type": "markdown",
      "source": "To filter using complex expressions, combine one or more simple expressions with the expression builders `f_not`, `f_and`, `f_or`.  \n\nIn this example, `Dataflow.filter` returns a new dataflow with the rows in which `'Passanger_count'` is less than `5` and `'Tolls_amount'` is greater than `0`."
    },
    {
      "metadata": {
        "trusted": true
      },
      "cell_type": "code",
      "source": "dataflow = dataflow.to_number(['Passenger_count', 'Tolls_amount'])\ndataflow = dataflow.filter(dprep.f_and(dprep.col('Passenger_count') < 5, dprep.col('Tolls_amount') > 0))\ndataflow.head(10)",
      "execution_count": 5,
      "outputs": [
        {
          "output_type": "execute_result",
          "execution_count": 5,
          "data": {
            "text/html": "<div>\n<style scoped>\n    .dataframe tbody tr th:only-of-type {\n        vertical-align: middle;\n    }\n\n    .dataframe tbody tr th {\n        vertical-align: top;\n    }\n\n    .dataframe thead th {\n        text-align: right;\n    }\n</style>\n<table border=\"1\" class=\"dataframe\">\n  <thead>\n    <tr style=\"text-align: right;\">\n      <th></th>\n      <th>lpep_pickup_datetime</th>\n      <th>Lpep_dropoff_datetime</th>\n      <th>Passenger_count</th>\n      <th>Trip_distance</th>\n      <th>Tip_amount</th>\n      <th>Tolls_amount</th>\n      <th>Total_amount</th>\n    </tr>\n  </thead>\n  <tbody>\n    <tr>\n      <th>0</th>\n      <td>2013-08-08 12:16:00</td>\n      <td>2013-08-08 12:16:00</td>\n      <td>1.0</td>\n      <td>.00</td>\n      <td>2.25</td>\n      <td>5.00</td>\n      <td>19.75</td>\n    </tr>\n    <tr>\n      <th>1</th>\n      <td>2013-08-12 14:43:53</td>\n      <td>2013-08-12 15:04:50</td>\n      <td>1.0</td>\n      <td>5.28</td>\n      <td>6.46</td>\n      <td>5.33</td>\n      <td>32.29</td>\n    </tr>\n    <tr>\n      <th>2</th>\n      <td>2013-08-12 19:48:12</td>\n      <td>2013-08-12 20:03:42</td>\n      <td>1.0</td>\n      <td>5.50</td>\n      <td>1.00</td>\n      <td>10.66</td>\n      <td>30.66</td>\n    </tr>\n    <tr>\n      <th>3</th>\n      <td>2013-08-13 06:11:06</td>\n      <td>2013-08-13 06:30:28</td>\n      <td>1.0</td>\n      <td>9.57</td>\n      <td>7.47</td>\n      <td>5.33</td>\n      <td>44.8</td>\n    </tr>\n    <tr>\n      <th>4</th>\n      <td>2013-08-16 20:33:50</td>\n      <td>2013-08-16 20:48:50</td>\n      <td>1.0</td>\n      <td>5.63</td>\n      <td>3.00</td>\n      <td>5.33</td>\n      <td>27.83</td>\n    </tr>\n    <tr>\n      <th>5</th>\n      <td>2013-08-18 10:13:44</td>\n      <td>2013-08-18 10:30:56</td>\n      <td>1.0</td>\n      <td>8.57</td>\n      <td>6.17</td>\n      <td>5.33</td>\n      <td>37</td>\n    </tr>\n    <tr>\n      <th>6</th>\n      <td>2013-08-19 21:02:49</td>\n      <td>2013-08-19 21:16:48</td>\n      <td>2.0</td>\n      <td>6.88</td>\n      <td>5.00</td>\n      <td>5.33</td>\n      <td>32.33</td>\n    </tr>\n    <tr>\n      <th>7</th>\n      <td>2013-08-20 22:20:27</td>\n      <td>2013-08-20 22:37:26</td>\n      <td>2.0</td>\n      <td>10.14</td>\n      <td>6.97</td>\n      <td>5.33</td>\n      <td>41.8</td>\n    </tr>\n    <tr>\n      <th>8</th>\n      <td>2013-08-21 08:55:54</td>\n      <td>2013-08-21 09:17:02</td>\n      <td>1.0</td>\n      <td>6.86</td>\n      <td>5.77</td>\n      <td>5.33</td>\n      <td>34.6</td>\n    </tr>\n    <tr>\n      <th>9</th>\n      <td>2013-08-22 08:26:16</td>\n      <td>2013-08-22 09:00:33</td>\n      <td>1.0</td>\n      <td>13.51</td>\n      <td>9.37</td>\n      <td>5.33</td>\n      <td>56.2</td>\n    </tr>\n  </tbody>\n</table>\n</div>",
            "text/plain": "  lpep_pickup_datetime Lpep_dropoff_datetime  Passenger_count Trip_distance  \\\n0  2013-08-08 12:16:00   2013-08-08 12:16:00              1.0           .00   \n1  2013-08-12 14:43:53   2013-08-12 15:04:50              1.0          5.28   \n2  2013-08-12 19:48:12   2013-08-12 20:03:42              1.0          5.50   \n3  2013-08-13 06:11:06   2013-08-13 06:30:28              1.0          9.57   \n4  2013-08-16 20:33:50   2013-08-16 20:48:50              1.0          5.63   \n5  2013-08-18 10:13:44   2013-08-18 10:30:56              1.0          8.57   \n6  2013-08-19 21:02:49   2013-08-19 21:16:48              2.0          6.88   \n7  2013-08-20 22:20:27   2013-08-20 22:37:26              2.0         10.14   \n8  2013-08-21 08:55:54   2013-08-21 09:17:02              1.0          6.86   \n9  2013-08-22 08:26:16   2013-08-22 09:00:33              1.0         13.51   \n\n   Tip_amount  Tolls_amount Total_amount  \n0        2.25          5.00        19.75  \n1        6.46          5.33        32.29  \n2        1.00         10.66        30.66  \n3        7.47          5.33         44.8  \n4        3.00          5.33        27.83  \n5        6.17          5.33           37  \n6        5.00          5.33        32.33  \n7        6.97          5.33         41.8  \n8        5.77          5.33         34.6  \n9        9.37          5.33         56.2  "
          },
          "metadata": {}
        }
      ]
    },
    {
      "metadata": {},
      "cell_type": "markdown",
      "source": "It is also possible to filter rows combining more than one expression builder to create a nested expression.\n\n*Note that `'lpep_pickup_datetime'` and `'Lpep_dropoff_datetime'` are first converted to datetime, which allows us to build an expression comparing it against other datetime values.*"
    },
    {
      "metadata": {
        "trusted": true
      },
      "cell_type": "code",
      "source": "dataflow = dataflow.to_datetime(['lpep_pickup_datetime', 'Lpep_dropoff_datetime'], ['%Y-%m-%d %H:%M:%S'])\ndataflow = dataflow.to_number(['Total_amount', 'Trip_distance'])\nmid_2013 = datetime(2013,7,1)\ndataflow = dataflow.filter(\n    dprep.f_and(\n        dprep.f_or(\n            dprep.col('lpep_pickup_datetime') > mid_2013,\n            dprep.col('Lpep_dropoff_datetime') > mid_2013),\n        dprep.f_and(\n            dprep.col('Total_amount') > 40,\n            dprep.col('Trip_distance') < 10)))\ndataflow.head(10)",
      "execution_count": 6,
      "outputs": [
        {
          "output_type": "execute_result",
          "execution_count": 6,
          "data": {
            "text/html": "<div>\n<style scoped>\n    .dataframe tbody tr th:only-of-type {\n        vertical-align: middle;\n    }\n\n    .dataframe tbody tr th {\n        vertical-align: top;\n    }\n\n    .dataframe thead th {\n        text-align: right;\n    }\n</style>\n<table border=\"1\" class=\"dataframe\">\n  <thead>\n    <tr style=\"text-align: right;\">\n      <th></th>\n      <th>lpep_pickup_datetime</th>\n      <th>Lpep_dropoff_datetime</th>\n      <th>Passenger_count</th>\n      <th>Trip_distance</th>\n      <th>Tip_amount</th>\n      <th>Tolls_amount</th>\n      <th>Total_amount</th>\n    </tr>\n  </thead>\n  <tbody>\n    <tr>\n      <th>0</th>\n      <td>2013-08-13 06:11:06</td>\n      <td>2013-08-13 06:30:28</td>\n      <td>1.0</td>\n      <td>9.57</td>\n      <td>7.47</td>\n      <td>5.33</td>\n      <td>44.80</td>\n    </tr>\n    <tr>\n      <th>1</th>\n      <td>2013-08-23 12:28:20</td>\n      <td>2013-08-23 12:50:28</td>\n      <td>2.0</td>\n      <td>8.22</td>\n      <td>8.08</td>\n      <td>5.33</td>\n      <td>40.41</td>\n    </tr>\n    <tr>\n      <th>2</th>\n      <td>2013-08-25 09:12:52</td>\n      <td>2013-08-25 09:34:34</td>\n      <td>1.0</td>\n      <td>8.80</td>\n      <td>8.33</td>\n      <td>5.33</td>\n      <td>41.66</td>\n    </tr>\n    <tr>\n      <th>3</th>\n      <td>2013-08-25 16:46:51</td>\n      <td>2013-08-25 17:13:55</td>\n      <td>2.0</td>\n      <td>9.66</td>\n      <td>7.37</td>\n      <td>5.33</td>\n      <td>44.20</td>\n    </tr>\n    <tr>\n      <th>4</th>\n      <td>2013-08-25 17:42:11</td>\n      <td>2013-08-25 18:02:57</td>\n      <td>1.0</td>\n      <td>9.60</td>\n      <td>6.87</td>\n      <td>5.33</td>\n      <td>41.20</td>\n    </tr>\n    <tr>\n      <th>5</th>\n      <td>2013-08-26 15:35:39</td>\n      <td>2013-08-26 16:06:18</td>\n      <td>1.0</td>\n      <td>8.45</td>\n      <td>7.17</td>\n      <td>5.33</td>\n      <td>43.00</td>\n    </tr>\n    <tr>\n      <th>6</th>\n      <td>2013-08-28 20:52:32</td>\n      <td>2013-08-28 21:11:05</td>\n      <td>2.0</td>\n      <td>9.20</td>\n      <td>8.46</td>\n      <td>5.33</td>\n      <td>42.29</td>\n    </tr>\n    <tr>\n      <th>7</th>\n      <td>2013-08-29 16:05:53</td>\n      <td>2013-08-29 16:37:32</td>\n      <td>1.0</td>\n      <td>8.11</td>\n      <td>10.90</td>\n      <td>5.33</td>\n      <td>47.23</td>\n    </tr>\n    <tr>\n      <th>8</th>\n      <td>2013-08-29 20:53:24</td>\n      <td>2013-08-29 21:15:01</td>\n      <td>1.0</td>\n      <td>9.23</td>\n      <td>6.87</td>\n      <td>5.33</td>\n      <td>41.20</td>\n    </tr>\n    <tr>\n      <th>9</th>\n      <td>2013-08-30 09:13:48</td>\n      <td>2013-08-30 09:27:36</td>\n      <td>1.0</td>\n      <td>3.04</td>\n      <td>5.00</td>\n      <td>10.25</td>\n      <td>48.75</td>\n    </tr>\n  </tbody>\n</table>\n</div>",
            "text/plain": "  lpep_pickup_datetime Lpep_dropoff_datetime  Passenger_count  Trip_distance  \\\n0  2013-08-13 06:11:06   2013-08-13 06:30:28              1.0           9.57   \n1  2013-08-23 12:28:20   2013-08-23 12:50:28              2.0           8.22   \n2  2013-08-25 09:12:52   2013-08-25 09:34:34              1.0           8.80   \n3  2013-08-25 16:46:51   2013-08-25 17:13:55              2.0           9.66   \n4  2013-08-25 17:42:11   2013-08-25 18:02:57              1.0           9.60   \n5  2013-08-26 15:35:39   2013-08-26 16:06:18              1.0           8.45   \n6  2013-08-28 20:52:32   2013-08-28 21:11:05              2.0           9.20   \n7  2013-08-29 16:05:53   2013-08-29 16:37:32              1.0           8.11   \n8  2013-08-29 20:53:24   2013-08-29 21:15:01              1.0           9.23   \n9  2013-08-30 09:13:48   2013-08-30 09:27:36              1.0           3.04   \n\n   Tip_amount  Tolls_amount  Total_amount  \n0        7.47          5.33         44.80  \n1        8.08          5.33         40.41  \n2        8.33          5.33         41.66  \n3        7.37          5.33         44.20  \n4        6.87          5.33         41.20  \n5        7.17          5.33         43.00  \n6        8.46          5.33         42.29  \n7       10.90          5.33         47.23  \n8        6.87          5.33         41.20  \n9        5.00         10.25         48.75  "
          },
          "metadata": {}
        }
      ]
    },
    {
      "metadata": {
        "trusted": true
      },
      "cell_type": "code",
      "source": "",
      "execution_count": null,
      "outputs": []
    },
    {
      "metadata": {
        "trusted": true
      },
      "cell_type": "code",
      "source": "",
      "execution_count": null,
      "outputs": []
    }
  ],
  "metadata": {
    "kernelspec": {
      "name": "python36",
      "display_name": "Python 3.6",
      "language": "python"
    },
    "language_info": {
      "mimetype": "text/x-python",
      "nbconvert_exporter": "python",
      "name": "python",
      "pygments_lexer": "ipython3",
      "version": "3.6.6",
      "file_extension": ".py",
      "codemirror_mode": {
        "version": 3,
        "name": "ipython"
      }
    }
  },
  "nbformat": 4,
  "nbformat_minor": 2
}