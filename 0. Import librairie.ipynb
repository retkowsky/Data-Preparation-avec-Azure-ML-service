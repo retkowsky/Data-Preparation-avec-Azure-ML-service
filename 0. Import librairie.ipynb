{
  "cells": [
    {
      "metadata": {
        "trusted": true
      },
      "cell_type": "code",
      "source": "!pip install azureml-sdk",
      "execution_count": 1,
      "outputs": [
        {
          "output_type": "stream",
          "text": "Requirement already satisfied: azureml-sdk in /home/nbuser/anaconda3_501/lib/python3.6/site-packages (1.0.2)\nRequirement already satisfied: azureml-pipeline==1.0.2.* in /home/nbuser/anaconda3_501/lib/python3.6/site-packages (from azureml-sdk) (1.0.2)\nRequirement already satisfied: azureml-train==1.0.2.* in /home/nbuser/anaconda3_501/lib/python3.6/site-packages (from azureml-sdk) (1.0.2)\nRequirement already satisfied: azureml-core==1.0.2.* in /home/nbuser/anaconda3_501/lib/python3.6/site-packages (from azureml-sdk) (1.0.2)\nRequirement already satisfied: azureml-pipeline-core==1.0.2.* in /home/nbuser/anaconda3_501/lib/python3.6/site-packages (from azureml-pipeline==1.0.2.*->azureml-sdk) (1.0.2)\nRequirement already satisfied: azureml-pipeline-steps==1.0.2.* in /home/nbuser/anaconda3_501/lib/python3.6/site-packages (from azureml-pipeline==1.0.2.*->azureml-sdk) (1.0.2)\nRequirement already satisfied: azureml-train-core==1.0.2.* in /home/nbuser/anaconda3_501/lib/python3.6/site-packages (from azureml-train==1.0.2.*->azureml-sdk) (1.0.2)\nRequirement already satisfied: pathspec in /home/nbuser/anaconda3_501/lib/python3.6/site-packages (from azureml-core==1.0.2.*->azureml-sdk) (0.5.9)\nRequirement already satisfied: azure-storage-blob>=1.1.0 in /home/nbuser/anaconda3_501/lib/python3.6/site-packages (from azureml-core==1.0.2.*->azureml-sdk) (1.4.0)\nRequirement already satisfied: SecretStorage<3.0.0 in /home/nbuser/anaconda3_501/lib/python3.6/site-packages (from azureml-core==1.0.2.*->azureml-sdk) (2.3.1)\nRequirement already satisfied: azure-cli-profile>=2.0.26 in /home/nbuser/anaconda3_501/lib/python3.6/site-packages (from azureml-core==1.0.2.*->azureml-sdk) (2.1.2)\nRequirement already satisfied: azure-common>=1.1.12 in /home/nbuser/anaconda3_501/lib/python3.6/site-packages (from azureml-core==1.0.2.*->azureml-sdk) (1.1.16)\nRequirement already satisfied: msrestazure>=0.4.33 in /home/nbuser/anaconda3_501/lib/python3.6/site-packages (from azureml-core==1.0.2.*->azureml-sdk) (0.5.1)\nRequirement already satisfied: docker in /home/nbuser/anaconda3_501/lib/python3.6/site-packages (from azureml-core==1.0.2.*->azureml-sdk) (3.6.0)\nRequirement already satisfied: azure-mgmt-storage>=1.5.0 in /home/nbuser/anaconda3_501/lib/python3.6/site-packages (from azureml-core==1.0.2.*->azureml-sdk) (3.1.0)\nRequirement already satisfied: backports.tempfile in /home/nbuser/anaconda3_501/lib/python3.6/site-packages (from azureml-core==1.0.2.*->azureml-sdk) (1.0)\nRequirement already satisfied: azure-graphrbac>=0.40.0 in /home/nbuser/anaconda3_501/lib/python3.6/site-packages (from azureml-core==1.0.2.*->azureml-sdk) (0.53.0)\nRequirement already satisfied: azure-mgmt-keyvault>=0.40.0 in /home/nbuser/anaconda3_501/lib/python3.6/site-packages (from azureml-core==1.0.2.*->azureml-sdk) (1.1.0)\nRequirement already satisfied: azure-cli-core>=2.0.38 in /home/nbuser/anaconda3_501/lib/python3.6/site-packages (from azureml-core==1.0.2.*->azureml-sdk) (2.0.52)\nRequirement already satisfied: azure-mgmt-containerregistry>=2.0.0 in /home/nbuser/anaconda3_501/lib/python3.6/site-packages (from azureml-core==1.0.2.*->azureml-sdk) (2.4.0)\nRequirement already satisfied: requests>=2.19.1 in /home/nbuser/anaconda3_501/lib/python3.6/site-packages (from azureml-core==1.0.2.*->azureml-sdk) (2.20.1)\nRequirement already satisfied: azure-mgmt-resource>=1.2.1 in /home/nbuser/anaconda3_501/lib/python3.6/site-packages (from azureml-core==1.0.2.*->azureml-sdk) (2.0.0)\nRequirement already satisfied: azure-mgmt-authorization>=0.40.0 in /home/nbuser/anaconda3_501/lib/python3.6/site-packages (from azureml-core==1.0.2.*->azureml-sdk) (0.51.1)\nRequirement already satisfied: pytz in /home/nbuser/anaconda3_501/lib/python3.6/site-packages (from azureml-core==1.0.2.*->azureml-sdk) (2018.7)\nRequirement already satisfied: azure-storage-nspkg>=3.0.0 in /home/nbuser/anaconda3_501/lib/python3.6/site-packages (from azureml-core==1.0.2.*->azureml-sdk) (3.1.0)\nRequirement already satisfied: ruamel.yaml<=0.15.51,>=0.15.35 in /home/nbuser/anaconda3_501/lib/python3.6/site-packages (from azureml-core==1.0.2.*->azureml-sdk) (0.15.51)\nRequirement already satisfied: ndg-httpsclient in /home/nbuser/anaconda3_501/lib/python3.6/site-packages (from azureml-core==1.0.2.*->azureml-sdk) (0.5.1)\nRequirement already satisfied: azure-storage-common>=1.1.0 in /home/nbuser/anaconda3_501/lib/python3.6/site-packages (from azureml-core==1.0.2.*->azureml-sdk) (1.4.0)\nRequirement already satisfied: contextlib2 in /home/nbuser/anaconda3_501/lib/python3.6/site-packages (from azureml-core==1.0.2.*->azureml-sdk) (0.5.5)\nRequirement already satisfied: cryptography!=1.9,!=2.0.*,!=2.1.*,!=2.2.* in /home/nbuser/anaconda3_501/lib/python3.6/site-packages (from azureml-core==1.0.2.*->azureml-sdk) (2.3.1)\nRequirement already satisfied: python-dateutil>=2.7.3 in /home/nbuser/anaconda3_501/lib/python3.6/site-packages (from azureml-core==1.0.2.*->azureml-sdk) (2.7.5)\nRequirement already satisfied: msrest>=0.5.1 in /home/nbuser/anaconda3_501/lib/python3.6/site-packages (from azureml-core==1.0.2.*->azureml-sdk) (0.6.2)\nRequirement already satisfied: PyJWT in /home/nbuser/anaconda3_501/lib/python3.6/site-packages (from azureml-core==1.0.2.*->azureml-sdk) (1.7.1)\nRequirement already satisfied: urllib3<1.24,>=1.23 in /home/nbuser/anaconda3_501/lib/python3.6/site-packages (from azureml-core==1.0.2.*->azureml-sdk) (1.23)\nRequirement already satisfied: six>=1.11.0 in /home/nbuser/anaconda3_501/lib/python3.6/site-packages (from azureml-core==1.0.2.*->azureml-sdk) (1.11.0)\nRequirement already satisfied: jsonpickle in /home/nbuser/anaconda3_501/lib/python3.6/site-packages (from azureml-core==1.0.2.*->azureml-sdk) (1.0)\nRequirement already satisfied: certifi in /home/nbuser/anaconda3_501/lib/python3.6/site-packages (from azureml-pipeline-steps==1.0.2.*->azureml-pipeline==1.0.2.*->azureml-sdk) (2018.10.15)\nRequirement already satisfied: azureml-telemetry==1.0.2.* in /home/nbuser/anaconda3_501/lib/python3.6/site-packages (from azureml-train-core==1.0.2.*->azureml-train==1.0.2.*->azureml-sdk) (1.0.2)\nRequirement already satisfied: azureml-train-restclients-hyperdrive==1.0.2.* in /home/nbuser/anaconda3_501/lib/python3.6/site-packages (from azureml-train-core==1.0.2.*->azureml-train==1.0.2.*->azureml-sdk) (1.0.2)\nRequirement already satisfied: azure-cli-command-modules-nspkg>=2.0.0 in /home/nbuser/anaconda3_501/lib/python3.6/site-packages (from azure-cli-profile>=2.0.26->azureml-core==1.0.2.*->azureml-sdk) (2.0.2)\nRequirement already satisfied: adal<2.0.0,>=0.6.0 in /home/nbuser/anaconda3_501/lib/python3.6/site-packages (from msrestazure>=0.4.33->azureml-core==1.0.2.*->azureml-sdk) (1.2.0)\nRequirement already satisfied: docker-pycreds>=0.3.0 in /home/nbuser/anaconda3_501/lib/python3.6/site-packages (from docker->azureml-core==1.0.2.*->azureml-sdk) (0.4.0)\nRequirement already satisfied: websocket-client>=0.32.0 in /home/nbuser/anaconda3_501/lib/python3.6/site-packages (from docker->azureml-core==1.0.2.*->azureml-sdk) (0.54.0)\nRequirement already satisfied: backports.weakref in /home/nbuser/anaconda3_501/lib/python3.6/site-packages (from backports.tempfile->azureml-core==1.0.2.*->azureml-sdk) (1.0rc1)\nRequirement already satisfied: azure-mgmt-nspkg>=2.0.0 in /home/nbuser/anaconda3_501/lib/python3.6/site-packages (from azure-mgmt-keyvault>=0.40.0->azureml-core==1.0.2.*->azureml-sdk) (3.0.2)\nRequirement already satisfied: azure-cli-telemetry in /home/nbuser/anaconda3_501/lib/python3.6/site-packages (from azure-cli-core>=2.0.38->azureml-core==1.0.2.*->azureml-sdk) (1.0.0)\nRequirement already satisfied: pyopenssl>=17.1.0 in /home/nbuser/anaconda3_501/lib/python3.6/site-packages (from azure-cli-core>=2.0.38->azureml-core==1.0.2.*->azureml-sdk) (18.0.0)\nRequirement already satisfied: pyyaml~=3.13 in /home/nbuser/anaconda3_501/lib/python3.6/site-packages (from azure-cli-core>=2.0.38->azureml-core==1.0.2.*->azureml-sdk) (3.13)\nRequirement already satisfied: pip in /home/nbuser/anaconda3_501/lib/python3.6/site-packages (from azure-cli-core>=2.0.38->azureml-core==1.0.2.*->azureml-sdk) (18.1)\nRequirement already satisfied: paramiko>=2.0.8 in /home/nbuser/anaconda3_501/lib/python3.6/site-packages (from azure-cli-core>=2.0.38->azureml-core==1.0.2.*->azureml-sdk) (2.4.2)\nRequirement already satisfied: jmespath in /home/nbuser/anaconda3_501/lib/python3.6/site-packages (from azure-cli-core>=2.0.38->azureml-core==1.0.2.*->azureml-sdk) (0.9.3)\nRequirement already satisfied: argcomplete>=1.8.0 in /home/nbuser/anaconda3_501/lib/python3.6/site-packages (from azure-cli-core>=2.0.38->azureml-core==1.0.2.*->azureml-sdk) (1.9.4)\nRequirement already satisfied: pygments in /home/nbuser/anaconda3_501/lib/python3.6/site-packages (from azure-cli-core>=2.0.38->azureml-core==1.0.2.*->azureml-sdk) (2.2.0)\nRequirement already satisfied: knack==0.5.1 in /home/nbuser/anaconda3_501/lib/python3.6/site-packages (from azure-cli-core>=2.0.38->azureml-core==1.0.2.*->azureml-sdk) (0.5.1)\nRequirement already satisfied: tabulate<=0.8.2,>=0.7.7 in /home/nbuser/anaconda3_501/lib/python3.6/site-packages (from azure-cli-core>=2.0.38->azureml-core==1.0.2.*->azureml-sdk) (0.8.2)\n",
          "name": "stdout"
        },
        {
          "output_type": "stream",
          "text": "Requirement already satisfied: antlr4-python3-runtime; python_version >= \"3.0\" in /home/nbuser/anaconda3_501/lib/python3.6/site-packages (from azure-cli-core>=2.0.38->azureml-core==1.0.2.*->azureml-sdk) (4.7.1)\nRequirement already satisfied: colorama>=0.3.9 in /home/nbuser/anaconda3_501/lib/python3.6/site-packages (from azure-cli-core>=2.0.38->azureml-core==1.0.2.*->azureml-sdk) (0.3.9)\nRequirement already satisfied: azure-cli-nspkg>=2.0.0 in /home/nbuser/anaconda3_501/lib/python3.6/site-packages (from azure-cli-core>=2.0.38->azureml-core==1.0.2.*->azureml-sdk) (3.0.3)\nRequirement already satisfied: humanfriendly>=4.7 in /home/nbuser/anaconda3_501/lib/python3.6/site-packages (from azure-cli-core>=2.0.38->azureml-core==1.0.2.*->azureml-sdk) (4.17)\nRequirement already satisfied: wheel==0.30.0 in /home/nbuser/anaconda3_501/lib/python3.6/site-packages (from azure-cli-core>=2.0.38->azureml-core==1.0.2.*->azureml-sdk) (0.30.0)\nRequirement already satisfied: idna<2.8,>=2.5 in /home/nbuser/anaconda3_501/lib/python3.6/site-packages (from requests>=2.19.1->azureml-core==1.0.2.*->azureml-sdk) (2.7)\nRequirement already satisfied: chardet<3.1.0,>=3.0.2 in /home/nbuser/anaconda3_501/lib/python3.6/site-packages (from requests>=2.19.1->azureml-core==1.0.2.*->azureml-sdk) (3.0.4)\nRequirement already satisfied: azure-nspkg>=2.0.0 in /home/nbuser/anaconda3_501/lib/python3.6/site-packages (from azure-storage-nspkg>=3.0.0->azureml-core==1.0.2.*->azureml-sdk) (3.0.2)\nRequirement already satisfied: pyasn1>=0.1.1 in /home/nbuser/anaconda3_501/lib/python3.6/site-packages (from ndg-httpsclient->azureml-core==1.0.2.*->azureml-sdk) (0.4.4)\nRequirement already satisfied: asn1crypto>=0.21.0 in /home/nbuser/anaconda3_501/lib/python3.6/site-packages (from cryptography!=1.9,!=2.0.*,!=2.1.*,!=2.2.*->azureml-core==1.0.2.*->azureml-sdk) (0.24.0)\nRequirement already satisfied: cffi!=1.11.3,>=1.7 in /home/nbuser/anaconda3_501/lib/python3.6/site-packages (from cryptography!=1.9,!=2.0.*,!=2.1.*,!=2.2.*->azureml-core==1.0.2.*->azureml-sdk) (1.11.5)\nRequirement already satisfied: requests-oauthlib>=0.5.0 in /home/nbuser/anaconda3_501/lib/python3.6/site-packages (from msrest>=0.5.1->azureml-core==1.0.2.*->azureml-sdk) (1.0.0)\nRequirement already satisfied: isodate>=0.6.0 in /home/nbuser/anaconda3_501/lib/python3.6/site-packages (from msrest>=0.5.1->azureml-core==1.0.2.*->azureml-sdk) (0.6.0)\nRequirement already satisfied: applicationinsights in /home/nbuser/anaconda3_501/lib/python3.6/site-packages (from azureml-telemetry==1.0.2.*->azureml-train-core==1.0.2.*->azureml-train==1.0.2.*->azureml-sdk) (0.11.7)\nRequirement already satisfied: portalocker==1.2.1 in /home/nbuser/anaconda3_501/lib/python3.6/site-packages (from azure-cli-telemetry->azure-cli-core>=2.0.38->azureml-core==1.0.2.*->azureml-sdk) (1.2.1)\nRequirement already satisfied: pynacl>=1.0.1 in /home/nbuser/anaconda3_501/lib/python3.6/site-packages (from paramiko>=2.0.8->azure-cli-core>=2.0.38->azureml-core==1.0.2.*->azureml-sdk) (1.3.0)\nRequirement already satisfied: bcrypt>=3.1.3 in /home/nbuser/anaconda3_501/lib/python3.6/site-packages (from paramiko>=2.0.8->azure-cli-core>=2.0.38->azureml-core==1.0.2.*->azureml-sdk) (3.1.4)\nRequirement already satisfied: pycparser in /home/nbuser/anaconda3_501/lib/python3.6/site-packages (from cffi!=1.11.3,>=1.7->cryptography!=1.9,!=2.0.*,!=2.1.*,!=2.2.*->azureml-core==1.0.2.*->azureml-sdk) (2.19)\nRequirement already satisfied: oauthlib>=0.6.2 in /home/nbuser/anaconda3_501/lib/python3.6/site-packages (from requests-oauthlib>=0.5.0->msrest>=0.5.1->azureml-core==1.0.2.*->azureml-sdk) (2.1.0)\n",
          "name": "stdout"
        }
      ]
    },
    {
      "metadata": {
        "trusted": true
      },
      "cell_type": "code",
      "source": "!pip install --upgrade azureml-dataprep",
      "execution_count": 2,
      "outputs": [
        {
          "output_type": "stream",
          "text": "Requirement already up-to-date: azureml-dataprep in /home/nbuser/anaconda3_501/lib/python3.6/site-packages (1.0.4)\nRequirement already satisfied, skipping upgrade: pandas>=0.19.2 in /home/nbuser/anaconda3_501/lib/python3.6/site-packages (from azureml-dataprep) (0.22.0)\nRequirement already satisfied, skipping upgrade: numpy>=1.11.3 in /home/nbuser/anaconda3_501/lib/python3.6/site-packages (from azureml-dataprep) (1.14.6)\nRequirement already satisfied, skipping upgrade: dotnetcore2==2.1.7 in /home/nbuser/anaconda3_501/lib/python3.6/site-packages (from azureml-dataprep) (2.1.7)\nRequirement already satisfied, skipping upgrade: azureml-dataprep-native<12.0.0,>=11.2.0 in /home/nbuser/anaconda3_501/lib/python3.6/site-packages (from azureml-dataprep) (11.2.0)\nRequirement already satisfied, skipping upgrade: python-dateutil>=2 in /home/nbuser/anaconda3_501/lib/python3.6/site-packages (from pandas>=0.19.2->azureml-dataprep) (2.7.5)\nRequirement already satisfied, skipping upgrade: pytz>=2011k in /home/nbuser/anaconda3_501/lib/python3.6/site-packages (from pandas>=0.19.2->azureml-dataprep) (2018.7)\nRequirement already satisfied, skipping upgrade: distro>=1.2.0 in /home/nbuser/anaconda3_501/lib/python3.6/site-packages (from dotnetcore2==2.1.7->azureml-dataprep) (1.3.0)\nRequirement already satisfied, skipping upgrade: six>=1.5 in /home/nbuser/anaconda3_501/lib/python3.6/site-packages (from python-dateutil>=2->pandas>=0.19.2->azureml-dataprep) (1.11.0)\n",
          "name": "stdout"
        }
      ]
    },
    {
      "metadata": {
        "trusted": true
      },
      "cell_type": "code",
      "source": "import sys",
      "execution_count": 3,
      "outputs": []
    },
    {
      "metadata": {
        "trusted": true
      },
      "cell_type": "code",
      "source": "sys.version",
      "execution_count": 4,
      "outputs": [
        {
          "output_type": "execute_result",
          "execution_count": 4,
          "data": {
            "text/plain": "'3.6.6 |Anaconda, Inc.| (default, Jun 28 2018, 17:14:51) \\n[GCC 7.2.0]'"
          },
          "metadata": {}
        }
      ]
    },
    {
      "metadata": {
        "trusted": true
      },
      "cell_type": "code",
      "source": "import azureml.core\nprint(\"Version Azure ML service :\", azureml.core.VERSION)",
      "execution_count": 7,
      "outputs": [
        {
          "output_type": "stream",
          "text": "Version Azure ML service : 1.0.2\n",
          "name": "stdout"
        }
      ]
    },
    {
      "metadata": {
        "trusted": true
      },
      "cell_type": "code",
      "source": "",
      "execution_count": null,
      "outputs": []
    }
  ],
  "metadata": {
    "kernelspec": {
      "name": "python36",
      "display_name": "Python 3.6",
      "language": "python"
    },
    "language_info": {
      "mimetype": "text/x-python",
      "nbconvert_exporter": "python",
      "name": "python",
      "pygments_lexer": "ipython3",
      "version": "3.6.6",
      "file_extension": ".py",
      "codemirror_mode": {
        "version": 3,
        "name": "ipython"
      }
    }
  },
  "nbformat": 4,
  "nbformat_minor": 2
}