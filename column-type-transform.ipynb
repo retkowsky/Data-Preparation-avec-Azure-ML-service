{
  "cells": [
    {
      "metadata": {},
      "cell_type": "markdown",
      "source": "# Column Type Transformations\nCopyright (c) Microsoft Corporation. All rights reserved.<br>\nLicensed under the MIT License."
    },
    {
      "metadata": {},
      "cell_type": "markdown",
      "source": "DataPrep has the ability to transform column types."
    },
    {
      "metadata": {
        "trusted": true
      },
      "cell_type": "code",
      "source": "import azureml.dataprep as dprep\ndataflow = dprep.read_csv(path=r'data\\elements.csv')\ndataflow.head(3)",
      "execution_count": 1,
      "outputs": [
        {
          "output_type": "execute_result",
          "execution_count": 1,
          "data": {
            "text/html": "<div>\n<style scoped>\n    .dataframe tbody tr th:only-of-type {\n        vertical-align: middle;\n    }\n\n    .dataframe tbody tr th {\n        vertical-align: top;\n    }\n\n    .dataframe thead th {\n        text-align: right;\n    }\n</style>\n<table border=\"1\" class=\"dataframe\">\n  <thead>\n    <tr style=\"text-align: right;\">\n      <th></th>\n      <th>ID</th>\n      <th>Symbol</th>\n      <th>Boiling Point</th>\n    </tr>\n  </thead>\n  <tbody>\n    <tr>\n      <th>0</th>\n      <td>1</td>\n      <td>H</td>\n      <td>-252.87</td>\n    </tr>\n    <tr>\n      <th>1</th>\n      <td>53</td>\n      <td>I</td>\n      <td>184.3</td>\n    </tr>\n    <tr>\n      <th>2</th>\n      <td>2</td>\n      <td>He</td>\n      <td>-268.93</td>\n    </tr>\n  </tbody>\n</table>\n</div>",
            "text/plain": "   ID Symbol Boiling Point\n0   1      H       -252.87\n1  53      I         184.3\n2   2     He       -268.93"
          },
          "metadata": {}
        }
      ]
    },
    {
      "metadata": {},
      "cell_type": "markdown",
      "source": "#### `to_long(columns)`"
    },
    {
      "metadata": {
        "trusted": true
      },
      "cell_type": "code",
      "source": "# Convert the boiling point to a 64 bit integer.\nintegers_only_dataflow = dataflow.to_long(['Boiling Point'])\nintegers_only_dataflow.head(3)",
      "execution_count": 2,
      "outputs": [
        {
          "output_type": "execute_result",
          "execution_count": 2,
          "data": {
            "text/html": "<div>\n<style scoped>\n    .dataframe tbody tr th:only-of-type {\n        vertical-align: middle;\n    }\n\n    .dataframe tbody tr th {\n        vertical-align: top;\n    }\n\n    .dataframe thead th {\n        text-align: right;\n    }\n</style>\n<table border=\"1\" class=\"dataframe\">\n  <thead>\n    <tr style=\"text-align: right;\">\n      <th></th>\n      <th>ID</th>\n      <th>Symbol</th>\n      <th>Boiling Point</th>\n    </tr>\n  </thead>\n  <tbody>\n    <tr>\n      <th>0</th>\n      <td>1</td>\n      <td>H</td>\n      <td>-252</td>\n    </tr>\n    <tr>\n      <th>1</th>\n      <td>53</td>\n      <td>I</td>\n      <td>184</td>\n    </tr>\n    <tr>\n      <th>2</th>\n      <td>2</td>\n      <td>He</td>\n      <td>-268</td>\n    </tr>\n  </tbody>\n</table>\n</div>",
            "text/plain": "   ID Symbol  Boiling Point\n0   1      H           -252\n1  53      I            184\n2   2     He           -268"
          },
          "metadata": {}
        }
      ]
    },
    {
      "metadata": {
        "trusted": true
      },
      "cell_type": "code",
      "source": "",
      "execution_count": null,
      "outputs": []
    }
  ],
  "metadata": {
    "kernelspec": {
      "name": "python36",
      "display_name": "Python 3.6",
      "language": "python"
    },
    "language_info": {
      "mimetype": "text/x-python",
      "nbconvert_exporter": "python",
      "name": "python",
      "pygments_lexer": "ipython3",
      "version": "3.6.6",
      "file_extension": ".py",
      "codemirror_mode": {
        "version": 3,
        "name": "ipython"
      }
    }
  },
  "nbformat": 4,
  "nbformat_minor": 2
}