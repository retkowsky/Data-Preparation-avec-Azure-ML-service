{
  "cells": [
    {
      "metadata": {},
      "cell_type": "markdown",
      "source": "DataPrep Package can be saved to and loaded from JSON string."
    },
    {
      "metadata": {},
      "cell_type": "markdown",
      "source": "# Work with JSON representation of Package\nCopyright (c) Microsoft Corporation. All rights reserved.<br>\nLicensed under the MIT License."
    },
    {
      "metadata": {
        "trusted": true
      },
      "cell_type": "code",
      "source": "# create a Dataflow and pack it into a Package\nimport azureml.dataprep as dprep\ndf = dprep.read_csv(path='https://dpreptestfiles.blob.core.windows.net/testfiles/read_csv_duplicate_headers.csv')\npkg = dprep.Package(df)",
      "execution_count": 1,
      "outputs": []
    },
    {
      "metadata": {
        "trusted": true
      },
      "cell_type": "code",
      "source": "# save Package to JSON string\njson_str = pkg.to_json()\njson_str",
      "execution_count": 2,
      "outputs": [
        {
          "output_type": "execute_result",
          "execution_count": 2,
          "data": {
            "text/plain": "'{\\n  \"schemaVersion\": 63,\\n  \"id\": \"1e865029-9dec-4664-a9ca-effecbace8c9\",\\n  \"activities\": [\\n    {\\n      \"id\": \"9a2f0365-c518-4d54-b68c-e8ca31ef5b22\",\\n      \"name\": \"dataflow\",\\n      \"blocks\": [\\n        {\\n          \"id\": \"c60a8fb8-d189-477a-af3d-d5e163cb9eae\",\\n          \"type\": \"Microsoft.DPrep.GetFilesBlock\",\\n          \"arguments\": {\\n            \"isArchive\": false,\\n            \"path\": {\\n              \"target\": 1,\\n              \"resourceDetails\": [\\n                {\\n                  \"path\": \"https://dpreptestfiles.blob.core.windows.net/testfiles/read_csv_duplicate_headers.csv\",\\n                  \"sas\": null,\\n                  \"storageAccountName\": null,\\n                  \"storageAccountKey\": null\\n                }\\n              ]\\n            }\\n          },\\n          \"localData\": {},\\n          \"isEnabled\": true,\\n          \"name\": null,\\n          \"annotation\": null\\n        },\\n        {\\n          \"id\": \"6af3740f-32ff-4337-8201-b772de830251\",\\n          \"type\": \"Microsoft.DPrep.ParseDelimitedBlock\",\\n          \"arguments\": {\\n            \"columnHeadersMode\": 3,\\n            \"fileEncoding\": 0,\\n            \"handleQuotedLineBreaks\": false,\\n            \"preview\": false,\\n            \"separator\": \",\",\\n            \"skipRows\": 0,\\n            \"skipRowsMode\": 0\\n          },\\n          \"localData\": {},\\n          \"isEnabled\": true,\\n          \"name\": null,\\n          \"annotation\": null\\n        },\\n        {\\n          \"id\": \"f46f529c-0a0d-4a88-b398-734a71f42d48\",\\n          \"type\": \"Microsoft.DPrep.DropColumnsBlock\",\\n          \"arguments\": {\\n            \"columns\": {\\n              \"type\": 0,\\n              \"details\": {\\n                \"selectedColumns\": [\\n                  \"Path\"\\n                ]\\n              }\\n            }\\n          },\\n          \"localData\": {},\\n          \"isEnabled\": true,\\n          \"name\": null,\\n          \"annotation\": null\\n        }\\n      ],\\n      \"inspectors\": []\\n    }\\n  ],\\n  \"runConfigurations\": []\\n}'"
          },
          "metadata": {}
        }
      ]
    },
    {
      "metadata": {
        "trusted": true
      },
      "cell_type": "code",
      "source": "# load Package from JSON string\npkg_loaded = dprep.Package.from_json(json_str)\ndf_loaded = pkg_loaded.dataflows[0]",
      "execution_count": 3,
      "outputs": []
    },
    {
      "metadata": {
        "trusted": true
      },
      "cell_type": "code",
      "source": "",
      "execution_count": null,
      "outputs": []
    }
  ],
  "metadata": {
    "kernelspec": {
      "name": "python36",
      "display_name": "Python 3.6",
      "language": "python"
    },
    "language_info": {
      "mimetype": "text/x-python",
      "nbconvert_exporter": "python",
      "name": "python",
      "pygments_lexer": "ipython3",
      "version": "3.6.6",
      "file_extension": ".py",
      "codemirror_mode": {
        "version": 3,
        "name": "ipython"
      }
    }
  },
  "nbformat": 4,
  "nbformat_minor": 2
}