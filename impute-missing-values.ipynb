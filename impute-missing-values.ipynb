{
  "cells": [
    {
      "metadata": {},
      "cell_type": "markdown",
      "source": "# Impute missing values\nCopyright (c) Microsoft Corporation. All rights reserved.<br>\nLicensed under the MIT License."
    },
    {
      "metadata": {},
      "cell_type": "markdown",
      "source": "DataPrep has the ability to impute missing values in specified columns. In this case, we will attempt to impute the missing _Latitude_ and _Longitude_ values in the input data."
    },
    {
      "metadata": {
        "trusted": true
      },
      "cell_type": "code",
      "source": "!pip install azureml",
      "execution_count": 2,
      "outputs": [
        {
          "output_type": "stream",
          "text": "Collecting azureml\n  Downloading https://files.pythonhosted.org/packages/ab/e8/76cd2cb6784b9039affd2c659eed1b3f46baf2e6b87a10b072a20b5b0113/azureml-0.2.7-py2.py3-none-any.whl\nRequirement already satisfied: pandas in /home/nbuser/anaconda3_501/lib/python3.6/site-packages (from azureml) (0.22.0)\nRequirement already satisfied: requests in /home/nbuser/anaconda3_501/lib/python3.6/site-packages (from azureml) (2.20.1)\nRequirement already satisfied: python-dateutil in /home/nbuser/anaconda3_501/lib/python3.6/site-packages (from azureml) (2.7.5)\nRequirement already satisfied: pytz>=2011k in /home/nbuser/anaconda3_501/lib/python3.6/site-packages (from pandas->azureml) (2018.7)\nRequirement already satisfied: numpy>=1.9.0 in /home/nbuser/anaconda3_501/lib/python3.6/site-packages (from pandas->azureml) (1.14.6)\nRequirement already satisfied: urllib3<1.25,>=1.21.1 in /home/nbuser/anaconda3_501/lib/python3.6/site-packages (from requests->azureml) (1.23)\nRequirement already satisfied: chardet<3.1.0,>=3.0.2 in /home/nbuser/anaconda3_501/lib/python3.6/site-packages (from requests->azureml) (3.0.4)\nRequirement already satisfied: idna<2.8,>=2.5 in /home/nbuser/anaconda3_501/lib/python3.6/site-packages (from requests->azureml) (2.7)\nRequirement already satisfied: certifi>=2017.4.17 in /home/nbuser/anaconda3_501/lib/python3.6/site-packages (from requests->azureml) (2018.10.15)\nRequirement already satisfied: six>=1.5 in /home/nbuser/anaconda3_501/lib/python3.6/site-packages (from python-dateutil->azureml) (1.11.0)\nInstalling collected packages: azureml\nSuccessfully installed azureml-0.2.7\n",
          "name": "stdout"
        }
      ]
    },
    {
      "metadata": {
        "trusted": true
      },
      "cell_type": "code",
      "source": "import azureml.dataprep as dprep",
      "execution_count": 3,
      "outputs": []
    },
    {
      "metadata": {
        "trusted": true
      },
      "cell_type": "code",
      "source": "# loading input data\ndf = dprep.read_csv(r'data\\crime0-10.csv')\ndf = df.keep_columns(['ID', 'Arrest', 'Latitude', 'Longitude'])\ndf = df.to_number(['Latitude', 'Longitude'])\ndf.head(10)",
      "execution_count": 4,
      "outputs": [
        {
          "output_type": "execute_result",
          "execution_count": 4,
          "data": {
            "text/html": "<div>\n<style scoped>\n    .dataframe tbody tr th:only-of-type {\n        vertical-align: middle;\n    }\n\n    .dataframe tbody tr th {\n        vertical-align: top;\n    }\n\n    .dataframe thead th {\n        text-align: right;\n    }\n</style>\n<table border=\"1\" class=\"dataframe\">\n  <thead>\n    <tr style=\"text-align: right;\">\n      <th></th>\n      <th>ID</th>\n      <th>Arrest</th>\n      <th>Latitude</th>\n      <th>Longitude</th>\n    </tr>\n  </thead>\n  <tbody>\n    <tr>\n      <th>0</th>\n      <td>10140490</td>\n      <td>false</td>\n      <td>41.973309</td>\n      <td>-87.800175</td>\n    </tr>\n    <tr>\n      <th>1</th>\n      <td>10139776</td>\n      <td>false</td>\n      <td>42.008124</td>\n      <td>-87.659550</td>\n    </tr>\n    <tr>\n      <th>2</th>\n      <td>10140270</td>\n      <td>false</td>\n      <td>NaN</td>\n      <td>NaN</td>\n    </tr>\n    <tr>\n      <th>3</th>\n      <td>10139885</td>\n      <td>false</td>\n      <td>41.902152</td>\n      <td>-87.754883</td>\n    </tr>\n    <tr>\n      <th>4</th>\n      <td>10140379</td>\n      <td>false</td>\n      <td>41.885610</td>\n      <td>-87.657009</td>\n    </tr>\n    <tr>\n      <th>5</th>\n      <td>10140868</td>\n      <td>false</td>\n      <td>41.679311</td>\n      <td>-87.644545</td>\n    </tr>\n    <tr>\n      <th>6</th>\n      <td>10139762</td>\n      <td>false</td>\n      <td>41.825501</td>\n      <td>-87.690578</td>\n    </tr>\n    <tr>\n      <th>7</th>\n      <td>10139722</td>\n      <td>true</td>\n      <td>41.857828</td>\n      <td>-87.715029</td>\n    </tr>\n    <tr>\n      <th>8</th>\n      <td>10139774</td>\n      <td>false</td>\n      <td>41.970100</td>\n      <td>-87.669324</td>\n    </tr>\n    <tr>\n      <th>9</th>\n      <td>10139697</td>\n      <td>false</td>\n      <td>41.787580</td>\n      <td>-87.685233</td>\n    </tr>\n  </tbody>\n</table>\n</div>",
            "text/plain": "         ID Arrest   Latitude  Longitude\n0  10140490  false  41.973309 -87.800175\n1  10139776  false  42.008124 -87.659550\n2  10140270  false        NaN        NaN\n3  10139885  false  41.902152 -87.754883\n4  10140379  false  41.885610 -87.657009\n5  10140868  false  41.679311 -87.644545\n6  10139762  false  41.825501 -87.690578\n7  10139722   true  41.857828 -87.715029\n8  10139774  false  41.970100 -87.669324\n9  10139697  false  41.787580 -87.685233"
          },
          "metadata": {}
        }
      ]
    },
    {
      "metadata": {},
      "cell_type": "markdown",
      "source": "The third record from input data has _Latitude_ and _Longitude_ missing. To impute those missing values, we can use `ImputeMissingValuesBuilder` to learn a fixed program which imputes the columns with either a calculated `MIN`, `MAX` or `MEAN` value or a `CUSTOM` value. When `group_by_columns` is specified, missing values will be imputed by group with `MIN`, `MAX` and `MEAN` calculated per group."
    },
    {
      "metadata": {},
      "cell_type": "markdown",
      "source": "Firstly, let us quickly see check the `MEAN` value of _Latitude_ column."
    },
    {
      "metadata": {
        "trusted": true
      },
      "cell_type": "code",
      "source": "df_mean = df.summarize(group_by_columns=['Arrest'],\n                       summary_columns=[dprep.SummaryColumnsValue(column_id='Latitude',\n                                                                 summary_column_name='Latitude_MEAN',\n                                                                 summary_function=dprep.SummaryFunction.MEAN)])\ndf_mean = df_mean.filter(dprep.col('Arrest') == 'false')\ndf_mean.head(1)",
      "execution_count": 5,
      "outputs": [
        {
          "output_type": "execute_result",
          "execution_count": 5,
          "data": {
            "text/html": "<div>\n<style scoped>\n    .dataframe tbody tr th:only-of-type {\n        vertical-align: middle;\n    }\n\n    .dataframe tbody tr th {\n        vertical-align: top;\n    }\n\n    .dataframe thead th {\n        text-align: right;\n    }\n</style>\n<table border=\"1\" class=\"dataframe\">\n  <thead>\n    <tr style=\"text-align: right;\">\n      <th></th>\n      <th>Arrest</th>\n      <th>Latitude_MEAN</th>\n    </tr>\n  </thead>\n  <tbody>\n    <tr>\n      <th>0</th>\n      <td>false</td>\n      <td>41.878961</td>\n    </tr>\n  </tbody>\n</table>\n</div>",
            "text/plain": "  Arrest  Latitude_MEAN\n0  false      41.878961"
          },
          "metadata": {}
        }
      ]
    },
    {
      "metadata": {},
      "cell_type": "markdown",
      "source": "The `MEAN` value of _Latitude_ looks good. So we will impute _Latitude_ with it. As for `Longitude`, we will impute it using `42` based on external knowledge."
    },
    {
      "metadata": {
        "trusted": true
      },
      "cell_type": "code",
      "source": "# impute with MEAN\nimpute_mean = dprep.ImputeColumnArguments(column_id='Latitude',\n                                          impute_function=dprep.ReplaceValueFunction.MEAN)\n# impute with custom value 42\nimpute_custom = dprep.ImputeColumnArguments(column_id='Longitude',\n                                            custom_impute_value=42)\n# get instance of ImputeMissingValuesBuilder\nimpute_builder = df.builders.impute_missing_values(impute_columns=[impute_mean, impute_custom],\n                                                   group_by_columns=['Arrest'])\n# call learn() to learn a fixed program to impute missing values\nimpute_builder.learn()\n# call to_dataflow() to get a dataflow with impute step added\ndf_imputed = impute_builder.to_dataflow()",
      "execution_count": 6,
      "outputs": []
    },
    {
      "metadata": {
        "trusted": true
      },
      "cell_type": "code",
      "source": "# check impute result\ndf_imputed.head(10)",
      "execution_count": 7,
      "outputs": [
        {
          "output_type": "execute_result",
          "execution_count": 7,
          "data": {
            "text/html": "<div>\n<style scoped>\n    .dataframe tbody tr th:only-of-type {\n        vertical-align: middle;\n    }\n\n    .dataframe tbody tr th {\n        vertical-align: top;\n    }\n\n    .dataframe thead th {\n        text-align: right;\n    }\n</style>\n<table border=\"1\" class=\"dataframe\">\n  <thead>\n    <tr style=\"text-align: right;\">\n      <th></th>\n      <th>ID</th>\n      <th>Arrest</th>\n      <th>Latitude</th>\n      <th>Longitude</th>\n    </tr>\n  </thead>\n  <tbody>\n    <tr>\n      <th>0</th>\n      <td>10140490</td>\n      <td>false</td>\n      <td>41.973309</td>\n      <td>-87.800175</td>\n    </tr>\n    <tr>\n      <th>1</th>\n      <td>10139776</td>\n      <td>false</td>\n      <td>42.008124</td>\n      <td>-87.659550</td>\n    </tr>\n    <tr>\n      <th>2</th>\n      <td>10140270</td>\n      <td>false</td>\n      <td>41.878961</td>\n      <td>42.000000</td>\n    </tr>\n    <tr>\n      <th>3</th>\n      <td>10139885</td>\n      <td>false</td>\n      <td>41.902152</td>\n      <td>-87.754883</td>\n    </tr>\n    <tr>\n      <th>4</th>\n      <td>10140379</td>\n      <td>false</td>\n      <td>41.885610</td>\n      <td>-87.657009</td>\n    </tr>\n    <tr>\n      <th>5</th>\n      <td>10140868</td>\n      <td>false</td>\n      <td>41.679311</td>\n      <td>-87.644545</td>\n    </tr>\n    <tr>\n      <th>6</th>\n      <td>10139762</td>\n      <td>false</td>\n      <td>41.825501</td>\n      <td>-87.690578</td>\n    </tr>\n    <tr>\n      <th>7</th>\n      <td>10139722</td>\n      <td>true</td>\n      <td>41.857828</td>\n      <td>-87.715029</td>\n    </tr>\n    <tr>\n      <th>8</th>\n      <td>10139774</td>\n      <td>false</td>\n      <td>41.970100</td>\n      <td>-87.669324</td>\n    </tr>\n    <tr>\n      <th>9</th>\n      <td>10139697</td>\n      <td>false</td>\n      <td>41.787580</td>\n      <td>-87.685233</td>\n    </tr>\n  </tbody>\n</table>\n</div>",
            "text/plain": "         ID Arrest   Latitude  Longitude\n0  10140490  false  41.973309 -87.800175\n1  10139776  false  42.008124 -87.659550\n2  10140270  false  41.878961  42.000000\n3  10139885  false  41.902152 -87.754883\n4  10140379  false  41.885610 -87.657009\n5  10140868  false  41.679311 -87.644545\n6  10139762  false  41.825501 -87.690578\n7  10139722   true  41.857828 -87.715029\n8  10139774  false  41.970100 -87.669324\n9  10139697  false  41.787580 -87.685233"
          },
          "metadata": {}
        }
      ]
    },
    {
      "metadata": {},
      "cell_type": "markdown",
      "source": "As the result above, the missing _Latitude_ has been imputed with the `MEAN` value of `Arrest=='false'` group, and the missing _Longitude_ has been imputed with `42`."
    },
    {
      "metadata": {
        "trusted": true
      },
      "cell_type": "code",
      "source": "",
      "execution_count": null,
      "outputs": []
    }
  ],
  "metadata": {
    "kernelspec": {
      "name": "python36",
      "display_name": "Python 3.6",
      "language": "python"
    },
    "language_info": {
      "mimetype": "text/x-python",
      "nbconvert_exporter": "python",
      "name": "python",
      "pygments_lexer": "ipython3",
      "version": "3.6.6",
      "file_extension": ".py",
      "codemirror_mode": {
        "version": 3,
        "name": "ipython"
      }
    }
  },
  "nbformat": 4,
  "nbformat_minor": 2
}