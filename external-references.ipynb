{
  "cells": [
    {
      "metadata": {},
      "cell_type": "markdown",
      "source": "# External References\nCopyright (c) Microsoft Corporation. All rights reserved.<br>\nLicensed under the MIT License."
    },
    {
      "metadata": {},
      "cell_type": "markdown",
      "source": "In addition to opening existing Dataflows in code and modifying them, it is also possible to create and persist Dataflows that reference another Dataflow that has been persisted to a DataPrep package. In this case, executing this Dataflow will load the referenced DataPrep package dynamically, execute the referenced Dataflow, and then execute the steps in the referencing Dataflow."
    },
    {
      "metadata": {},
      "cell_type": "markdown",
      "source": "To demonstrate, we will create a Dataflow that loads and transforms some data. After that, we will persist this Dataflow to a DataPrep package."
    },
    {
      "metadata": {
        "trusted": true
      },
      "cell_type": "code",
      "source": "import azureml.dataprep as dprep\nimport tempfile\nimport os\n\ndf = dprep.smart_read_file('./data/fixed_width_file.txt')\ndf = df.drop_errors(['Column7', 'Column8', 'Column9'], dprep.ColumnRelationship.ANY)\ndf = df.set_name('FWF')\npkg = dprep.Package(df)\npkg_path = os.path.join(tempfile.gettempdir(), 'package.dprep')\npkg = pkg.save(pkg_path)",
      "execution_count": 1,
      "outputs": [
        {
          "output_type": "stream",
          "text": "/home/nbuser/anaconda3_501/lib/python3.6/site-packages/ipykernel/__main__.py:5: DeprecationWarning: Function smart_read_file is deprecated. Use auto_read_file instead.\n",
          "name": "stderr"
        }
      ]
    },
    {
      "metadata": {},
      "cell_type": "markdown",
      "source": "Now that we have a package file, we can create a new Dataflow that references it."
    },
    {
      "metadata": {
        "trusted": true
      },
      "cell_type": "code",
      "source": "new_df = dprep.Dataflow.reference(dprep.ExternalReference(pkg_path, 'FWF'))\nnew_df.head(10)",
      "execution_count": 2,
      "outputs": [
        {
          "output_type": "execute_result",
          "execution_count": 2,
          "data": {
            "text/html": "<div>\n<style scoped>\n    .dataframe tbody tr th:only-of-type {\n        vertical-align: middle;\n    }\n\n    .dataframe tbody tr th {\n        vertical-align: top;\n    }\n\n    .dataframe thead th {\n        text-align: right;\n    }\n</style>\n<table border=\"1\" class=\"dataframe\">\n  <thead>\n    <tr style=\"text-align: right;\">\n      <th></th>\n      <th>Column1</th>\n      <th>Column2</th>\n      <th>Column3</th>\n      <th>Column4</th>\n      <th>Column5</th>\n      <th>Column6</th>\n      <th>Column7</th>\n      <th>Column8</th>\n      <th>Column9</th>\n    </tr>\n  </thead>\n  <tbody>\n    <tr>\n      <th>0</th>\n      <td>10010.0</td>\n      <td>99999.0</td>\n      <td>JAN MAYEN</td>\n      <td>azureml.dataprep.native.DataPrepError(\"'Micros...</td>\n      <td>JN</td>\n      <td>ENJA</td>\n      <td>70933.0</td>\n      <td>-8667.0</td>\n      <td>90.0</td>\n    </tr>\n    <tr>\n      <th>1</th>\n      <td>10014.0</td>\n      <td>99999.0</td>\n      <td>SOERSTOKKEN</td>\n      <td>azureml.dataprep.native.DataPrepError(\"'Micros...</td>\n      <td>NO</td>\n      <td>ENSO</td>\n      <td>59783.0</td>\n      <td>5350.0</td>\n      <td>500.0</td>\n    </tr>\n    <tr>\n      <th>2</th>\n      <td>10015.0</td>\n      <td>99999.0</td>\n      <td>BRINGELAND</td>\n      <td>azureml.dataprep.native.DataPrepError(\"'Micros...</td>\n      <td>NO</td>\n      <td>ENBL</td>\n      <td>61383.0</td>\n      <td>5867.0</td>\n      <td>3270.0</td>\n    </tr>\n    <tr>\n      <th>3</th>\n      <td>10016.0</td>\n      <td>99999.0</td>\n      <td>RORVIK/RYUM</td>\n      <td>azureml.dataprep.native.DataPrepError(\"'Micros...</td>\n      <td>NO</td>\n      <td></td>\n      <td>64850.0</td>\n      <td>11233.0</td>\n      <td>140.0</td>\n    </tr>\n    <tr>\n      <th>4</th>\n      <td>10017.0</td>\n      <td>99999.0</td>\n      <td>FRIGG</td>\n      <td>azureml.dataprep.native.DataPrepError(\"'Micros...</td>\n      <td>NO</td>\n      <td>ENFR</td>\n      <td>59933.0</td>\n      <td>2417.0</td>\n      <td>480.0</td>\n    </tr>\n    <tr>\n      <th>5</th>\n      <td>10020.0</td>\n      <td>99999.0</td>\n      <td>VERLEGENHUKEN</td>\n      <td>azureml.dataprep.native.DataPrepError(\"'Micros...</td>\n      <td>SV</td>\n      <td></td>\n      <td>80050.0</td>\n      <td>16250.0</td>\n      <td>80.0</td>\n    </tr>\n    <tr>\n      <th>6</th>\n      <td>10030.0</td>\n      <td>99999.0</td>\n      <td>HORNSUND</td>\n      <td>azureml.dataprep.native.DataPrepError(\"'Micros...</td>\n      <td>SV</td>\n      <td></td>\n      <td>77000.0</td>\n      <td>15500.0</td>\n      <td>120.0</td>\n    </tr>\n    <tr>\n      <th>7</th>\n      <td>10040.0</td>\n      <td>99999.0</td>\n      <td>NY-ALESUND II</td>\n      <td>azureml.dataprep.native.DataPrepError(\"'Micros...</td>\n      <td>SV</td>\n      <td>ENAS</td>\n      <td>78917.0</td>\n      <td>11933.0</td>\n      <td>80.0</td>\n    </tr>\n    <tr>\n      <th>8</th>\n      <td>10050.0</td>\n      <td>99999.0</td>\n      <td>ISFJORD RADIO</td>\n      <td>azureml.dataprep.native.DataPrepError(\"'Micros...</td>\n      <td>NO</td>\n      <td>ENIS</td>\n      <td>78067.0</td>\n      <td>13633.0</td>\n      <td>50.0</td>\n    </tr>\n    <tr>\n      <th>9</th>\n      <td>10060.0</td>\n      <td>99999.0</td>\n      <td>EDGEOYA</td>\n      <td>azureml.dataprep.native.DataPrepError(\"'Micros...</td>\n      <td>NO</td>\n      <td></td>\n      <td>78250.0</td>\n      <td>22783.0</td>\n      <td>140.0</td>\n    </tr>\n  </tbody>\n</table>\n</div>",
            "text/plain": "   Column1  Column2                         Column3  \\\n0  10010.0  99999.0  JAN MAYEN                        \n1  10014.0  99999.0  SOERSTOKKEN                      \n2  10015.0  99999.0  BRINGELAND                       \n3  10016.0  99999.0  RORVIK/RYUM                      \n4  10017.0  99999.0  FRIGG                            \n5  10020.0  99999.0  VERLEGENHUKEN                    \n6  10030.0  99999.0  HORNSUND                         \n7  10040.0  99999.0  NY-ALESUND II                    \n8  10050.0  99999.0  ISFJORD RADIO                    \n9  10060.0  99999.0  EDGEOYA                          \n\n                                             Column4 Column5 Column6  Column7  \\\n0  azureml.dataprep.native.DataPrepError(\"'Micros...  JN      ENJA    70933.0   \n1  azureml.dataprep.native.DataPrepError(\"'Micros...  NO      ENSO    59783.0   \n2  azureml.dataprep.native.DataPrepError(\"'Micros...  NO      ENBL    61383.0   \n3  azureml.dataprep.native.DataPrepError(\"'Micros...  NO              64850.0   \n4  azureml.dataprep.native.DataPrepError(\"'Micros...  NO      ENFR    59933.0   \n5  azureml.dataprep.native.DataPrepError(\"'Micros...  SV              80050.0   \n6  azureml.dataprep.native.DataPrepError(\"'Micros...  SV              77000.0   \n7  azureml.dataprep.native.DataPrepError(\"'Micros...  SV      ENAS    78917.0   \n8  azureml.dataprep.native.DataPrepError(\"'Micros...  NO      ENIS    78067.0   \n9  azureml.dataprep.native.DataPrepError(\"'Micros...  NO              78250.0   \n\n   Column8  Column9  \n0  -8667.0     90.0  \n1   5350.0    500.0  \n2   5867.0   3270.0  \n3  11233.0    140.0  \n4   2417.0    480.0  \n5  16250.0     80.0  \n6  15500.0    120.0  \n7  11933.0     80.0  \n8  13633.0     50.0  \n9  22783.0    140.0  "
          },
          "metadata": {}
        }
      ]
    },
    {
      "metadata": {},
      "cell_type": "markdown",
      "source": "When executed, the new Dataflow returns the same results as the one we saved in our package. Since this reference is resolved on execution, updating the package file results in the changes being visible when re-executing the referencing Dataflow."
    },
    {
      "metadata": {
        "trusted": true
      },
      "cell_type": "code",
      "source": "df = df.take(5)\npkg = dprep.Package(df)\npkg.save(pkg_path)\n\nnew_df.head(10)",
      "execution_count": 3,
      "outputs": [
        {
          "output_type": "execute_result",
          "execution_count": 3,
          "data": {
            "text/html": "<div>\n<style scoped>\n    .dataframe tbody tr th:only-of-type {\n        vertical-align: middle;\n    }\n\n    .dataframe tbody tr th {\n        vertical-align: top;\n    }\n\n    .dataframe thead th {\n        text-align: right;\n    }\n</style>\n<table border=\"1\" class=\"dataframe\">\n  <thead>\n    <tr style=\"text-align: right;\">\n      <th></th>\n      <th>Column1</th>\n      <th>Column2</th>\n      <th>Column3</th>\n      <th>Column4</th>\n      <th>Column5</th>\n      <th>Column6</th>\n      <th>Column7</th>\n      <th>Column8</th>\n      <th>Column9</th>\n    </tr>\n  </thead>\n  <tbody>\n    <tr>\n      <th>0</th>\n      <td>10010.0</td>\n      <td>99999.0</td>\n      <td>JAN MAYEN</td>\n      <td>azureml.dataprep.native.DataPrepError(\"'Micros...</td>\n      <td>JN</td>\n      <td>ENJA</td>\n      <td>70933.0</td>\n      <td>-8667.0</td>\n      <td>90.0</td>\n    </tr>\n    <tr>\n      <th>1</th>\n      <td>10014.0</td>\n      <td>99999.0</td>\n      <td>SOERSTOKKEN</td>\n      <td>azureml.dataprep.native.DataPrepError(\"'Micros...</td>\n      <td>NO</td>\n      <td>ENSO</td>\n      <td>59783.0</td>\n      <td>5350.0</td>\n      <td>500.0</td>\n    </tr>\n    <tr>\n      <th>2</th>\n      <td>10015.0</td>\n      <td>99999.0</td>\n      <td>BRINGELAND</td>\n      <td>azureml.dataprep.native.DataPrepError(\"'Micros...</td>\n      <td>NO</td>\n      <td>ENBL</td>\n      <td>61383.0</td>\n      <td>5867.0</td>\n      <td>3270.0</td>\n    </tr>\n    <tr>\n      <th>3</th>\n      <td>10016.0</td>\n      <td>99999.0</td>\n      <td>RORVIK/RYUM</td>\n      <td>azureml.dataprep.native.DataPrepError(\"'Micros...</td>\n      <td>NO</td>\n      <td></td>\n      <td>64850.0</td>\n      <td>11233.0</td>\n      <td>140.0</td>\n    </tr>\n    <tr>\n      <th>4</th>\n      <td>10017.0</td>\n      <td>99999.0</td>\n      <td>FRIGG</td>\n      <td>azureml.dataprep.native.DataPrepError(\"'Micros...</td>\n      <td>NO</td>\n      <td>ENFR</td>\n      <td>59933.0</td>\n      <td>2417.0</td>\n      <td>480.0</td>\n    </tr>\n  </tbody>\n</table>\n</div>",
            "text/plain": "   Column1  Column2                         Column3  \\\n0  10010.0  99999.0  JAN MAYEN                        \n1  10014.0  99999.0  SOERSTOKKEN                      \n2  10015.0  99999.0  BRINGELAND                       \n3  10016.0  99999.0  RORVIK/RYUM                      \n4  10017.0  99999.0  FRIGG                            \n\n                                             Column4 Column5 Column6  Column7  \\\n0  azureml.dataprep.native.DataPrepError(\"'Micros...  JN      ENJA    70933.0   \n1  azureml.dataprep.native.DataPrepError(\"'Micros...  NO      ENSO    59783.0   \n2  azureml.dataprep.native.DataPrepError(\"'Micros...  NO      ENBL    61383.0   \n3  azureml.dataprep.native.DataPrepError(\"'Micros...  NO              64850.0   \n4  azureml.dataprep.native.DataPrepError(\"'Micros...  NO      ENFR    59933.0   \n\n   Column8  Column9  \n0  -8667.0     90.0  \n1   5350.0    500.0  \n2   5867.0   3270.0  \n3  11233.0    140.0  \n4   2417.0    480.0  "
          },
          "metadata": {}
        }
      ]
    },
    {
      "metadata": {},
      "cell_type": "markdown",
      "source": "As we can see, even though we did not modify new_df, it now returns only 5 records, as the package was updated with the Dataflow that resulted from calling `df.take(5)`."
    },
    {
      "metadata": {
        "trusted": true
      },
      "cell_type": "code",
      "source": "",
      "execution_count": null,
      "outputs": []
    },
    {
      "metadata": {
        "trusted": true
      },
      "cell_type": "code",
      "source": "",
      "execution_count": null,
      "outputs": []
    }
  ],
  "metadata": {
    "kernelspec": {
      "name": "python36",
      "display_name": "Python 3.6",
      "language": "python"
    },
    "language_info": {
      "mimetype": "text/x-python",
      "nbconvert_exporter": "python",
      "name": "python",
      "pygments_lexer": "ipython3",
      "version": "3.6.6",
      "file_extension": ".py",
      "codemirror_mode": {
        "version": 3,
        "name": "ipython"
      }
    }
  },
  "nbformat": 4,
  "nbformat_minor": 2
}